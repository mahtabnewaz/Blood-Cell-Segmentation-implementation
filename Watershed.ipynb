{
 "cells": [
  {
   "cell_type": "code",
   "execution_count": 1,
   "id": "61715ba6",
   "metadata": {
    "execution": {
     "iopub.execute_input": "2024-09-23T10:48:38.149620Z",
     "iopub.status.busy": "2024-09-23T10:48:38.148997Z",
     "iopub.status.idle": "2024-09-23T10:48:38.379032Z",
     "shell.execute_reply": "2024-09-23T10:48:38.378147Z"
    },
    "papermill": {
     "duration": 0.238782,
     "end_time": "2024-09-23T10:48:38.381178",
     "exception": false,
     "start_time": "2024-09-23T10:48:38.142396",
     "status": "completed"
    },
    "tags": []
   },
   "outputs": [],
   "source": [
    "import os \n",
    "import numpy as np\n",
    "import cv2\n",
    "from matplotlib import pyplot as plt\n",
    "import skimage\n"
   ]
  },
  {
   "cell_type": "markdown",
   "id": "d5777985",
   "metadata": {
    "papermill": {
     "duration": 0.004623,
     "end_time": "2024-09-23T10:48:38.390859",
     "exception": false,
     "start_time": "2024-09-23T10:48:38.386236",
     "status": "completed"
    },
    "tags": []
   },
   "source": [
    "# Importing original data to kaggle's working directory"
   ]
  },
  {
   "cell_type": "code",
   "execution_count": 2,
   "id": "03d1e945",
   "metadata": {
    "execution": {
     "iopub.execute_input": "2024-09-23T10:48:38.401570Z",
     "iopub.status.busy": "2024-09-23T10:48:38.401228Z",
     "iopub.status.idle": "2024-09-23T10:49:05.798207Z",
     "shell.execute_reply": "2024-09-23T10:49:05.797101Z"
    },
    "papermill": {
     "duration": 27.40518,
     "end_time": "2024-09-23T10:49:05.800988",
     "exception": false,
     "start_time": "2024-09-23T10:48:38.395808",
     "status": "completed"
    },
    "tags": []
   },
   "outputs": [
    {
     "name": "stdout",
     "output_type": "stream",
     "text": [
      "Renaming and copying complete.\n"
     ]
    }
   ],
   "source": [
    "import shutil\n",
    "\n",
    "# Path to your 'original' folder (read-only)\n",
    "original_folder = '/kaggle/input/watershed/Final data/Final data/New folder/Original'\n",
    "\n",
    "# Path to a writable directory\n",
    "working_folder = '/kaggle/working/original_renamed/'\n",
    "\n",
    "# Create the writable directory if it doesn't exist\n",
    "if not os.path.exists(working_folder):\n",
    "    os.makedirs(working_folder)\n",
    "\n",
    "# List all the image files in the 'original' folder\n",
    "image_files = sorted(os.listdir(original_folder))\n",
    "\n",
    "# Loop through the files, copy to writable directory, and rename\n",
    "for i, filename in enumerate(image_files):\n",
    "    # Get the file extension (e.g., .jpg or .png)\n",
    "    file_extension = os.path.splitext(filename)[1]\n",
    "    \n",
    "    # Create a new filename (e.g., img_0001.png, img_0002.png, etc.)\n",
    "    new_filename = f\"{i+1:04d}{file_extension}\"\n",
    "    \n",
    "    # Full path to the current file\n",
    "    current_path = os.path.join(original_folder, filename)\n",
    "    \n",
    "    # Full path to the new file in the writable directory\n",
    "    new_path = os.path.join(working_folder, new_filename)\n",
    "    \n",
    "    # Copy and rename the file to the writable folder\n",
    "    shutil.copy(current_path, new_path)\n",
    "\n",
    "print(\"Renaming and copying complete.\")"
   ]
  },
  {
   "cell_type": "markdown",
   "id": "bcf660fe",
   "metadata": {
    "papermill": {
     "duration": 0.004726,
     "end_time": "2024-09-23T10:49:05.810853",
     "exception": false,
     "start_time": "2024-09-23T10:49:05.806127",
     "status": "completed"
    },
    "tags": []
   },
   "source": [
    "# Importing Mask data to kaggle's working directory"
   ]
  },
  {
   "cell_type": "code",
   "execution_count": 3,
   "id": "04391379",
   "metadata": {
    "execution": {
     "iopub.execute_input": "2024-09-23T10:49:05.822247Z",
     "iopub.status.busy": "2024-09-23T10:49:05.821886Z",
     "iopub.status.idle": "2024-09-23T10:49:10.665094Z",
     "shell.execute_reply": "2024-09-23T10:49:10.663968Z"
    },
    "papermill": {
     "duration": 4.851279,
     "end_time": "2024-09-23T10:49:10.667169",
     "exception": false,
     "start_time": "2024-09-23T10:49:05.815890",
     "status": "completed"
    },
    "tags": []
   },
   "outputs": [
    {
     "name": "stdout",
     "output_type": "stream",
     "text": [
      "Renaming and copying of mask images complete.\n"
     ]
    }
   ],
   "source": [
    "import shutil\n",
    "\n",
    "# Path to your 'mask' folder (read-only)\n",
    "mask_folder = '/kaggle/input/watershed/Final data/Final data/New folder/Mask'\n",
    "\n",
    "# Path to a writable directory for renamed masks\n",
    "mask_working_folder = '/kaggle/working/mask_renamed/'\n",
    "\n",
    "# Create the writable directory if it doesn't exist\n",
    "if not os.path.exists(mask_working_folder):\n",
    "    os.makedirs(mask_working_folder)\n",
    "\n",
    "# List all the mask image files in the 'mask' folder\n",
    "mask_files = sorted(os.listdir(mask_folder))\n",
    "\n",
    "# Loop through the files, copy to writable directory, and rename\n",
    "for i, filename in enumerate(mask_files):\n",
    "    # Get the file extension (e.g., .jpg or .png)\n",
    "    file_extension = os.path.splitext(filename)[1]\n",
    "    \n",
    "    # Create a new filename (e.g., mask_0001.png, mask_0002.png, etc.)\n",
    "    new_filename = f\"{i+1:04d}{file_extension}\"\n",
    "    \n",
    "    # Full path to the current file\n",
    "    current_mask_path = os.path.join(mask_folder, filename)\n",
    "    \n",
    "    # Full path to the new file in the writable directory\n",
    "    new_mask_path = os.path.join(mask_working_folder, new_filename)\n",
    "    \n",
    "    # Copy and rename the file to the writable folder\n",
    "    shutil.copy(current_mask_path, new_mask_path)\n",
    "\n",
    "print(\"Renaming and copying of mask images complete.\")"
   ]
  },
  {
   "cell_type": "markdown",
   "id": "b4a1b932",
   "metadata": {
    "papermill": {
     "duration": 0.004854,
     "end_time": "2024-09-23T10:49:10.677244",
     "exception": false,
     "start_time": "2024-09-23T10:49:10.672390",
     "status": "completed"
    },
    "tags": []
   },
   "source": [
    "# setting directory variables"
   ]
  },
  {
   "cell_type": "code",
   "execution_count": 4,
   "id": "f9e25556",
   "metadata": {
    "execution": {
     "iopub.execute_input": "2024-09-23T10:49:10.688448Z",
     "iopub.status.busy": "2024-09-23T10:49:10.688088Z",
     "iopub.status.idle": "2024-09-23T10:49:10.692208Z",
     "shell.execute_reply": "2024-09-23T10:49:10.691377Z"
    },
    "papermill": {
     "duration": 0.01197,
     "end_time": "2024-09-23T10:49:10.694155",
     "exception": false,
     "start_time": "2024-09-23T10:49:10.682185",
     "status": "completed"
    },
    "tags": []
   },
   "outputs": [],
   "source": [
    "image_dir = '/kaggle/working/original_renamed'\n",
    "output_dir = '/kaggle/working/watershed_segmented_mask'"
   ]
  },
  {
   "cell_type": "markdown",
   "id": "35b998c5",
   "metadata": {
    "papermill": {
     "duration": 0.004687,
     "end_time": "2024-09-23T10:49:10.703679",
     "exception": false,
     "start_time": "2024-09-23T10:49:10.698992",
     "status": "completed"
    },
    "tags": []
   },
   "source": [
    "# Sorting all the images "
   ]
  },
  {
   "cell_type": "code",
   "execution_count": 5,
   "id": "011ba3f7",
   "metadata": {
    "execution": {
     "iopub.execute_input": "2024-09-23T10:49:10.714464Z",
     "iopub.status.busy": "2024-09-23T10:49:10.714173Z",
     "iopub.status.idle": "2024-09-23T10:49:10.723154Z",
     "shell.execute_reply": "2024-09-23T10:49:10.722341Z"
    },
    "papermill": {
     "duration": 0.016852,
     "end_time": "2024-09-23T10:49:10.725371",
     "exception": false,
     "start_time": "2024-09-23T10:49:10.708519",
     "status": "completed"
    },
    "tags": []
   },
   "outputs": [
    {
     "name": "stdout",
     "output_type": "stream",
     "text": [
      "['0001.png', '0002.png', '0003.png', '0004.png', '0005.png', '0006.png', '0007.png', '0009.png', '0010.png', '0011.png', '0012.png', '0013.png', '0014.png', '0015.png', '0016.png', '0018.png', '0019.png', '0020.png', '0021.png', '0022.png', '0024.png', '0025.png', '0026.png', '0027.png', '0028.png', '0029.png', '0030.png', '0031.png', '0032.png', '0033.png', '0034.png', '0035.png', '0036.png', '0037.png', '0038.png', '0039.png', '0040.png', '0041.png', '0042.png', '0043.png', '0045.png', '0046.png', '0047.png', '0048.png', '0049.png', '0050.png', '0051.png', '0052.png', '0053.png', '0056.png', '0058.png', '0059.png', '0060.png', '0061.png', '0062.png', '0063.png', '0064.png', '0066.png', '0067.png', '0068.png', '0069.png', '0070.png', '0071.png', '0072.png', '0073.png', '0074.png', '0075.png', '0076.png', '0077.png', '0078.png', '0079.png', '0080.png', '0081.png', '0083.png', '0084.png', '0085.png', '0086.png', '0087.png', '0088.png', '0089.png', '0090.png', '0091.png', '0092.png', '0093.png', '0094.png', '0095.png', '0096.png', '0097.png', '0098.png', '0099.png', '0100.png', '0101.png', '0102.png', '0103.png', '0104.png', '0105.png', '0106.png', '0107.png', '0108.png', '0109.png', '0110.png', '0112.png', '0113.png', '0115.png', '0116.png', '0117.png', '0118.png', '0119.png', '0120.png', '0121.png', '0122.png', '0123.png', '0124.png', '0125.png', '0126.png', '0127.png', '0128.png', '0129.png', '0130.png', '0131.png', '0132.png', '0133.png', '0134.png', '0135.png', '0136.png', '0137.png', '0138.png', '0139.png', '0141.png', '0142.png', '0143.png', '0144.png', '0145.png', '0146.png', '0147.png', '0149.png', '0150.png', '0151.png', '0152.png', '0153.png', '0154.png', '0155.png', '0156.png', '0157.png', '0158.png', '0159.png', '0161.png', '0162.png', '0163.png', '0164.png', '0165.png', '0166.png', '0167.png', '0168.png', '0169.png', '0170.png', '0171.png', '0173.png', '0174.png', '0175.png', '0176.png', '0177.png', '0179.png', '0180.png', '0181.png', '0182.png', '0183.png', '0184.png', '0185.png', '0186.png', '0187.png', '0189.png', '0190.png', '0191.png', '0192.png', '0193.png', '0194.png', '0195.png', '0196.png', '0197.png', '0198.png', '0199.png', '0200.png', '0201.png', '0202.png', '0205.png', '0206.png', '0207.png', '0208.png', '0209.png', '0210.png', '0211.png', '0212.png', '0213.png', '0214.png', '0215.png', '0216.png', '0217.png', '0218.png', '0219.png', '0220.png', '0221.png', '0222.png', '0224.png', '0225.png', '0226.png', '0227.png', '0228.png', '0229.png', '0230.png', '0231.png', '0232.png', '0233.png', '0234.png', '0235.png', '0236.png', '0237.png', '0238.png', '0239.png', '0240.png', '0241.png', '0242.png', '0243.png', '0244.png', '0245.png', '0246.png', '0248.png', '0249.png', '0250.png', '0251.png', '0253.png', '0254.png', '0255.png', '0256.png', '0257.png', '0258.png', '0259.png', '0260.png', '0261.png', '0263.png', '0264.png', '0265.png', '0268.png', '0269.png', '0270.png', '0271.png', '0272.png', '0273.png', '0274.png', '0276.png', '0279.png', '0280.png', '0281.png', '0282.png', '0283.png', '0284.png', '0285.png', '0286.png', '0287.png', '0288.png', '0289.png', '0290.png', '0291.png', '0292.png', '0293.png', '0294.png', '0295.png', '0296.png', '0297.png', '0298.png', '0300.png', '0301.png', '0302.png', '0303.png', '0304.png', '0305.png', '0306.png', '0307.png', '0308.png', '0310.png', '0311.png', '0312.png', '0313.png', '0314.png', '0315.png', '0316.png', '0317.png', '0318.png', '0319.png', '0320.png', '0321.png', '0322.png', '0324.png', '0325.png', '0326.png', '0327.png', '0329.png', '0330.png', '0331.png', '0332.png', '0333.png', '0334.png', '0335.png', '0336.png', '0337.png', '0338.png', '0339.png', '0340.png', '0341.png', '0343.png', '0344.png', '0345.png', '0346.png', '0347.png', '0348.png', '0349.png', '0350.png', '0351.png', '0352.png', '0353.png', '0354.png', '0355.png', '0356.png', '0358.png', '0359.png', '0360.png', '0361.png', '0362.png', '0363.png', '0364.png', '0365.png', '0366.png', '0367.png', '0368.png', '0369.png', '0370.png', '0371.png', '0372.png', '0373.png', '0374.png', '0375.png', '0376.png', '0377.png', '0378.png', '0379.png', '0380.png', '0381.png', '0383.png', '0384.png', '0385.png', '0386.png', '0387.png', '0388.png', '0389.png', '0390.png', '0393.png', '0394.png', '0395.png', '0396.png', '0397.png', '0398.png', '0399.png', '0400.png', '0401.png', '0402.png', '0403.png', '0404.png', '0405.png', '0406.png', '0408.png', '0411.png', '0413.png', '0414.png', '0415.png', '0416.png', '0417.png', '0418.png', '0419.png', '0420.png', '0423.png', '0424.png', '0425.png', '0426.png', '0427.png', '0428.png', '0429.png', '0430.png', '0431.png', '0432.png', '0433.png', '0434.png', '0435.png', '0436.png', '0437.png', '0438.png', '0439.png', '0440.png', '0441.png', '0442.png', '0443.png', '0444.png', '0445.png', '0446.png', '0447.png', '0448.png', '0449.png', '0450.png', '0451.png', '0452.png', '0453.png', '0454.png', '0455.png', '0456.png', '0458.png', '0459.png', '0460.png', '0461.png', '0463.png', '0465.png', '0466.png', '0467.png', '0468.png', '0469.png', '0470.png', '0471.png', '0472.png', '0473.png', '0474.png', '0475.png', '0476.png', '0477.png', '0478.png', '0479.png', '0480.png', '0481.png', '0482.png', '0483.png', '0484.png', '0485.png', '0486.png', '0489.png', '0490.png', '0491.png', '0492.png', '0493.png', '0494.png', '0496.png', '0497.png', '0498.png', '0499.png', '0500.png', '0501.png', '0502.png', '0503.png', '0504.png', '0505.png', '0506.png', '0507.png', '0508.png', '0509.png', '0510.png', '0511.png', '0512.png', '0514.png', '0515.png', '0516.png', '0517.png', '0518.png', '0519.png', '0520.png', '0521.png', '0522.png', '0523.png', '0524.png', '0525.png', '0526.png', '0527.png', '0528.png', '0529.png', '0530.png', '0531.png', '0532.png', '0533.png', '0534.png', '0535.png', '0536.png', '0537.png', '0539.png', '0540.png', '0541.png', '0542.png', '0543.png', '0544.png', '0545.png', '0546.png', '0547.png', '0548.png', '0549.png', '0550.png', '0551.png', '0552.png', '0553.png', '0554.png', '0555.png', '0556.png', '0557.png', '0558.png', '0559.png', '0560.png', '0561.png', '0562.png', '0564.png', '0566.png', '0567.png', '0568.png', '0569.png', '0570.png', '0571.png', '0572.png', '0573.png', '0574.png', '0575.png', '0576.png', '0577.png', '0578.png', '0579.png', '0580.png', '0581.png', '0582.png', '0583.png', '0584.png', '0585.png', '0586.png', '0587.png', '0588.png', '0589.png', '0590.png', '0591.png', '0592.png', '0594.png', '0595.png', '0596.png', '0598.png', '0599.png', '0600.png', '0601.png', '0602.png', '0603.png', '0604.png', '0605.png', '0606.png', '0607.png', '0608.png', '0609.png', '0610.png', '0611.png', '0612.png', '0613.png', '0614.png', '0615.png', '0616.png', '0618.png', '0619.png', '0620.png', '0621.png', '0622.png', '0623.png', '0624.png', '0625.png', '0626.png', '0627.png', '0628.png', '0629.png', '0630.png', '0631.png', '0632.png', '0633.png', '0634.png', '0635.png', '0636.png', '0638.png', '0639.png', '0640.png', '0641.png', '0642.png', '0643.png', '0644.png', '0645.png', '0646.png', '0647.png', '0648.png', '0649.png', '0650.png', '0651.png', '0652.png', '0653.png', '0654.png', '0655.png', '0657.png', '0658.png', '0659.png', '0660.png', '0661.png', '0662.png', '0663.png', '0664.png', '0665.png', '0667.png', '0668.png', '0669.png', '0670.png', '0671.png', '0672.png', '0674.png', '0675.png', '0676.png', '0677.png', '0678.png', '0679.png', '0680.png', '0681.png', '0682.png', '0683.png', '0684.png', '0685.png', '0686.png', '0687.png', '0688.png', '0689.png', '0692.png', '0693.png', '0694.png', '0695.png', '0696.png', '0697.png', '0698.png', '0699.png', '0700.png', '0701.png', '0702.png', '0703.png', '0704.png', '0705.png', '0706.png', '0707.png', '0708.png', '0709.png', '0710.png', '0712.png', '0713.png', '0716.png', '0717.png', '0718.png', '0719.png', '0720.png', '0721.png', '0722.png', '0723.png', '0724.png', '0725.png', '0726.png', '0727.png', '0728.png', '0729.png', '0730.png', '0731.png', '0733.png', '0734.png', '0735.png', '0736.png', '0737.png', '0738.png', '0739.png', '0740.png', '0741.png', '0742.png', '0743.png', '0744.png', '0745.png', '0746.png', '0747.png', '0748.png', '0750.png', '0751.png', '0754.png', '0755.png', '0756.png', '0757.png', '0758.png', '0759.png', '0760.png', '0761.png', '0762.png', '0763.png', '0764.png', '0765.png', '0766.png', '0767.png', '0768.png', '0769.png', '0770.png', '0771.png', '0772.png', '0773.png', '0774.png', '0775.png', '0776.png', '0777.png', '0778.png', '0779.png', '0780.png', '0783.png', '0784.png', '0785.png', '0786.png', '0787.png', '0788.png', '0789.png', '0790.png', '0791.png', '0792.png', '0793.png', '0794.png', '0795.png', '0796.png', '0797.png', '0798.png', '0799.png', '0800.png', '0801.png', '0803.png', '0804.png', '0805.png', '0806.png', '0807.png', '0808.png', '0809.png', '0810.png', '0811.png', '0813.png', '0814.png', '0815.png', '0816.png', '0817.png', '0818.png', '0819.png', '0820.png', '0821.png', '0822.png', '0823.png', '0824.png', '0825.png', '0826.png', '0827.png', '0828.png', '0829.png', '0831.png', '0832.png', '0833.png', '0834.png', '0836.png', '0837.png', '0838.png', '0839.png', '0840.png', '0842.png', '0844.png', '0845.png', '0846.png', '0847.png', '0848.png', '0849.png', '0850.png', '0852.png', '0853.png', '0854.png', '0855.png', '0856.png', '0857.png', '0858.png', '0859.png', '0860.png', '0861.png', '0862.png', '0863.png', '0864.png', '0865.png', '0866.png', '0867.png', '0868.png', '0869.png', '0870.png', '0871.png', '0872.png', '0873.png', '0874.png', '0876.png', '0877.png', '0878.png', '0879.png', '0880.png', '0882.png', '0883.png', '0884.png', '0885.png', '0886.png', '0887.png', '0888.png', '0889.png', '0890.png', '0891.png', '0892.png', '0893.png', '0894.png', '0895.png', '0896.png', '0897.png', '0898.png', '0899.png', '0900.png', '0901.png', '0902.png', '0903.png', '0904.png', '0906.png', '0907.png', '0908.png', '0909.png', '0910.png', '0911.png', '0912.png', '0913.png', '0914.png', '0915.png', '0916.png', '0917.png', '0919.png', '0920.png', '0921.png', '0922.png', '0923.png', '0924.png', '0925.png', '0926.png', '0927.png', '0928.png', '0929.png', '0930.png', '0931.png', '0932.png', '0933.png', '0934.png', '0935.png', '0936.png', '0937.png', '0938.png', '0940.png', '0941.png', '0942.png', '0943.png', '0944.png', '0945.png', '0946.png', '0947.png', '0948.png', '0949.png', '0950.png', '0951.png', '0952.png', '0953.png', '0954.png', '0955.png', '0958.png', '0959.png', '0960.png', '0961.png', '0962.png', '0963.png', '0964.png', '0966.png', '0967.png', '0968.png', '0969.png', '0970.png', '0971.png', '0972.png', '0973.png', '0974.png', '0975.png', '0976.png', '0977.png', '0979.png', '0980.png', '0981.png', '0982.png', '0983.png', '0985.png', '0986.png', '0987.png', '0989.png', '0990.png', '0991.png', '0992.png', '0993.png', '0994.png', '0996.png', '0997.png', '0998.png', '0999.png', '1000.png', '1001.png', '1003.png', '1004.png', '1005.png', '1006.png', '1007.png', '1008.png', '1009.png', '1010.png', '1011.png', '1012.png', '1013.png', '1015.png', '1016.png', '1018.png', '1019.png', '1020.png', '1021.png', '1022.png', '1023.png', '1024.png', '1025.png', '1026.png', '1027.png', '1028.png', '1029.png', '1030.png', '1031.png', '1032.png', '1033.png', '1034.png', '1035.png', '1036.png', '1037.png', '1039.png', '1040.png', '1041.png', '1042.png', '1045.png', '1046.png', '1047.png', '1048.png', '1049.png', '1050.png', '1051.png', '1052.png', '1054.png', '1055.png', '1056.png', '1057.png', '1058.png', '1059.png', '1060.png', '1061.png', '1062.png', '1063.png', '1064.png', '1065.png', '1066.png', '1067.png', '1068.png', '1069.png', '1070.png', '1071.png', '1073.png', '1074.png', '1075.png', '1076.png', '1077.png', '1079.png', '1080.png', '1081.png', '1082.png', '1083.png', '1084.png', '1085.png', '1086.png', '1087.png', '1089.png', '1090.png', '1091.png', '1092.png', '1093.png', '1094.png', '1095.png', '1096.png', '1097.png', '1098.png', '1099.png', '1100.png', '1101.png', '1102.png', '1103.png', '1104.png', '1105.png', '1106.png', '1107.png', '1108.png', '1109.png', '1110.png', '1111.png', '1112.png', '1113.png', '1114.png', '1115.png', '1116.png', '1117.png', '1119.png', '1120.png', '1121.png', '1123.png', '1125.png', '1126.png', '1127.png', '1128.png', '1129.png', '1130.png', '1131.png', '1132.png', '1133.png', '1134.png', '1135.png', '1136.png', '1137.png', '1138.png', '1139.png', '1140.png', '1141.png', '1142.png', '1143.png', '1144.png', '1145.png', '1146.png', '1147.png', '1148.png', '1149.png', '1150.png', '1151.png', '1152.png', '1154.png', '1156.png', '1157.png', '1158.png', '1159.png', '1160.png', '1162.png', '1163.png', '1165.png', '1166.png', '1167.png', '1168.png', '1169.png', '1170.png', '1171.png', '1172.png', '1173.png', '1175.png', '1176.png', '1177.png', '1178.png', '1179.png', '1180.png', '1181.png', '1182.png', '1183.png', '1184.png', '1185.png', '1186.png', '1187.png', '1188.png', '1189.png', '1190.png', '1191.png', '1192.png', '1194.png', '1195.png', '1196.png', '1197.png', '1198.png', '1199.png', '1200.png', '1202.png', '1203.png', '1204.png', '1205.png', '1206.png', '1207.png', '1208.png', '1209.png', '1210.png', '1211.png', '1212.png', '1213.png', '1214.png', '1215.png', '1217.png', '1218.png', '1219.png', '1220.png', '1221.png', '1222.png', '1223.png', '1224.png', '1225.png', '1227.png', '1228.png', '1229.png', '1230.png', '1231.png', '1232.png', '1233.png', '1235.png', '1236.png', '1237.png', '1239.png', '1240.png', '1241.png', '1242.png', '1244.png', '1245.png', '1246.png', '1248.png', '1250.png', '1251.png', '1252.png', '1253.png', '1254.png', '1255.png', '1256.png', '1257.png', '1258.png', '1259.png', '1260.png', '1261.png', '1262.png', '1263.png', '1264.png', '1265.png', '1266.png', '1268.png', '1269.png', '1270.png', '1271.png', '1272.png', '1273.png', '1274.png', '1275.png', '1276.png', '1277.png', '1278.png', '1279.png', '1280.png', '1281.png', '1282.png', '1283.png', '1284.png', '1285.png', '1286.png', '1287.png', '1288.png', '1289.png', '1290.png', '1291.png', '1292.png', '1293.png', '1294.png', '1295.png', '1296.png', '1297.png', '1299.png', '1300.png', '1301.png', '1302.png', '1303.png', '1304.png', '1305.png', '1306.png', '1307.png', '1308.png', '1309.png', '1310.png', '1311.png', '1312.png', '1313.png', '1314.png', '1315.png', '1316.png', '1317.png', '1318.png', '1319.png', '1320.png', '1321.png', '1322.png', '1323.png', '1324.png', '1325.png', '1326.png', '1327.png', '1328.png']\n"
     ]
    }
   ],
   "source": [
    "def get_numeric_value(filename):\n",
    "    return int(''.join(filter(str.isdigit, filename)))  # Extract digits and convert to an integer\n",
    "\n",
    "# Get all '.png' files in the directory\n",
    "image_files = [f for f in os.listdir(image_dir) if f.endswith('.png')]\n",
    "\n",
    "# Sort files numerically based on the extracted numeric value\n",
    "image_files_sorted = sorted(image_files, key=get_numeric_value)\n",
    "\n",
    "print(image_files_sorted)\n"
   ]
  },
  {
   "cell_type": "markdown",
   "id": "971d3b23",
   "metadata": {
    "papermill": {
     "duration": 0.004878,
     "end_time": "2024-09-23T10:49:10.735368",
     "exception": false,
     "start_time": "2024-09-23T10:49:10.730490",
     "status": "completed"
    },
    "tags": []
   },
   "source": [
    "# Iterating over all the images in the dataset"
   ]
  },
  {
   "cell_type": "code",
   "execution_count": 6,
   "id": "e1392d8d",
   "metadata": {
    "execution": {
     "iopub.execute_input": "2024-09-23T10:49:10.746401Z",
     "iopub.status.busy": "2024-09-23T10:49:10.746133Z",
     "iopub.status.idle": "2024-09-23T10:49:10.752289Z",
     "shell.execute_reply": "2024-09-23T10:49:10.751507Z"
    },
    "papermill": {
     "duration": 0.013845,
     "end_time": "2024-09-23T10:49:10.754191",
     "exception": false,
     "start_time": "2024-09-23T10:49:10.740346",
     "status": "completed"
    },
    "tags": []
   },
   "outputs": [],
   "source": [
    "for image_file in image_files:\n",
    "    img_path = os.path.join(image_dir, image_file)"
   ]
  },
  {
   "cell_type": "markdown",
   "id": "c2e204bb",
   "metadata": {
    "papermill": {
     "duration": 0.005057,
     "end_time": "2024-09-23T10:49:10.764227",
     "exception": false,
     "start_time": "2024-09-23T10:49:10.759170",
     "status": "completed"
    },
    "tags": []
   },
   "source": [
    "# Reading the image"
   ]
  },
  {
   "cell_type": "code",
   "execution_count": 7,
   "id": "1708efa1",
   "metadata": {
    "execution": {
     "iopub.execute_input": "2024-09-23T10:49:10.775240Z",
     "iopub.status.busy": "2024-09-23T10:49:10.774973Z",
     "iopub.status.idle": "2024-09-23T10:49:10.847963Z",
     "shell.execute_reply": "2024-09-23T10:49:10.847278Z"
    },
    "papermill": {
     "duration": 0.080533,
     "end_time": "2024-09-23T10:49:10.849743",
     "exception": false,
     "start_time": "2024-09-23T10:49:10.769210",
     "status": "completed"
    },
    "tags": []
   },
   "outputs": [],
   "source": [
    "src = cv2.imread(img_path)\n",
    "img = src.copy()\n",
    "gray = img[:,:,0]"
   ]
  },
  {
   "cell_type": "markdown",
   "id": "f5755d99",
   "metadata": {
    "papermill": {
     "duration": 0.004772,
     "end_time": "2024-09-23T10:49:10.859974",
     "exception": false,
     "start_time": "2024-09-23T10:49:10.855202",
     "status": "completed"
    },
    "tags": []
   },
   "source": [
    "# Applying watershed algorithm for segmenting all the original images and saving them into a new directory"
   ]
  },
  {
   "cell_type": "code",
   "execution_count": 8,
   "id": "a5be79e5",
   "metadata": {
    "execution": {
     "iopub.execute_input": "2024-09-23T10:49:10.871054Z",
     "iopub.status.busy": "2024-09-23T10:49:10.870759Z",
     "iopub.status.idle": "2024-09-23T10:52:00.202190Z",
     "shell.execute_reply": "2024-09-23T10:52:00.201090Z"
    },
    "papermill": {
     "duration": 169.339875,
     "end_time": "2024-09-23T10:52:00.204736",
     "exception": false,
     "start_time": "2024-09-23T10:49:10.864861",
     "status": "completed"
    },
    "tags": []
   },
   "outputs": [
    {
     "name": "stdout",
     "output_type": "stream",
     "text": [
      "Found 1209 image files.\n",
      "Segmented image saved: /kaggle/working/watershed_segmented_mask/0862.png\n",
      "Segmented image saved: /kaggle/working/watershed_segmented_mask/0882.png\n",
      "Segmented image saved: /kaggle/working/watershed_segmented_mask/0986.png\n",
      "Segmented image saved: /kaggle/working/watershed_segmented_mask/0814.png\n",
      "Segmented image saved: /kaggle/working/watershed_segmented_mask/0081.png\n",
      "Segmented image saved: /kaggle/working/watershed_segmented_mask/0558.png\n",
      "Segmented image saved: /kaggle/working/watershed_segmented_mask/0224.png\n",
      "Segmented image saved: /kaggle/working/watershed_segmented_mask/0747.png\n",
      "Segmented image saved: /kaggle/working/watershed_segmented_mask/0833.png\n",
      "Segmented image saved: /kaggle/working/watershed_segmented_mask/1123.png\n",
      "Segmented image saved: /kaggle/working/watershed_segmented_mask/0486.png\n",
      "Segmented image saved: /kaggle/working/watershed_segmented_mask/0768.png\n",
      "Segmented image saved: /kaggle/working/watershed_segmented_mask/0901.png\n",
      "Segmented image saved: /kaggle/working/watershed_segmented_mask/0600.png\n",
      "Segmented image saved: /kaggle/working/watershed_segmented_mask/1252.png\n",
      "Segmented image saved: /kaggle/working/watershed_segmented_mask/1083.png\n",
      "Segmented image saved: /kaggle/working/watershed_segmented_mask/0713.png\n",
      "Segmented image saved: /kaggle/working/watershed_segmented_mask/0438.png\n",
      "Segmented image saved: /kaggle/working/watershed_segmented_mask/0352.png\n",
      "Segmented image saved: /kaggle/working/watershed_segmented_mask/1154.png\n",
      "Segmented image saved: /kaggle/working/watershed_segmented_mask/0683.png\n",
      "Segmented image saved: /kaggle/working/watershed_segmented_mask/0921.png\n",
      "Segmented image saved: /kaggle/working/watershed_segmented_mask/1010.png\n",
      "Segmented image saved: /kaggle/working/watershed_segmented_mask/0460.png\n",
      "Segmented image saved: /kaggle/working/watershed_segmented_mask/1104.png\n",
      "Segmented image saved: /kaggle/working/watershed_segmented_mask/0571.png\n",
      "Segmented image saved: /kaggle/working/watershed_segmented_mask/0260.png\n",
      "Segmented image saved: /kaggle/working/watershed_segmented_mask/0568.png\n",
      "Segmented image saved: /kaggle/working/watershed_segmented_mask/1079.png\n",
      "Segmented image saved: /kaggle/working/watershed_segmented_mask/1305.png\n",
      "Segmented image saved: /kaggle/working/watershed_segmented_mask/0308.png\n",
      "Segmented image saved: /kaggle/working/watershed_segmented_mask/0139.png\n",
      "Segmented image saved: /kaggle/working/watershed_segmented_mask/0613.png\n",
      "Segmented image saved: /kaggle/working/watershed_segmented_mask/0562.png\n",
      "Segmented image saved: /kaggle/working/watershed_segmented_mask/0337.png\n",
      "Segmented image saved: /kaggle/working/watershed_segmented_mask/1007.png\n",
      "Segmented image saved: /kaggle/working/watershed_segmented_mask/0816.png\n",
      "Segmented image saved: /kaggle/working/watershed_segmented_mask/0877.png\n",
      "Segmented image saved: /kaggle/working/watershed_segmented_mask/0729.png\n",
      "Segmented image saved: /kaggle/working/watershed_segmented_mask/1023.png\n",
      "Segmented image saved: /kaggle/working/watershed_segmented_mask/0767.png\n",
      "Segmented image saved: /kaggle/working/watershed_segmented_mask/0083.png\n",
      "Segmented image saved: /kaggle/working/watershed_segmented_mask/0821.png\n",
      "Segmented image saved: /kaggle/working/watershed_segmented_mask/1081.png\n",
      "Segmented image saved: /kaggle/working/watershed_segmented_mask/0138.png\n",
      "Segmented image saved: /kaggle/working/watershed_segmented_mask/0884.png\n",
      "Segmented image saved: /kaggle/working/watershed_segmented_mask/1092.png\n",
      "Segmented image saved: /kaggle/working/watershed_segmented_mask/0916.png\n",
      "Segmented image saved: /kaggle/working/watershed_segmented_mask/1144.png\n",
      "Segmented image saved: /kaggle/working/watershed_segmented_mask/1127.png\n",
      "Segmented image saved: /kaggle/working/watershed_segmented_mask/0932.png\n",
      "Segmented image saved: /kaggle/working/watershed_segmented_mask/1109.png\n",
      "Segmented image saved: /kaggle/working/watershed_segmented_mask/0708.png\n",
      "Segmented image saved: /kaggle/working/watershed_segmented_mask/0198.png\n",
      "Segmented image saved: /kaggle/working/watershed_segmented_mask/0560.png\n",
      "Segmented image saved: /kaggle/working/watershed_segmented_mask/0546.png\n",
      "Segmented image saved: /kaggle/working/watershed_segmented_mask/1231.png\n",
      "Segmented image saved: /kaggle/working/watershed_segmented_mask/1280.png\n",
      "Segmented image saved: /kaggle/working/watershed_segmented_mask/0858.png\n",
      "Segmented image saved: /kaggle/working/watershed_segmented_mask/1034.png\n",
      "Segmented image saved: /kaggle/working/watershed_segmented_mask/0971.png\n",
      "Segmented image saved: /kaggle/working/watershed_segmented_mask/0646.png\n",
      "Segmented image saved: /kaggle/working/watershed_segmented_mask/1121.png\n",
      "Segmented image saved: /kaggle/working/watershed_segmented_mask/1229.png\n",
      "Segmented image saved: /kaggle/working/watershed_segmented_mask/0051.png\n",
      "Segmented image saved: /kaggle/working/watershed_segmented_mask/0129.png\n",
      "Segmented image saved: /kaggle/working/watershed_segmented_mask/1167.png\n",
      "Segmented image saved: /kaggle/working/watershed_segmented_mask/0893.png\n",
      "Segmented image saved: /kaggle/working/watershed_segmented_mask/1308.png\n",
      "Segmented image saved: /kaggle/working/watershed_segmented_mask/1178.png\n",
      "Segmented image saved: /kaggle/working/watershed_segmented_mask/0846.png\n",
      "Segmented image saved: /kaggle/working/watershed_segmented_mask/0804.png\n",
      "Segmented image saved: /kaggle/working/watershed_segmented_mask/0554.png\n",
      "Segmented image saved: /kaggle/working/watershed_segmented_mask/0940.png\n",
      "Segmented image saved: /kaggle/working/watershed_segmented_mask/1160.png\n",
      "Segmented image saved: /kaggle/working/watershed_segmented_mask/0232.png\n",
      "Segmented image saved: /kaggle/working/watershed_segmented_mask/0312.png\n",
      "Segmented image saved: /kaggle/working/watershed_segmented_mask/0736.png\n",
      "Segmented image saved: /kaggle/working/watershed_segmented_mask/0730.png\n",
      "Segmented image saved: /kaggle/working/watershed_segmented_mask/0926.png\n",
      "Segmented image saved: /kaggle/working/watershed_segmented_mask/0445.png\n",
      "Segmented image saved: /kaggle/working/watershed_segmented_mask/0981.png\n",
      "Segmented image saved: /kaggle/working/watershed_segmented_mask/0955.png\n",
      "Segmented image saved: /kaggle/working/watershed_segmented_mask/0396.png\n",
      "Segmented image saved: /kaggle/working/watershed_segmented_mask/0469.png\n",
      "Segmented image saved: /kaggle/working/watershed_segmented_mask/0067.png\n",
      "Segmented image saved: /kaggle/working/watershed_segmented_mask/0318.png\n",
      "Segmented image saved: /kaggle/working/watershed_segmented_mask/0248.png\n",
      "Segmented image saved: /kaggle/working/watershed_segmented_mask/1141.png\n",
      "Segmented image saved: /kaggle/working/watershed_segmented_mask/1027.png\n",
      "Segmented image saved: /kaggle/working/watershed_segmented_mask/0659.png\n",
      "Segmented image saved: /kaggle/working/watershed_segmented_mask/0907.png\n",
      "Segmented image saved: /kaggle/working/watershed_segmented_mask/0307.png\n",
      "Segmented image saved: /kaggle/working/watershed_segmented_mask/1140.png\n",
      "Segmented image saved: /kaggle/working/watershed_segmented_mask/0798.png\n",
      "Segmented image saved: /kaggle/working/watershed_segmented_mask/0742.png\n",
      "Segmented image saved: /kaggle/working/watershed_segmented_mask/0497.png\n",
      "Segmented image saved: /kaggle/working/watershed_segmented_mask/0125.png\n",
      "Segmented image saved: /kaggle/working/watershed_segmented_mask/1241.png\n",
      "Segmented image saved: /kaggle/working/watershed_segmented_mask/1285.png\n",
      "Segmented image saved: /kaggle/working/watershed_segmented_mask/1208.png\n",
      "Segmented image saved: /kaggle/working/watershed_segmented_mask/0348.png\n",
      "Segmented image saved: /kaggle/working/watershed_segmented_mask/1325.png\n",
      "Segmented image saved: /kaggle/working/watershed_segmented_mask/1301.png\n",
      "Segmented image saved: /kaggle/working/watershed_segmented_mask/1090.png\n",
      "Segmented image saved: /kaggle/working/watershed_segmented_mask/1188.png\n",
      "Segmented image saved: /kaggle/working/watershed_segmented_mask/0249.png\n",
      "Segmented image saved: /kaggle/working/watershed_segmented_mask/0442.png\n",
      "Segmented image saved: /kaggle/working/watershed_segmented_mask/0706.png\n",
      "Segmented image saved: /kaggle/working/watershed_segmented_mask/0366.png\n",
      "Segmented image saved: /kaggle/working/watershed_segmented_mask/0095.png\n",
      "Segmented image saved: /kaggle/working/watershed_segmented_mask/1230.png\n",
      "Segmented image saved: /kaggle/working/watershed_segmented_mask/0543.png\n",
      "Segmented image saved: /kaggle/working/watershed_segmented_mask/0362.png\n",
      "Segmented image saved: /kaggle/working/watershed_segmented_mask/0029.png\n",
      "Segmented image saved: /kaggle/working/watershed_segmented_mask/0432.png\n",
      "Segmented image saved: /kaggle/working/watershed_segmented_mask/0101.png\n",
      "Segmented image saved: /kaggle/working/watershed_segmented_mask/0137.png\n",
      "Segmented image saved: /kaggle/working/watershed_segmented_mask/0518.png\n",
      "Segmented image saved: /kaggle/working/watershed_segmented_mask/1314.png\n",
      "Segmented image saved: /kaggle/working/watershed_segmented_mask/1213.png\n",
      "Segmented image saved: /kaggle/working/watershed_segmented_mask/1073.png\n",
      "Segmented image saved: /kaggle/working/watershed_segmented_mask/0660.png\n",
      "Segmented image saved: /kaggle/working/watershed_segmented_mask/0994.png\n",
      "Segmented image saved: /kaggle/working/watershed_segmented_mask/0280.png\n",
      "Segmented image saved: /kaggle/working/watershed_segmented_mask/0168.png\n",
      "Segmented image saved: /kaggle/working/watershed_segmented_mask/1147.png\n",
      "Segmented image saved: /kaggle/working/watershed_segmented_mask/0182.png\n",
      "Segmented image saved: /kaggle/working/watershed_segmented_mask/0505.png\n",
      "Segmented image saved: /kaggle/working/watershed_segmented_mask/0503.png\n",
      "Segmented image saved: /kaggle/working/watershed_segmented_mask/1219.png\n",
      "Segmented image saved: /kaggle/working/watershed_segmented_mask/0852.png\n",
      "Segmented image saved: /kaggle/working/watershed_segmented_mask/0219.png\n",
      "Segmented image saved: /kaggle/working/watershed_segmented_mask/0384.png\n",
      "Segmented image saved: /kaggle/working/watershed_segmented_mask/0813.png\n",
      "Segmented image saved: /kaggle/working/watershed_segmented_mask/0241.png\n",
      "Segmented image saved: /kaggle/working/watershed_segmented_mask/0625.png\n",
      "Segmented image saved: /kaggle/working/watershed_segmented_mask/0559.png\n",
      "Segmented image saved: /kaggle/working/watershed_segmented_mask/0985.png\n",
      "Segmented image saved: /kaggle/working/watershed_segmented_mask/1268.png\n",
      "Segmented image saved: /kaggle/working/watershed_segmented_mask/0942.png\n",
      "Segmented image saved: /kaggle/working/watershed_segmented_mask/0375.png\n",
      "Segmented image saved: /kaggle/working/watershed_segmented_mask/1119.png\n",
      "Segmented image saved: /kaggle/working/watershed_segmented_mask/1075.png\n",
      "Segmented image saved: /kaggle/working/watershed_segmented_mask/0106.png\n",
      "Segmented image saved: /kaggle/working/watershed_segmented_mask/1318.png\n",
      "Segmented image saved: /kaggle/working/watershed_segmented_mask/0982.png\n",
      "Segmented image saved: /kaggle/working/watershed_segmented_mask/0157.png\n",
      "Segmented image saved: /kaggle/working/watershed_segmented_mask/0401.png\n",
      "Segmented image saved: /kaggle/working/watershed_segmented_mask/0974.png\n",
      "Segmented image saved: /kaggle/working/watershed_segmented_mask/0598.png\n",
      "Segmented image saved: /kaggle/working/watershed_segmented_mask/0735.png\n",
      "Segmented image saved: /kaggle/working/watershed_segmented_mask/0872.png\n",
      "Segmented image saved: /kaggle/working/watershed_segmented_mask/0289.png\n",
      "Segmented image saved: /kaggle/working/watershed_segmented_mask/0925.png\n",
      "Segmented image saved: /kaggle/working/watershed_segmented_mask/1120.png\n",
      "Segmented image saved: /kaggle/working/watershed_segmented_mask/0191.png\n",
      "Segmented image saved: /kaggle/working/watershed_segmented_mask/0661.png\n",
      "Segmented image saved: /kaggle/working/watershed_segmented_mask/1137.png\n",
      "Segmented image saved: /kaggle/working/watershed_segmented_mask/1001.png\n",
      "Segmented image saved: /kaggle/working/watershed_segmented_mask/1260.png\n",
      "Segmented image saved: /kaggle/working/watershed_segmented_mask/0016.png\n",
      "Segmented image saved: /kaggle/working/watershed_segmented_mask/1087.png\n",
      "Segmented image saved: /kaggle/working/watershed_segmented_mask/1099.png\n",
      "Segmented image saved: /kaggle/working/watershed_segmented_mask/1185.png\n",
      "Segmented image saved: /kaggle/working/watershed_segmented_mask/1182.png\n",
      "Segmented image saved: /kaggle/working/watershed_segmented_mask/0183.png\n",
      "Segmented image saved: /kaggle/working/watershed_segmented_mask/0573.png\n",
      "Segmented image saved: /kaggle/working/watershed_segmented_mask/0340.png\n",
      "Segmented image saved: /kaggle/working/watershed_segmented_mask/1036.png\n",
      "Segmented image saved: /kaggle/working/watershed_segmented_mask/1303.png\n",
      "Segmented image saved: /kaggle/working/watershed_segmented_mask/0288.png\n",
      "Segmented image saved: /kaggle/working/watershed_segmented_mask/0745.png\n",
      "Segmented image saved: /kaggle/working/watershed_segmented_mask/0864.png\n",
      "Segmented image saved: /kaggle/working/watershed_segmented_mask/1021.png\n",
      "Segmented image saved: /kaggle/working/watershed_segmented_mask/0733.png\n",
      "Segmented image saved: /kaggle/working/watershed_segmented_mask/0103.png\n",
      "Segmented image saved: /kaggle/working/watershed_segmented_mask/1251.png\n",
      "Segmented image saved: /kaggle/working/watershed_segmented_mask/0931.png\n",
      "Segmented image saved: /kaggle/working/watershed_segmented_mask/1291.png\n",
      "Segmented image saved: /kaggle/working/watershed_segmented_mask/0800.png\n",
      "Segmented image saved: /kaggle/working/watershed_segmented_mask/0416.png\n",
      "Segmented image saved: /kaggle/working/watershed_segmented_mask/0478.png\n",
      "Segmented image saved: /kaggle/working/watershed_segmented_mask/0548.png\n",
      "Segmented image saved: /kaggle/working/watershed_segmented_mask/0585.png\n",
      "Segmented image saved: /kaggle/working/watershed_segmented_mask/0828.png\n",
      "Segmented image saved: /kaggle/working/watershed_segmented_mask/0096.png\n",
      "Segmented image saved: /kaggle/working/watershed_segmented_mask/0264.png\n",
      "Segmented image saved: /kaggle/working/watershed_segmented_mask/0021.png\n",
      "Segmented image saved: /kaggle/working/watershed_segmented_mask/0910.png\n",
      "Segmented image saved: /kaggle/working/watershed_segmented_mask/0534.png\n",
      "Segmented image saved: /kaggle/working/watershed_segmented_mask/0062.png\n",
      "Segmented image saved: /kaggle/working/watershed_segmented_mask/0904.png\n",
      "Segmented image saved: /kaggle/working/watershed_segmented_mask/0572.png\n",
      "Segmented image saved: /kaggle/working/watershed_segmented_mask/1131.png\n",
      "Segmented image saved: /kaggle/working/watershed_segmented_mask/0887.png\n",
      "Segmented image saved: /kaggle/working/watershed_segmented_mask/0857.png\n",
      "Segmented image saved: /kaggle/working/watershed_segmented_mask/0009.png\n",
      "Segmented image saved: /kaggle/working/watershed_segmented_mask/0980.png\n",
      "Segmented image saved: /kaggle/working/watershed_segmented_mask/1046.png\n",
      "Segmented image saved: /kaggle/working/watershed_segmented_mask/1054.png\n",
      "Segmented image saved: /kaggle/working/watershed_segmented_mask/0744.png\n",
      "Segmented image saved: /kaggle/working/watershed_segmented_mask/0705.png\n",
      "Segmented image saved: /kaggle/working/watershed_segmented_mask/0063.png\n",
      "Segmented image saved: /kaggle/working/watershed_segmented_mask/1327.png\n",
      "Segmented image saved: /kaggle/working/watershed_segmented_mask/0500.png\n",
      "Segmented image saved: /kaggle/working/watershed_segmented_mask/0185.png\n",
      "Segmented image saved: /kaggle/working/watershed_segmented_mask/1158.png\n",
      "Segmented image saved: /kaggle/working/watershed_segmented_mask/0996.png\n",
      "Segmented image saved: /kaggle/working/watershed_segmented_mask/0569.png\n",
      "Segmented image saved: /kaggle/working/watershed_segmented_mask/1125.png\n",
      "Segmented image saved: /kaggle/working/watershed_segmented_mask/0117.png\n",
      "Segmented image saved: /kaggle/working/watershed_segmented_mask/0731.png\n",
      "Segmented image saved: /kaggle/working/watershed_segmented_mask/1209.png\n",
      "Segmented image saved: /kaggle/working/watershed_segmented_mask/0709.png\n",
      "Segmented image saved: /kaggle/working/watershed_segmented_mask/0552.png\n",
      "Segmented image saved: /kaggle/working/watershed_segmented_mask/0799.png\n",
      "Segmented image saved: /kaggle/working/watershed_segmented_mask/0582.png\n",
      "Segmented image saved: /kaggle/working/watershed_segmented_mask/1162.png\n",
      "Segmented image saved: /kaggle/working/watershed_segmented_mask/0792.png\n",
      "Segmented image saved: /kaggle/working/watershed_segmented_mask/0273.png\n",
      "Segmented image saved: /kaggle/working/watershed_segmented_mask/0698.png\n",
      "Segmented image saved: /kaggle/working/watershed_segmented_mask/0372.png\n",
      "Segmented image saved: /kaggle/working/watershed_segmented_mask/0827.png\n",
      "Segmented image saved: /kaggle/working/watershed_segmented_mask/1326.png\n",
      "Segmented image saved: /kaggle/working/watershed_segmented_mask/1074.png\n",
      "Segmented image saved: /kaggle/working/watershed_segmented_mask/0850.png\n",
      "Segmented image saved: /kaggle/working/watershed_segmented_mask/0046.png\n",
      "Segmented image saved: /kaggle/working/watershed_segmented_mask/0295.png\n",
      "Segmented image saved: /kaggle/working/watershed_segmented_mask/0727.png\n",
      "Segmented image saved: /kaggle/working/watershed_segmented_mask/0240.png\n",
      "Segmented image saved: /kaggle/working/watershed_segmented_mask/0509.png\n",
      "Segmented image saved: /kaggle/working/watershed_segmented_mask/0010.png\n",
      "Segmented image saved: /kaggle/working/watershed_segmented_mask/0098.png\n",
      "Segmented image saved: /kaggle/working/watershed_segmented_mask/0322.png\n",
      "Segmented image saved: /kaggle/working/watershed_segmented_mask/0120.png\n",
      "Segmented image saved: /kaggle/working/watershed_segmented_mask/0456.png\n",
      "Segmented image saved: /kaggle/working/watershed_segmented_mask/1139.png\n",
      "Segmented image saved: /kaggle/working/watershed_segmented_mask/0059.png\n",
      "Segmented image saved: /kaggle/working/watershed_segmented_mask/0608.png\n",
      "Segmented image saved: /kaggle/working/watershed_segmented_mask/0209.png\n",
      "Segmented image saved: /kaggle/working/watershed_segmented_mask/0523.png\n",
      "Segmented image saved: /kaggle/working/watershed_segmented_mask/0110.png\n",
      "Segmented image saved: /kaggle/working/watershed_segmented_mask/0873.png\n",
      "Segmented image saved: /kaggle/working/watershed_segmented_mask/0394.png\n",
      "Segmented image saved: /kaggle/working/watershed_segmented_mask/0086.png\n",
      "Segmented image saved: /kaggle/working/watershed_segmented_mask/0766.png\n",
      "Segmented image saved: /kaggle/working/watershed_segmented_mask/0443.png\n",
      "Segmented image saved: /kaggle/working/watershed_segmented_mask/0286.png\n",
      "Segmented image saved: /kaggle/working/watershed_segmented_mask/0616.png\n",
      "Segmented image saved: /kaggle/working/watershed_segmented_mask/0216.png\n",
      "Segmented image saved: /kaggle/working/watershed_segmented_mask/0628.png\n",
      "Segmented image saved: /kaggle/working/watershed_segmented_mask/1306.png\n",
      "Segmented image saved: /kaggle/working/watershed_segmented_mask/0760.png\n",
      "Segmented image saved: /kaggle/working/watershed_segmented_mask/0170.png\n",
      "Segmented image saved: /kaggle/working/watershed_segmented_mask/1076.png\n",
      "Segmented image saved: /kaggle/working/watershed_segmented_mask/1085.png\n",
      "Segmented image saved: /kaggle/working/watershed_segmented_mask/0093.png\n",
      "Segmented image saved: /kaggle/working/watershed_segmented_mask/0092.png\n",
      "Segmented image saved: /kaggle/working/watershed_segmented_mask/0261.png\n",
      "Segmented image saved: /kaggle/working/watershed_segmented_mask/0458.png\n",
      "Segmented image saved: /kaggle/working/watershed_segmented_mask/0508.png\n",
      "Segmented image saved: /kaggle/working/watershed_segmented_mask/1194.png\n",
      "Segmented image saved: /kaggle/working/watershed_segmented_mask/0446.png\n",
      "Segmented image saved: /kaggle/working/watershed_segmented_mask/0184.png\n",
      "Segmented image saved: /kaggle/working/watershed_segmented_mask/1270.png\n",
      "Segmented image saved: /kaggle/working/watershed_segmented_mask/1242.png\n",
      "Segmented image saved: /kaggle/working/watershed_segmented_mask/1004.png\n",
      "Segmented image saved: /kaggle/working/watershed_segmented_mask/1151.png\n",
      "Segmented image saved: /kaggle/working/watershed_segmented_mask/1273.png\n",
      "Segmented image saved: /kaggle/working/watershed_segmented_mask/0186.png\n",
      "Segmented image saved: /kaggle/working/watershed_segmented_mask/0341.png\n",
      "Segmented image saved: /kaggle/working/watershed_segmented_mask/1091.png\n",
      "Segmented image saved: /kaggle/working/watershed_segmented_mask/0048.png\n",
      "Segmented image saved: /kaggle/working/watershed_segmented_mask/0504.png\n",
      "Segmented image saved: /kaggle/working/watershed_segmented_mask/0973.png\n",
      "Segmented image saved: /kaggle/working/watershed_segmented_mask/0667.png\n",
      "Segmented image saved: /kaggle/working/watershed_segmented_mask/0777.png\n",
      "Segmented image saved: /kaggle/working/watershed_segmented_mask/0276.png\n",
      "Segmented image saved: /kaggle/working/watershed_segmented_mask/0141.png\n",
      "Segmented image saved: /kaggle/working/watershed_segmented_mask/0290.png\n",
      "Segmented image saved: /kaggle/working/watershed_segmented_mask/0324.png\n",
      "Segmented image saved: /kaggle/working/watershed_segmented_mask/0041.png\n",
      "Segmented image saved: /kaggle/working/watershed_segmented_mask/0516.png\n",
      "Segmented image saved: /kaggle/working/watershed_segmented_mask/0570.png\n",
      "Segmented image saved: /kaggle/working/watershed_segmented_mask/0397.png\n",
      "Segmented image saved: /kaggle/working/watershed_segmented_mask/1218.png\n",
      "Segmented image saved: /kaggle/working/watershed_segmented_mask/1228.png\n",
      "Segmented image saved: /kaggle/working/watershed_segmented_mask/0060.png\n",
      "Segmented image saved: /kaggle/working/watershed_segmented_mask/0002.png\n",
      "Segmented image saved: /kaggle/working/watershed_segmented_mask/0480.png\n",
      "Segmented image saved: /kaggle/working/watershed_segmented_mask/0291.png\n",
      "Segmented image saved: /kaggle/working/watershed_segmented_mask/0494.png\n",
      "Segmented image saved: /kaggle/working/watershed_segmented_mask/0427.png\n",
      "Segmented image saved: /kaggle/working/watershed_segmented_mask/1197.png\n",
      "Segmented image saved: /kaggle/working/watershed_segmented_mask/1028.png\n",
      "Segmented image saved: /kaggle/working/watershed_segmented_mask/0332.png\n",
      "Segmented image saved: /kaggle/working/watershed_segmented_mask/0066.png\n",
      "Segmented image saved: /kaggle/working/watershed_segmented_mask/0492.png\n",
      "Segmented image saved: /kaggle/working/watershed_segmented_mask/0912.png\n",
      "Segmented image saved: /kaggle/working/watershed_segmented_mask/0399.png\n",
      "Segmented image saved: /kaggle/working/watershed_segmented_mask/0635.png\n",
      "Segmented image saved: /kaggle/working/watershed_segmented_mask/1163.png\n",
      "Segmented image saved: /kaggle/working/watershed_segmented_mask/0374.png\n",
      "Segmented image saved: /kaggle/working/watershed_segmented_mask/0253.png\n",
      "Segmented image saved: /kaggle/working/watershed_segmented_mask/1211.png\n",
      "Segmented image saved: /kaggle/working/watershed_segmented_mask/1142.png\n",
      "Segmented image saved: /kaggle/working/watershed_segmented_mask/0496.png\n",
      "Segmented image saved: /kaggle/working/watershed_segmented_mask/0948.png\n",
      "Segmented image saved: /kaggle/working/watershed_segmented_mask/0848.png\n",
      "Segmented image saved: /kaggle/working/watershed_segmented_mask/0983.png\n",
      "Segmented image saved: /kaggle/working/watershed_segmented_mask/1275.png\n",
      "Segmented image saved: /kaggle/working/watershed_segmented_mask/0153.png\n",
      "Segmented image saved: /kaggle/working/watershed_segmented_mask/0163.png\n",
      "Segmented image saved: /kaggle/working/watershed_segmented_mask/0564.png\n",
      "Segmented image saved: /kaggle/working/watershed_segmented_mask/0726.png\n",
      "Segmented image saved: /kaggle/working/watershed_segmented_mask/0580.png\n",
      "Segmented image saved: /kaggle/working/watershed_segmented_mask/0764.png\n",
      "Segmented image saved: /kaggle/working/watershed_segmented_mask/0785.png\n",
      "Segmented image saved: /kaggle/working/watershed_segmented_mask/0624.png\n",
      "Segmented image saved: /kaggle/working/watershed_segmented_mask/0860.png\n",
      "Segmented image saved: /kaggle/working/watershed_segmented_mask/0100.png\n",
      "Segmented image saved: /kaggle/working/watershed_segmented_mask/1199.png\n",
      "Segmented image saved: /kaggle/working/watershed_segmented_mask/0652.png\n",
      "Segmented image saved: /kaggle/working/watershed_segmented_mask/0602.png\n",
      "Segmented image saved: /kaggle/working/watershed_segmented_mask/0440.png\n",
      "Segmented image saved: /kaggle/working/watershed_segmented_mask/0721.png\n",
      "Segmented image saved: /kaggle/working/watershed_segmented_mask/0689.png\n",
      "Segmented image saved: /kaggle/working/watershed_segmented_mask/0755.png\n",
      "Segmented image saved: /kaggle/working/watershed_segmented_mask/1186.png\n",
      "Segmented image saved: /kaggle/working/watershed_segmented_mask/0320.png\n",
      "Segmented image saved: /kaggle/working/watershed_segmented_mask/0365.png\n",
      "Segmented image saved: /kaggle/working/watershed_segmented_mask/0738.png\n",
      "Segmented image saved: /kaggle/working/watershed_segmented_mask/0626.png\n",
      "Segmented image saved: /kaggle/working/watershed_segmented_mask/0557.png\n",
      "Segmented image saved: /kaggle/working/watershed_segmented_mask/0966.png\n",
      "Segmented image saved: /kaggle/working/watershed_segmented_mask/1056.png\n",
      "Segmented image saved: /kaggle/working/watershed_segmented_mask/1093.png\n",
      "Segmented image saved: /kaggle/working/watershed_segmented_mask/0522.png\n",
      "Segmented image saved: /kaggle/working/watershed_segmented_mask/0765.png\n",
      "Segmented image saved: /kaggle/working/watershed_segmented_mask/1189.png\n",
      "Segmented image saved: /kaggle/working/watershed_segmented_mask/0574.png\n",
      "Segmented image saved: /kaggle/working/watershed_segmented_mask/1097.png\n",
      "Segmented image saved: /kaggle/working/watershed_segmented_mask/0281.png\n",
      "Segmented image saved: /kaggle/working/watershed_segmented_mask/0268.png\n",
      "Segmented image saved: /kaggle/working/watershed_segmented_mask/1195.png\n",
      "Segmented image saved: /kaggle/working/watershed_segmented_mask/0152.png\n",
      "Segmented image saved: /kaggle/working/watershed_segmented_mask/0950.png\n",
      "Segmented image saved: /kaggle/working/watershed_segmented_mask/0314.png\n",
      "Segmented image saved: /kaggle/working/watershed_segmented_mask/0694.png\n",
      "Segmented image saved: /kaggle/working/watershed_segmented_mask/0222.png\n",
      "Segmented image saved: /kaggle/working/watershed_segmented_mask/0192.png\n",
      "Segmented image saved: /kaggle/working/watershed_segmented_mask/0928.png\n",
      "Segmented image saved: /kaggle/working/watershed_segmented_mask/0868.png\n",
      "Segmented image saved: /kaggle/working/watershed_segmented_mask/0589.png\n",
      "Segmented image saved: /kaggle/working/watershed_segmented_mask/0118.png\n",
      "Segmented image saved: /kaggle/working/watershed_segmented_mask/0680.png\n",
      "Segmented image saved: /kaggle/working/watershed_segmented_mask/1304.png\n",
      "Segmented image saved: /kaggle/working/watershed_segmented_mask/0540.png\n",
      "Segmented image saved: /kaggle/working/watershed_segmented_mask/0302.png\n",
      "Segmented image saved: /kaggle/working/watershed_segmented_mask/1166.png\n",
      "Segmented image saved: /kaggle/working/watershed_segmented_mask/1152.png\n",
      "Segmented image saved: /kaggle/working/watershed_segmented_mask/0243.png\n",
      "Segmented image saved: /kaggle/working/watershed_segmented_mask/1276.png\n",
      "Segmented image saved: /kaggle/working/watershed_segmented_mask/0536.png\n",
      "Segmented image saved: /kaggle/working/watershed_segmented_mask/0345.png\n",
      "Segmented image saved: /kaggle/working/watershed_segmented_mask/0285.png\n",
      "Segmented image saved: /kaggle/working/watershed_segmented_mask/0669.png\n",
      "Segmented image saved: /kaggle/working/watershed_segmented_mask/0614.png\n",
      "Segmented image saved: /kaggle/working/watershed_segmented_mask/0547.png\n",
      "Segmented image saved: /kaggle/working/watershed_segmented_mask/0255.png\n",
      "Segmented image saved: /kaggle/working/watershed_segmented_mask/0305.png\n",
      "Segmented image saved: /kaggle/working/watershed_segmented_mask/1179.png\n",
      "Segmented image saved: /kaggle/working/watershed_segmented_mask/0189.png\n",
      "Segmented image saved: /kaggle/working/watershed_segmented_mask/1060.png\n",
      "Segmented image saved: /kaggle/working/watershed_segmented_mask/0132.png\n",
      "Segmented image saved: /kaggle/working/watershed_segmented_mask/0619.png\n",
      "Segmented image saved: /kaggle/working/watershed_segmented_mask/0695.png\n",
      "Segmented image saved: /kaggle/working/watershed_segmented_mask/1132.png\n",
      "Segmented image saved: /kaggle/working/watershed_segmented_mask/1224.png\n",
      "Segmented image saved: /kaggle/working/watershed_segmented_mask/1299.png\n",
      "Segmented image saved: /kaggle/working/watershed_segmented_mask/0452.png\n",
      "Segmented image saved: /kaggle/working/watershed_segmented_mask/0435.png\n",
      "Segmented image saved: /kaggle/working/watershed_segmented_mask/0193.png\n",
      "Segmented image saved: /kaggle/working/watershed_segmented_mask/0417.png\n",
      "Segmented image saved: /kaggle/working/watershed_segmented_mask/0937.png\n",
      "Segmented image saved: /kaggle/working/watershed_segmented_mask/1258.png\n",
      "Segmented image saved: /kaggle/working/watershed_segmented_mask/0927.png\n",
      "Segmented image saved: /kaggle/working/watershed_segmented_mask/0208.png\n",
      "Segmented image saved: /kaggle/working/watershed_segmented_mask/0596.png\n",
      "Segmented image saved: /kaggle/working/watershed_segmented_mask/0870.png\n",
      "Segmented image saved: /kaggle/working/watershed_segmented_mask/0529.png\n",
      "Segmented image saved: /kaggle/working/watershed_segmented_mask/1136.png\n",
      "Segmented image saved: /kaggle/working/watershed_segmented_mask/0493.png\n",
      "Segmented image saved: /kaggle/working/watershed_segmented_mask/0783.png\n",
      "Segmented image saved: /kaggle/working/watershed_segmented_mask/0028.png\n",
      "Segmented image saved: /kaggle/working/watershed_segmented_mask/0236.png\n",
      "Segmented image saved: /kaggle/working/watershed_segmented_mask/1274.png\n",
      "Segmented image saved: /kaggle/working/watershed_segmented_mask/0502.png\n",
      "Segmented image saved: /kaggle/working/watershed_segmented_mask/1135.png\n",
      "Segmented image saved: /kaggle/working/watershed_segmented_mask/0351.png\n",
      "Segmented image saved: /kaggle/working/watershed_segmented_mask/0470.png\n",
      "Segmented image saved: /kaggle/working/watershed_segmented_mask/0746.png\n",
      "Segmented image saved: /kaggle/working/watershed_segmented_mask/0633.png\n",
      "Segmented image saved: /kaggle/working/watershed_segmented_mask/0867.png\n",
      "Segmented image saved: /kaggle/working/watershed_segmented_mask/0076.png\n",
      "Segmented image saved: /kaggle/working/watershed_segmented_mask/0296.png\n",
      "Segmented image saved: /kaggle/working/watershed_segmented_mask/0353.png\n",
      "Segmented image saved: /kaggle/working/watershed_segmented_mask/0641.png\n",
      "Segmented image saved: /kaggle/working/watershed_segmented_mask/0022.png\n",
      "Segmented image saved: /kaggle/working/watershed_segmented_mask/1095.png\n",
      "Segmented image saved: /kaggle/working/watershed_segmented_mask/0819.png\n",
      "Segmented image saved: /kaggle/working/watershed_segmented_mask/0519.png\n",
      "Segmented image saved: /kaggle/working/watershed_segmented_mask/0471.png\n",
      "Segmented image saved: /kaggle/working/watershed_segmented_mask/0913.png\n",
      "Segmented image saved: /kaggle/working/watershed_segmented_mask/0003.png\n",
      "Segmented image saved: /kaggle/working/watershed_segmented_mask/0221.png\n",
      "Segmented image saved: /kaggle/working/watershed_segmented_mask/0449.png\n",
      "Segmented image saved: /kaggle/working/watershed_segmented_mask/0949.png\n",
      "Segmented image saved: /kaggle/working/watershed_segmented_mask/0737.png\n",
      "Segmented image saved: /kaggle/working/watershed_segmented_mask/0271.png\n",
      "Segmented image saved: /kaggle/working/watershed_segmented_mask/0097.png\n",
      "Segmented image saved: /kaggle/working/watershed_segmented_mask/0256.png\n",
      "Segmented image saved: /kaggle/working/watershed_segmented_mask/1176.png\n",
      "Segmented image saved: /kaggle/working/watershed_segmented_mask/0202.png\n",
      "Segmented image saved: /kaggle/working/watershed_segmented_mask/0094.png\n",
      "Segmented image saved: /kaggle/working/watershed_segmented_mask/0465.png\n",
      "Segmented image saved: /kaggle/working/watershed_segmented_mask/0418.png\n",
      "Segmented image saved: /kaggle/working/watershed_segmented_mask/0969.png\n",
      "Segmented image saved: /kaggle/working/watershed_segmented_mask/0808.png\n",
      "Segmented image saved: /kaggle/working/watershed_segmented_mask/0485.png\n",
      "Segmented image saved: /kaggle/working/watershed_segmented_mask/1254.png\n",
      "Segmented image saved: /kaggle/working/watershed_segmented_mask/0115.png\n",
      "Segmented image saved: /kaggle/working/watershed_segmented_mask/0012.png\n",
      "Segmented image saved: /kaggle/working/watershed_segmented_mask/0130.png\n",
      "Segmented image saved: /kaggle/working/watershed_segmented_mask/0195.png\n",
      "Segmented image saved: /kaggle/working/watershed_segmented_mask/0303.png\n",
      "Segmented image saved: /kaggle/working/watershed_segmented_mask/0030.png\n",
      "Segmented image saved: /kaggle/working/watershed_segmented_mask/0414.png\n",
      "Segmented image saved: /kaggle/working/watershed_segmented_mask/0074.png\n",
      "Segmented image saved: /kaggle/working/watershed_segmented_mask/1317.png\n",
      "Segmented image saved: /kaggle/working/watershed_segmented_mask/0662.png\n",
      "Segmented image saved: /kaggle/working/watershed_segmented_mask/0498.png\n",
      "Segmented image saved: /kaggle/working/watershed_segmented_mask/0187.png\n",
      "Segmented image saved: /kaggle/working/watershed_segmented_mask/0237.png\n",
      "Segmented image saved: /kaggle/working/watershed_segmented_mask/0990.png\n",
      "Segmented image saved: /kaggle/working/watershed_segmented_mask/0301.png\n",
      "Segmented image saved: /kaggle/working/watershed_segmented_mask/0594.png\n",
      "Segmented image saved: /kaggle/working/watershed_segmented_mask/0603.png\n",
      "Segmented image saved: /kaggle/working/watershed_segmented_mask/0056.png\n",
      "Segmented image saved: /kaggle/working/watershed_segmented_mask/0618.png\n",
      "Segmented image saved: /kaggle/working/watershed_segmented_mask/0718.png\n",
      "Segmented image saved: /kaggle/working/watershed_segmented_mask/0335.png\n",
      "Segmented image saved: /kaggle/working/watershed_segmented_mask/0450.png\n",
      "Segmented image saved: /kaggle/working/watershed_segmented_mask/0787.png\n",
      "Segmented image saved: /kaggle/working/watershed_segmented_mask/1196.png\n",
      "Segmented image saved: /kaggle/working/watershed_segmented_mask/0879.png\n",
      "Segmented image saved: /kaggle/working/watershed_segmented_mask/0006.png\n",
      "Segmented image saved: /kaggle/working/watershed_segmented_mask/0579.png\n",
      "Segmented image saved: /kaggle/working/watershed_segmented_mask/1214.png\n",
      "Segmented image saved: /kaggle/working/watershed_segmented_mask/0809.png\n",
      "Segmented image saved: /kaggle/working/watershed_segmented_mask/1009.png\n",
      "Segmented image saved: /kaggle/working/watershed_segmented_mask/1040.png\n",
      "Segmented image saved: /kaggle/working/watershed_segmented_mask/0376.png\n",
      "Segmented image saved: /kaggle/working/watershed_segmented_mask/0279.png\n",
      "Segmented image saved: /kaggle/working/watershed_segmented_mask/0472.png\n",
      "Segmented image saved: /kaggle/working/watershed_segmented_mask/0128.png\n",
      "Segmented image saved: /kaggle/working/watershed_segmented_mask/0310.png\n",
      "Segmented image saved: /kaggle/working/watershed_segmented_mask/0865.png\n",
      "Segmented image saved: /kaggle/working/watershed_segmented_mask/1264.png\n",
      "Segmented image saved: /kaggle/working/watershed_segmented_mask/0507.png\n",
      "Segmented image saved: /kaggle/working/watershed_segmented_mask/1156.png\n",
      "Segmented image saved: /kaggle/working/watershed_segmented_mask/0282.png\n",
      "Segmented image saved: /kaggle/working/watershed_segmented_mask/1080.png\n",
      "Segmented image saved: /kaggle/working/watershed_segmented_mask/0817.png\n",
      "Segmented image saved: /kaggle/working/watershed_segmented_mask/0527.png\n",
      "Segmented image saved: /kaggle/working/watershed_segmented_mask/1150.png\n",
      "Segmented image saved: /kaggle/working/watershed_segmented_mask/0018.png\n",
      "Segmented image saved: /kaggle/working/watershed_segmented_mask/0856.png\n",
      "Segmented image saved: /kaggle/working/watershed_segmented_mask/0954.png\n",
      "Segmented image saved: /kaggle/working/watershed_segmented_mask/0629.png\n",
      "Segmented image saved: /kaggle/working/watershed_segmented_mask/1217.png\n",
      "Segmented image saved: /kaggle/working/watershed_segmented_mask/0158.png\n",
      "Segmented image saved: /kaggle/working/watershed_segmented_mask/1110.png\n",
      "Segmented image saved: /kaggle/working/watershed_segmented_mask/1297.png\n",
      "Segmented image saved: /kaggle/working/watershed_segmented_mask/0607.png\n",
      "Segmented image saved: /kaggle/working/watershed_segmented_mask/0622.png\n",
      "Segmented image saved: /kaggle/working/watershed_segmented_mask/0069.png\n",
      "Segmented image saved: /kaggle/working/watershed_segmented_mask/1047.png\n",
      "Segmented image saved: /kaggle/working/watershed_segmented_mask/0149.png\n",
      "Segmented image saved: /kaggle/working/watershed_segmented_mask/0298.png\n",
      "Segmented image saved: /kaggle/working/watershed_segmented_mask/0429.png\n",
      "Segmented image saved: /kaggle/working/watershed_segmented_mask/0383.png\n",
      "Segmented image saved: /kaggle/working/watershed_segmented_mask/0751.png\n",
      "Segmented image saved: /kaggle/working/watershed_segmented_mask/0154.png\n",
      "Segmented image saved: /kaggle/working/watershed_segmented_mask/1018.png\n",
      "Segmented image saved: /kaggle/working/watershed_segmented_mask/0903.png\n",
      "Segmented image saved: /kaggle/working/watershed_segmented_mask/0665.png\n",
      "Segmented image saved: /kaggle/working/watershed_segmented_mask/0448.png\n",
      "Segmented image saved: /kaggle/working/watershed_segmented_mask/1198.png\n",
      "Segmented image saved: /kaggle/working/watershed_segmented_mask/0712.png\n",
      "Segmented image saved: /kaggle/working/watershed_segmented_mask/0064.png\n",
      "Segmented image saved: /kaggle/working/watershed_segmented_mask/0702.png\n",
      "Segmented image saved: /kaggle/working/watershed_segmented_mask/1105.png\n",
      "Segmented image saved: /kaggle/working/watershed_segmented_mask/1307.png\n",
      "Segmented image saved: /kaggle/working/watershed_segmented_mask/1222.png\n",
      "Segmented image saved: /kaggle/working/watershed_segmented_mask/0587.png\n",
      "Segmented image saved: /kaggle/working/watershed_segmented_mask/1059.png\n",
      "Segmented image saved: /kaggle/working/watershed_segmented_mask/0566.png\n",
      "Segmented image saved: /kaggle/working/watershed_segmented_mask/0605.png\n",
      "Segmented image saved: /kaggle/working/watershed_segmented_mask/0313.png\n",
      "Segmented image saved: /kaggle/working/watershed_segmented_mask/0897.png\n",
      "Segmented image saved: /kaggle/working/watershed_segmented_mask/0126.png\n",
      "Segmented image saved: /kaggle/working/watershed_segmented_mask/0977.png\n",
      "Segmented image saved: /kaggle/working/watershed_segmented_mask/1015.png\n",
      "Segmented image saved: /kaggle/working/watershed_segmented_mask/0482.png\n",
      "Segmented image saved: /kaggle/working/watershed_segmented_mask/1086.png\n",
      "Segmented image saved: /kaggle/working/watershed_segmented_mask/0426.png\n",
      "Segmented image saved: /kaggle/working/watershed_segmented_mask/0294.png\n",
      "Segmented image saved: /kaggle/working/watershed_segmented_mask/0780.png\n",
      "Segmented image saved: /kaggle/working/watershed_segmented_mask/1324.png\n",
      "Segmented image saved: /kaggle/working/watershed_segmented_mask/0514.png\n",
      "Segmented image saved: /kaggle/working/watershed_segmented_mask/1025.png\n",
      "Segmented image saved: /kaggle/working/watershed_segmented_mask/0297.png\n",
      "Segmented image saved: /kaggle/working/watershed_segmented_mask/1257.png\n",
      "Segmented image saved: /kaggle/working/watershed_segmented_mask/0678.png\n",
      "Segmented image saved: /kaggle/working/watershed_segmented_mask/0466.png\n",
      "Segmented image saved: /kaggle/working/watershed_segmented_mask/0380.png\n",
      "Segmented image saved: /kaggle/working/watershed_segmented_mask/0373.png\n",
      "Segmented image saved: /kaggle/working/watershed_segmented_mask/1323.png\n",
      "Segmented image saved: /kaggle/working/watershed_segmented_mask/0647.png\n",
      "Segmented image saved: /kaggle/working/watershed_segmented_mask/1011.png\n",
      "Segmented image saved: /kaggle/working/watershed_segmented_mask/0779.png\n",
      "Segmented image saved: /kaggle/working/watershed_segmented_mask/1026.png\n",
      "Segmented image saved: /kaggle/working/watershed_segmented_mask/0531.png\n",
      "Segmented image saved: /kaggle/working/watershed_segmented_mask/0961.png\n",
      "Segmented image saved: /kaggle/working/watershed_segmented_mask/1064.png\n",
      "Segmented image saved: /kaggle/working/watershed_segmented_mask/0233.png\n",
      "Segmented image saved: /kaggle/working/watershed_segmented_mask/1294.png\n",
      "Segmented image saved: /kaggle/working/watershed_segmented_mask/0347.png\n",
      "Segmented image saved: /kaggle/working/watershed_segmented_mask/1107.png\n",
      "Segmented image saved: /kaggle/working/watershed_segmented_mask/0287.png\n",
      "Segmented image saved: /kaggle/working/watershed_segmented_mask/0292.png\n",
      "Segmented image saved: /kaggle/working/watershed_segmented_mask/1328.png\n",
      "Segmented image saved: /kaggle/working/watershed_segmented_mask/0134.png\n",
      "Segmented image saved: /kaggle/working/watershed_segmented_mask/0077.png\n",
      "Segmented image saved: /kaggle/working/watershed_segmented_mask/0810.png\n",
      "Segmented image saved: /kaggle/working/watershed_segmented_mask/0935.png\n",
      "Segmented image saved: /kaggle/working/watershed_segmented_mask/1171.png\n",
      "Segmented image saved: /kaggle/working/watershed_segmented_mask/0361.png\n",
      "Segmented image saved: /kaggle/working/watershed_segmented_mask/0676.png\n",
      "Segmented image saved: /kaggle/working/watershed_segmented_mask/1240.png\n",
      "Segmented image saved: /kaggle/working/watershed_segmented_mask/0771.png\n",
      "Segmented image saved: /kaggle/working/watershed_segmented_mask/0553.png\n",
      "Segmented image saved: /kaggle/working/watershed_segmented_mask/0293.png\n",
      "Segmented image saved: /kaggle/working/watershed_segmented_mask/0658.png\n",
      "Segmented image saved: /kaggle/working/watershed_segmented_mask/0811.png\n",
      "Segmented image saved: /kaggle/working/watershed_segmented_mask/0999.png\n",
      "Segmented image saved: /kaggle/working/watershed_segmented_mask/0728.png\n",
      "Segmented image saved: /kaggle/working/watershed_segmented_mask/0484.png\n",
      "Segmented image saved: /kaggle/working/watershed_segmented_mask/0911.png\n",
      "Segmented image saved: /kaggle/working/watershed_segmented_mask/0692.png\n",
      "Segmented image saved: /kaggle/working/watershed_segmented_mask/0623.png\n",
      "Segmented image saved: /kaggle/working/watershed_segmented_mask/0627.png\n",
      "Segmented image saved: /kaggle/working/watershed_segmented_mask/0987.png\n",
      "Segmented image saved: /kaggle/working/watershed_segmented_mask/0119.png\n",
      "Segmented image saved: /kaggle/working/watershed_segmented_mask/0620.png\n",
      "Segmented image saved: /kaggle/working/watershed_segmented_mask/0423.png\n",
      "Segmented image saved: /kaggle/working/watershed_segmented_mask/0087.png\n",
      "Segmented image saved: /kaggle/working/watershed_segmented_mask/0334.png\n",
      "Segmented image saved: /kaggle/working/watershed_segmented_mask/0474.png\n",
      "Segmented image saved: /kaggle/working/watershed_segmented_mask/1287.png\n",
      "Segmented image saved: /kaggle/working/watershed_segmented_mask/0754.png\n",
      "Segmented image saved: /kaggle/working/watershed_segmented_mask/1102.png\n",
      "Segmented image saved: /kaggle/working/watershed_segmented_mask/0377.png\n",
      "Segmented image saved: /kaggle/working/watershed_segmented_mask/1175.png\n",
      "Segmented image saved: /kaggle/working/watershed_segmented_mask/0133.png\n",
      "Segmented image saved: /kaggle/working/watershed_segmented_mask/0909.png\n",
      "Segmented image saved: /kaggle/working/watershed_segmented_mask/0479.png\n",
      "Segmented image saved: /kaggle/working/watershed_segmented_mask/1006.png\n",
      "Segmented image saved: /kaggle/working/watershed_segmented_mask/0642.png\n",
      "Segmented image saved: /kaggle/working/watershed_segmented_mask/0437.png\n",
      "Segmented image saved: /kaggle/working/watershed_segmented_mask/0776.png\n",
      "Segmented image saved: /kaggle/working/watershed_segmented_mask/1246.png\n",
      "Segmented image saved: /kaggle/working/watershed_segmented_mask/0530.png\n",
      "Segmented image saved: /kaggle/working/watershed_segmented_mask/0090.png\n",
      "Segmented image saved: /kaggle/working/watershed_segmented_mask/0180.png\n",
      "Segmented image saved: /kaggle/working/watershed_segmented_mask/0349.png\n",
      "Segmented image saved: /kaggle/working/watershed_segmented_mask/0924.png\n",
      "Segmented image saved: /kaggle/working/watershed_segmented_mask/0038.png\n",
      "Segmented image saved: /kaggle/working/watershed_segmented_mask/0073.png\n",
      "Segmented image saved: /kaggle/working/watershed_segmented_mask/0127.png\n",
      "Segmented image saved: /kaggle/working/watershed_segmented_mask/0944.png\n",
      "Segmented image saved: /kaggle/working/watershed_segmented_mask/1146.png\n",
      "Segmented image saved: /kaggle/working/watershed_segmented_mask/0539.png\n",
      "Segmented image saved: /kaggle/working/watershed_segmented_mask/0013.png\n",
      "Segmented image saved: /kaggle/working/watershed_segmented_mask/0439.png\n",
      "Segmented image saved: /kaggle/working/watershed_segmented_mask/0684.png\n",
      "Segmented image saved: /kaggle/working/watershed_segmented_mask/0031.png\n",
      "Segmented image saved: /kaggle/working/watershed_segmented_mask/1041.png\n",
      "Segmented image saved: /kaggle/working/watershed_segmented_mask/1008.png\n",
      "Segmented image saved: /kaggle/working/watershed_segmented_mask/0874.png\n",
      "Segmented image saved: /kaggle/working/watershed_segmented_mask/0107.png\n",
      "Segmented image saved: /kaggle/working/watershed_segmented_mask/0039.png\n",
      "Segmented image saved: /kaggle/working/watershed_segmented_mask/0941.png\n",
      "Segmented image saved: /kaggle/working/watershed_segmented_mask/0174.png\n",
      "Segmented image saved: /kaggle/working/watershed_segmented_mask/0408.png\n",
      "Segmented image saved: /kaggle/working/watershed_segmented_mask/0200.png\n",
      "Segmented image saved: /kaggle/working/watershed_segmented_mask/0122.png\n",
      "Segmented image saved: /kaggle/working/watershed_segmented_mask/1250.png\n",
      "Segmented image saved: /kaggle/working/watershed_segmented_mask/0155.png\n",
      "Segmented image saved: /kaggle/working/watershed_segmented_mask/0053.png\n",
      "Segmented image saved: /kaggle/working/watershed_segmented_mask/0387.png\n",
      "Segmented image saved: /kaggle/working/watershed_segmented_mask/0306.png\n",
      "Segmented image saved: /kaggle/working/watershed_segmented_mask/0131.png\n",
      "Segmented image saved: /kaggle/working/watershed_segmented_mask/1138.png\n",
      "Segmented image saved: /kaggle/working/watershed_segmented_mask/1184.png\n",
      "Segmented image saved: /kaggle/working/watershed_segmented_mask/0218.png\n",
      "Segmented image saved: /kaggle/working/watershed_segmented_mask/0085.png\n",
      "Segmented image saved: /kaggle/working/watershed_segmented_mask/0668.png\n",
      "Segmented image saved: /kaggle/working/watershed_segmented_mask/0900.png\n",
      "Segmented image saved: /kaggle/working/watershed_segmented_mask/1261.png\n",
      "Segmented image saved: /kaggle/working/watershed_segmented_mask/1281.png\n",
      "Segmented image saved: /kaggle/working/watershed_segmented_mask/0524.png\n",
      "Segmented image saved: /kaggle/working/watershed_segmented_mask/0463.png\n",
      "Segmented image saved: /kaggle/working/watershed_segmented_mask/0239.png\n",
      "Segmented image saved: /kaggle/working/watershed_segmented_mask/0855.png\n",
      "Segmented image saved: /kaggle/working/watershed_segmented_mask/0245.png\n",
      "Segmented image saved: /kaggle/working/watershed_segmented_mask/1005.png\n",
      "Segmented image saved: /kaggle/working/watershed_segmented_mask/1145.png\n",
      "Segmented image saved: /kaggle/working/watershed_segmented_mask/1286.png\n",
      "Segmented image saved: /kaggle/working/watershed_segmented_mask/1089.png\n",
      "Segmented image saved: /kaggle/working/watershed_segmented_mask/0049.png\n",
      "Segmented image saved: /kaggle/working/watershed_segmented_mask/0386.png\n",
      "Segmented image saved: /kaggle/working/watershed_segmented_mask/0769.png\n",
      "Segmented image saved: /kaggle/working/watershed_segmented_mask/0368.png\n",
      "Segmented image saved: /kaggle/working/watershed_segmented_mask/0632.png\n",
      "Segmented image saved: /kaggle/working/watershed_segmented_mask/0844.png\n",
      "Segmented image saved: /kaggle/working/watershed_segmented_mask/1205.png\n",
      "Segmented image saved: /kaggle/working/watershed_segmented_mask/0997.png\n",
      "Segmented image saved: /kaggle/working/watershed_segmented_mask/1126.png\n",
      "Segmented image saved: /kaggle/working/watershed_segmented_mask/0933.png\n",
      "Segmented image saved: /kaggle/working/watershed_segmented_mask/0047.png\n",
      "Segmented image saved: /kaggle/working/watershed_segmented_mask/0807.png\n",
      "Segmented image saved: /kaggle/working/watershed_segmented_mask/0930.png\n",
      "Segmented image saved: /kaggle/working/watershed_segmented_mask/1067.png\n",
      "Segmented image saved: /kaggle/working/watershed_segmented_mask/1000.png\n",
      "Segmented image saved: /kaggle/working/watershed_segmented_mask/0839.png\n",
      "Segmented image saved: /kaggle/working/watershed_segmented_mask/0696.png\n",
      "Segmented image saved: /kaggle/working/watershed_segmented_mask/1296.png\n",
      "Segmented image saved: /kaggle/working/watershed_segmented_mask/1227.png\n",
      "Segmented image saved: /kaggle/working/watershed_segmented_mask/0854.png\n",
      "Segmented image saved: /kaggle/working/watershed_segmented_mask/1129.png\n",
      "Segmented image saved: /kaggle/working/watershed_segmented_mask/0896.png\n",
      "Segmented image saved: /kaggle/working/watershed_segmented_mask/1255.png\n",
      "Segmented image saved: /kaggle/working/watershed_segmented_mask/0832.png\n",
      "Segmented image saved: /kaggle/working/watershed_segmented_mask/0441.png\n",
      "Segmented image saved: /kaggle/working/watershed_segmented_mask/0829.png\n",
      "Segmented image saved: /kaggle/working/watershed_segmented_mask/1269.png\n",
      "Segmented image saved: /kaggle/working/watershed_segmented_mask/1190.png\n",
      "Segmented image saved: /kaggle/working/watershed_segmented_mask/0815.png\n",
      "Segmented image saved: /kaggle/working/watershed_segmented_mask/0425.png\n",
      "Segmented image saved: /kaggle/working/watershed_segmented_mask/1279.png\n",
      "Segmented image saved: /kaggle/working/watershed_segmented_mask/0102.png\n",
      "Segmented image saved: /kaggle/working/watershed_segmented_mask/0535.png\n",
      "Segmented image saved: /kaggle/working/watershed_segmented_mask/0079.png\n",
      "Segmented image saved: /kaggle/working/watershed_segmented_mask/0515.png\n",
      "Segmented image saved: /kaggle/working/watershed_segmented_mask/0042.png\n",
      "Segmented image saved: /kaggle/working/watershed_segmented_mask/0270.png\n",
      "Segmented image saved: /kaggle/working/watershed_segmented_mask/1313.png\n",
      "Segmented image saved: /kaggle/working/watershed_segmented_mask/0194.png\n",
      "Segmented image saved: /kaggle/working/watershed_segmented_mask/0670.png\n",
      "Segmented image saved: /kaggle/working/watershed_segmented_mask/0035.png\n",
      "Segmented image saved: /kaggle/working/watershed_segmented_mask/0235.png\n",
      "Segmented image saved: /kaggle/working/watershed_segmented_mask/0453.png\n",
      "Segmented image saved: /kaggle/working/watershed_segmented_mask/0354.png\n",
      "Segmented image saved: /kaggle/working/watershed_segmented_mask/0576.png\n",
      "Segmented image saved: /kaggle/working/watershed_segmented_mask/0883.png\n",
      "Segmented image saved: /kaggle/working/watershed_segmented_mask/1061.png\n",
      "Segmented image saved: /kaggle/working/watershed_segmented_mask/1039.png\n",
      "Segmented image saved: /kaggle/working/watershed_segmented_mask/0525.png\n",
      "Segmented image saved: /kaggle/working/watershed_segmented_mask/0644.png\n",
      "Segmented image saved: /kaggle/working/watershed_segmented_mask/0588.png\n",
      "Segmented image saved: /kaggle/working/watershed_segmented_mask/0544.png\n",
      "Segmented image saved: /kaggle/working/watershed_segmented_mask/0836.png\n",
      "Segmented image saved: /kaggle/working/watershed_segmented_mask/0914.png\n",
      "Segmented image saved: /kaggle/working/watershed_segmented_mask/0878.png\n",
      "Segmented image saved: /kaggle/working/watershed_segmented_mask/0330.png\n",
      "Segmented image saved: /kaggle/working/watershed_segmented_mask/0609.png\n",
      "Segmented image saved: /kaggle/working/watershed_segmented_mask/0840.png\n",
      "Segmented image saved: /kaggle/working/watershed_segmented_mask/1288.png\n",
      "Segmented image saved: /kaggle/working/watershed_segmented_mask/0026.png\n",
      "Segmented image saved: /kaggle/working/watershed_segmented_mask/0389.png\n",
      "Segmented image saved: /kaggle/working/watershed_segmented_mask/1191.png\n",
      "Segmented image saved: /kaggle/working/watershed_segmented_mask/0371.png\n",
      "Segmented image saved: /kaggle/working/watershed_segmented_mask/0761.png\n",
      "Segmented image saved: /kaggle/working/watershed_segmented_mask/0506.png\n",
      "Segmented image saved: /kaggle/working/watershed_segmented_mask/0032.png\n",
      "Segmented image saved: /kaggle/working/watershed_segmented_mask/1068.png\n",
      "Segmented image saved: /kaggle/working/watershed_segmented_mask/1062.png\n",
      "Segmented image saved: /kaggle/working/watershed_segmented_mask/0162.png\n",
      "Segmented image saved: /kaggle/working/watershed_segmented_mask/0671.png\n",
      "Segmented image saved: /kaggle/working/watershed_segmented_mask/0719.png\n",
      "Segmented image saved: /kaggle/working/watershed_segmented_mask/0244.png\n",
      "Segmented image saved: /kaggle/working/watershed_segmented_mask/1322.png\n",
      "Segmented image saved: /kaggle/working/watershed_segmented_mask/1063.png\n",
      "Segmented image saved: /kaggle/working/watershed_segmented_mask/0763.png\n",
      "Segmented image saved: /kaggle/working/watershed_segmented_mask/0972.png\n",
      "Segmented image saved: /kaggle/working/watershed_segmented_mask/0355.png\n",
      "Segmented image saved: /kaggle/working/watershed_segmented_mask/1114.png\n",
      "Segmented image saved: /kaggle/working/watershed_segmented_mask/1316.png\n",
      "Segmented image saved: /kaggle/working/watershed_segmented_mask/0033.png\n",
      "Segmented image saved: /kaggle/working/watershed_segmented_mask/0169.png\n",
      "Segmented image saved: /kaggle/working/watershed_segmented_mask/0369.png\n",
      "Segmented image saved: /kaggle/working/watershed_segmented_mask/0581.png\n",
      "Segmented image saved: /kaggle/working/watershed_segmented_mask/0975.png\n",
      "Segmented image saved: /kaggle/working/watershed_segmented_mask/0951.png\n",
      "Segmented image saved: /kaggle/working/watershed_segmented_mask/0333.png\n",
      "Segmented image saved: /kaggle/working/watershed_segmented_mask/0011.png\n",
      "Segmented image saved: /kaggle/working/watershed_segmented_mask/0201.png\n",
      "Segmented image saved: /kaggle/working/watershed_segmented_mask/0945.png\n",
      "Segmented image saved: /kaggle/working/watershed_segmented_mask/1302.png\n",
      "Segmented image saved: /kaggle/working/watershed_segmented_mask/1117.png\n",
      "Segmented image saved: /kaggle/working/watershed_segmented_mask/0159.png\n",
      "Segmented image saved: /kaggle/working/watershed_segmented_mask/0991.png\n",
      "Segmented image saved: /kaggle/working/watershed_segmented_mask/0993.png\n",
      "Segmented image saved: /kaggle/working/watershed_segmented_mask/0099.png\n",
      "Segmented image saved: /kaggle/working/watershed_segmented_mask/0311.png\n",
      "Segmented image saved: /kaggle/working/watershed_segmented_mask/0762.png\n",
      "Segmented image saved: /kaggle/working/watershed_segmented_mask/0088.png\n",
      "Segmented image saved: /kaggle/working/watershed_segmented_mask/1112.png\n",
      "Segmented image saved: /kaggle/working/watershed_segmented_mask/0687.png\n",
      "Segmented image saved: /kaggle/working/watershed_segmented_mask/0214.png\n",
      "Segmented image saved: /kaggle/working/watershed_segmented_mask/1265.png\n",
      "Segmented image saved: /kaggle/working/watershed_segmented_mask/1244.png\n",
      "Segmented image saved: /kaggle/working/watershed_segmented_mask/0621.png\n",
      "Segmented image saved: /kaggle/working/watershed_segmented_mask/0325.png\n",
      "Segmented image saved: /kaggle/working/watershed_segmented_mask/0476.png\n",
      "Segmented image saved: /kaggle/working/watershed_segmented_mask/1108.png\n",
      "Segmented image saved: /kaggle/working/watershed_segmented_mask/0853.png\n",
      "Segmented image saved: /kaggle/working/watershed_segmented_mask/0959.png\n",
      "Segmented image saved: /kaggle/working/watershed_segmented_mask/1212.png\n",
      "Segmented image saved: /kaggle/working/watershed_segmented_mask/0143.png\n",
      "Segmented image saved: /kaggle/working/watershed_segmented_mask/0105.png\n",
      "Segmented image saved: /kaggle/working/watershed_segmented_mask/0520.png\n",
      "Segmented image saved: /kaggle/working/watershed_segmented_mask/0533.png\n",
      "Segmented image saved: /kaggle/working/watershed_segmented_mask/0284.png\n",
      "Segmented image saved: /kaggle/working/watershed_segmented_mask/0649.png\n",
      "Segmented image saved: /kaggle/working/watershed_segmented_mask/0136.png\n",
      "Segmented image saved: /kaggle/working/watershed_segmented_mask/0483.png\n",
      "Segmented image saved: /kaggle/working/watershed_segmented_mask/0283.png\n",
      "Segmented image saved: /kaggle/working/watershed_segmented_mask/1282.png\n",
      "Segmented image saved: /kaggle/working/watershed_segmented_mask/0467.png\n",
      "Segmented image saved: /kaggle/working/watershed_segmented_mask/1278.png\n",
      "Segmented image saved: /kaggle/working/watershed_segmented_mask/0551.png\n",
      "Segmented image saved: /kaggle/working/watershed_segmented_mask/0845.png\n",
      "Segmented image saved: /kaggle/working/watershed_segmented_mask/1057.png\n",
      "Segmented image saved: /kaggle/working/watershed_segmented_mask/0336.png\n",
      "Segmented image saved: /kaggle/working/watershed_segmented_mask/0475.png\n",
      "Segmented image saved: /kaggle/working/watershed_segmented_mask/0121.png\n",
      "Segmented image saved: /kaggle/working/watershed_segmented_mask/1020.png\n",
      "Segmented image saved: /kaggle/working/watershed_segmented_mask/0164.png\n",
      "Segmented image saved: /kaggle/working/watershed_segmented_mask/0920.png\n",
      "Segmented image saved: /kaggle/working/watershed_segmented_mask/0542.png\n",
      "Segmented image saved: /kaggle/working/watershed_segmented_mask/0859.png\n",
      "Segmented image saved: /kaggle/working/watershed_segmented_mask/0145.png\n",
      "Segmented image saved: /kaggle/working/watershed_segmented_mask/0205.png\n",
      "Segmented image saved: /kaggle/working/watershed_segmented_mask/0315.png\n",
      "Segmented image saved: /kaggle/working/watershed_segmented_mask/0007.png\n",
      "Segmented image saved: /kaggle/working/watershed_segmented_mask/1210.png\n",
      "Segmented image saved: /kaggle/working/watershed_segmented_mask/1033.png\n",
      "Segmented image saved: /kaggle/working/watershed_segmented_mask/0343.png\n",
      "Segmented image saved: /kaggle/working/watershed_segmented_mask/1315.png\n",
      "Segmented image saved: /kaggle/working/watershed_segmented_mask/0697.png\n",
      "Segmented image saved: /kaggle/working/watershed_segmented_mask/0888.png\n",
      "Segmented image saved: /kaggle/working/watershed_segmented_mask/0181.png\n",
      "Segmented image saved: /kaggle/working/watershed_segmented_mask/1253.png\n",
      "Segmented image saved: /kaggle/working/watershed_segmented_mask/0992.png\n",
      "Segmented image saved: /kaggle/working/watershed_segmented_mask/0420.png\n",
      "Segmented image saved: /kaggle/working/watershed_segmented_mask/0388.png\n",
      "Segmented image saved: /kaggle/working/watershed_segmented_mask/0796.png\n",
      "Segmented image saved: /kaggle/working/watershed_segmented_mask/0167.png\n",
      "Segmented image saved: /kaggle/working/watershed_segmented_mask/1232.png\n",
      "Segmented image saved: /kaggle/working/watershed_segmented_mask/1262.png\n",
      "Segmented image saved: /kaggle/working/watershed_segmented_mask/0908.png\n",
      "Segmented image saved: /kaggle/working/watershed_segmented_mask/0700.png\n",
      "Segmented image saved: /kaggle/working/watershed_segmented_mask/0631.png\n",
      "Segmented image saved: /kaggle/working/watershed_segmented_mask/0805.png\n",
      "Segmented image saved: /kaggle/working/watershed_segmented_mask/1169.png\n",
      "Segmented image saved: /kaggle/working/watershed_segmented_mask/1082.png\n",
      "Segmented image saved: /kaggle/working/watershed_segmented_mask/1019.png\n",
      "Segmented image saved: /kaggle/working/watershed_segmented_mask/0964.png\n",
      "Segmented image saved: /kaggle/working/watershed_segmented_mask/0970.png\n",
      "Segmented image saved: /kaggle/working/watershed_segmented_mask/0251.png\n",
      "Segmented image saved: /kaggle/working/watershed_segmented_mask/0917.png\n",
      "Segmented image saved: /kaggle/working/watershed_segmented_mask/0040.png\n",
      "Segmented image saved: /kaggle/working/watershed_segmented_mask/0227.png\n",
      "Segmented image saved: /kaggle/working/watershed_segmented_mask/0510.png\n",
      "Segmented image saved: /kaggle/working/watershed_segmented_mask/0688.png\n",
      "Segmented image saved: /kaggle/working/watershed_segmented_mask/1037.png\n",
      "Segmented image saved: /kaggle/working/watershed_segmented_mask/0104.png\n",
      "Segmented image saved: /kaggle/working/watershed_segmented_mask/1272.png\n",
      "Segmented image saved: /kaggle/working/watershed_segmented_mask/0938.png\n",
      "Segmented image saved: /kaggle/working/watershed_segmented_mask/0791.png\n",
      "Segmented image saved: /kaggle/working/watershed_segmented_mask/0674.png\n",
      "Segmented image saved: /kaggle/working/watershed_segmented_mask/0795.png\n",
      "Segmented image saved: /kaggle/working/watershed_segmented_mask/0650.png\n",
      "Segmented image saved: /kaggle/working/watershed_segmented_mask/0824.png\n",
      "Segmented image saved: /kaggle/working/watershed_segmented_mask/0370.png\n",
      "Segmented image saved: /kaggle/working/watershed_segmented_mask/0166.png\n",
      "Segmented image saved: /kaggle/working/watershed_segmented_mask/0171.png\n",
      "Segmented image saved: /kaggle/working/watershed_segmented_mask/0575.png\n",
      "Segmented image saved: /kaggle/working/watershed_segmented_mask/0655.png\n",
      "Segmented image saved: /kaggle/working/watershed_segmented_mask/0915.png\n",
      "Segmented image saved: /kaggle/working/watershed_segmented_mask/1022.png\n",
      "Segmented image saved: /kaggle/working/watershed_segmented_mask/0228.png\n",
      "Segmented image saved: /kaggle/working/watershed_segmented_mask/1035.png\n",
      "Segmented image saved: /kaggle/working/watershed_segmented_mask/0847.png\n",
      "Segmented image saved: /kaggle/working/watershed_segmented_mask/1202.png\n",
      "Segmented image saved: /kaggle/working/watershed_segmented_mask/0363.png\n",
      "Segmented image saved: /kaggle/working/watershed_segmented_mask/0234.png\n",
      "Segmented image saved: /kaggle/working/watershed_segmented_mask/0356.png\n",
      "Segmented image saved: /kaggle/working/watershed_segmented_mask/0775.png\n",
      "Segmented image saved: /kaggle/working/watershed_segmented_mask/1049.png\n",
      "Segmented image saved: /kaggle/working/watershed_segmented_mask/1173.png\n",
      "Segmented image saved: /kaggle/working/watershed_segmented_mask/0078.png\n",
      "Segmented image saved: /kaggle/working/watershed_segmented_mask/0895.png\n",
      "Segmented image saved: /kaggle/working/watershed_segmented_mask/1225.png\n",
      "Segmented image saved: /kaggle/working/watershed_segmented_mask/0773.png\n",
      "Segmented image saved: /kaggle/working/watershed_segmented_mask/0640.png\n",
      "Segmented image saved: /kaggle/working/watershed_segmented_mask/0837.png\n",
      "Segmented image saved: /kaggle/working/watershed_segmented_mask/0360.png\n",
      "Segmented image saved: /kaggle/working/watershed_segmented_mask/0772.png\n",
      "Segmented image saved: /kaggle/working/watershed_segmented_mask/0431.png\n",
      "Segmented image saved: /kaggle/working/watershed_segmented_mask/0803.png\n",
      "Segmented image saved: /kaggle/working/watershed_segmented_mask/0590.png\n",
      "Segmented image saved: /kaggle/working/watershed_segmented_mask/0451.png\n",
      "Segmented image saved: /kaggle/working/watershed_segmented_mask/1310.png\n",
      "Segmented image saved: /kaggle/working/watershed_segmented_mask/0364.png\n",
      "Segmented image saved: /kaggle/working/watershed_segmented_mask/1183.png\n",
      "Segmented image saved: /kaggle/working/watershed_segmented_mask/0740.png\n",
      "Segmented image saved: /kaggle/working/watershed_segmented_mask/0477.png\n",
      "Segmented image saved: /kaggle/working/watershed_segmented_mask/1311.png\n",
      "Segmented image saved: /kaggle/working/watershed_segmented_mask/1187.png\n",
      "Segmented image saved: /kaggle/working/watershed_segmented_mask/0677.png\n",
      "Segmented image saved: /kaggle/working/watershed_segmented_mask/1245.png\n",
      "Segmented image saved: /kaggle/working/watershed_segmented_mask/0144.png\n",
      "Segmented image saved: /kaggle/working/watershed_segmented_mask/0459.png\n",
      "Segmented image saved: /kaggle/working/watershed_segmented_mask/1066.png\n",
      "Segmented image saved: /kaggle/working/watershed_segmented_mask/1024.png\n",
      "Segmented image saved: /kaggle/working/watershed_segmented_mask/0601.png\n",
      "Segmented image saved: /kaggle/working/watershed_segmented_mask/1248.png\n",
      "Segmented image saved: /kaggle/working/watershed_segmented_mask/0468.png\n",
      "Segmented image saved: /kaggle/working/watershed_segmented_mask/0638.png\n",
      "Segmented image saved: /kaggle/working/watershed_segmented_mask/0147.png\n",
      "Segmented image saved: /kaggle/working/watershed_segmented_mask/0444.png\n",
      "Segmented image saved: /kaggle/working/watershed_segmented_mask/0490.png\n",
      "Segmented image saved: /kaggle/working/watershed_segmented_mask/1058.png\n",
      "Segmented image saved: /kaggle/working/watershed_segmented_mask/0724.png\n",
      "Segmented image saved: /kaggle/working/watershed_segmented_mask/0036.png\n",
      "Segmented image saved: /kaggle/working/watershed_segmented_mask/1157.png\n",
      "Segmented image saved: /kaggle/working/watershed_segmented_mask/0491.png\n",
      "Segmented image saved: /kaggle/working/watershed_segmented_mask/0176.png\n",
      "Segmented image saved: /kaggle/working/watershed_segmented_mask/0599.png\n",
      "Segmented image saved: /kaggle/working/watershed_segmented_mask/0350.png\n",
      "Segmented image saved: /kaggle/working/watershed_segmented_mask/1096.png\n",
      "Segmented image saved: /kaggle/working/watershed_segmented_mask/1292.png\n",
      "Segmented image saved: /kaggle/working/watershed_segmented_mask/0946.png\n",
      "Segmented image saved: /kaggle/working/watershed_segmented_mask/0734.png\n",
      "Segmented image saved: /kaggle/working/watershed_segmented_mask/0794.png\n",
      "Segmented image saved: /kaggle/working/watershed_segmented_mask/1233.png\n",
      "Segmented image saved: /kaggle/working/watershed_segmented_mask/0037.png\n",
      "Segmented image saved: /kaggle/working/watershed_segmented_mask/0834.png\n",
      "Segmented image saved: /kaggle/working/watershed_segmented_mask/1003.png\n",
      "Segmented image saved: /kaggle/working/watershed_segmented_mask/0447.png\n",
      "Segmented image saved: /kaggle/working/watershed_segmented_mask/1319.png\n",
      "Segmented image saved: /kaggle/working/watershed_segmented_mask/1032.png\n",
      "Segmented image saved: /kaggle/working/watershed_segmented_mask/1016.png\n",
      "Segmented image saved: /kaggle/working/watershed_segmented_mask/1143.png\n",
      "Segmented image saved: /kaggle/working/watershed_segmented_mask/0831.png\n",
      "Segmented image saved: /kaggle/working/watershed_segmented_mask/0124.png\n",
      "Segmented image saved: /kaggle/working/watershed_segmented_mask/0358.png\n",
      "Segmented image saved: /kaggle/working/watershed_segmented_mask/0190.png\n",
      "Segmented image saved: /kaggle/working/watershed_segmented_mask/1115.png\n",
      "Segmented image saved: /kaggle/working/watershed_segmented_mask/0701.png\n",
      "Segmented image saved: /kaggle/working/watershed_segmented_mask/0725.png\n",
      "Segmented image saved: /kaggle/working/watershed_segmented_mask/0326.png\n",
      "Segmented image saved: /kaggle/working/watershed_segmented_mask/0889.png\n",
      "Segmented image saved: /kaggle/working/watershed_segmented_mask/0592.png\n",
      "Segmented image saved: /kaggle/working/watershed_segmented_mask/1048.png\n",
      "Segmented image saved: /kaggle/working/watershed_segmented_mask/1312.png\n",
      "Segmented image saved: /kaggle/working/watershed_segmented_mask/0998.png\n",
      "Segmented image saved: /kaggle/working/watershed_segmented_mask/0686.png\n",
      "Segmented image saved: /kaggle/working/watershed_segmented_mask/1071.png\n",
      "Segmented image saved: /kaggle/working/watershed_segmented_mask/0704.png\n",
      "Segmented image saved: /kaggle/working/watershed_segmented_mask/0304.png\n",
      "Segmented image saved: /kaggle/working/watershed_segmented_mask/0014.png\n",
      "Segmented image saved: /kaggle/working/watershed_segmented_mask/0871.png\n",
      "Segmented image saved: /kaggle/working/watershed_segmented_mask/0979.png\n",
      "Segmented image saved: /kaggle/working/watershed_segmented_mask/0116.png\n",
      "Segmented image saved: /kaggle/working/watershed_segmented_mask/0774.png\n",
      "Segmented image saved: /kaggle/working/watershed_segmented_mask/0220.png\n",
      "Segmented image saved: /kaggle/working/watershed_segmented_mask/0225.png\n",
      "Segmented image saved: /kaggle/working/watershed_segmented_mask/0424.png\n",
      "Segmented image saved: /kaggle/working/watershed_segmented_mask/0748.png\n",
      "Segmented image saved: /kaggle/working/watershed_segmented_mask/1148.png\n",
      "Segmented image saved: /kaggle/working/watershed_segmented_mask/0584.png\n",
      "Segmented image saved: /kaggle/working/watershed_segmented_mask/0556.png\n",
      "Segmented image saved: /kaggle/working/watershed_segmented_mask/1149.png\n",
      "Segmented image saved: /kaggle/working/watershed_segmented_mask/1289.png\n",
      "Segmented image saved: /kaggle/working/watershed_segmented_mask/0717.png\n",
      "Segmented image saved: /kaggle/working/watershed_segmented_mask/0173.png\n",
      "Segmented image saved: /kaggle/working/watershed_segmented_mask/0823.png\n",
      "Segmented image saved: /kaggle/working/watershed_segmented_mask/1130.png\n",
      "Segmented image saved: /kaggle/working/watershed_segmented_mask/0043.png\n",
      "Segmented image saved: /kaggle/working/watershed_segmented_mask/0512.png\n",
      "Segmented image saved: /kaggle/working/watershed_segmented_mask/0430.png\n",
      "Segmented image saved: /kaggle/working/watershed_segmented_mask/0501.png\n",
      "Segmented image saved: /kaggle/working/watershed_segmented_mask/1030.png\n",
      "Segmented image saved: /kaggle/working/watershed_segmented_mask/0952.png\n",
      "Segmented image saved: /kaggle/working/watershed_segmented_mask/0020.png\n",
      "Segmented image saved: /kaggle/working/watershed_segmented_mask/0654.png\n",
      "Segmented image saved: /kaggle/working/watershed_segmented_mask/0929.png\n",
      "Segmented image saved: /kaggle/working/watershed_segmented_mask/1309.png\n",
      "Segmented image saved: /kaggle/working/watershed_segmented_mask/1263.png\n",
      "Segmented image saved: /kaggle/working/watershed_segmented_mask/1293.png\n",
      "Segmented image saved: /kaggle/working/watershed_segmented_mask/0206.png\n",
      "Segmented image saved: /kaggle/working/watershed_segmented_mask/0177.png\n",
      "Segmented image saved: /kaggle/working/watershed_segmented_mask/0770.png\n",
      "Segmented image saved: /kaggle/working/watershed_segmented_mask/1277.png\n",
      "Segmented image saved: /kaggle/working/watershed_segmented_mask/0801.png\n",
      "Segmented image saved: /kaggle/working/watershed_segmented_mask/1165.png\n",
      "Segmented image saved: /kaggle/working/watershed_segmented_mask/1042.png\n",
      "Segmented image saved: /kaggle/working/watershed_segmented_mask/0135.png\n",
      "Segmented image saved: /kaggle/working/watershed_segmented_mask/1284.png\n",
      "Segmented image saved: /kaggle/working/watershed_segmented_mask/0528.png\n",
      "Segmented image saved: /kaggle/working/watershed_segmented_mask/0400.png\n",
      "Segmented image saved: /kaggle/working/watershed_segmented_mask/1321.png\n",
      "Segmented image saved: /kaggle/working/watershed_segmented_mask/1159.png\n",
      "Segmented image saved: /kaggle/working/watershed_segmented_mask/0108.png\n",
      "Segmented image saved: /kaggle/working/watershed_segmented_mask/0258.png\n",
      "Segmented image saved: /kaggle/working/watershed_segmented_mask/0612.png\n",
      "Segmented image saved: /kaggle/working/watershed_segmented_mask/1239.png\n",
      "Segmented image saved: /kaggle/working/watershed_segmented_mask/0061.png\n",
      "Segmented image saved: /kaggle/working/watershed_segmented_mask/0211.png\n",
      "Segmented image saved: /kaggle/working/watershed_segmented_mask/0788.png\n",
      "Segmented image saved: /kaggle/working/watershed_segmented_mask/0643.png\n",
      "Segmented image saved: /kaggle/working/watershed_segmented_mask/0339.png\n",
      "Segmented image saved: /kaggle/working/watershed_segmented_mask/0645.png\n",
      "Segmented image saved: /kaggle/working/watershed_segmented_mask/0428.png\n",
      "Segmented image saved: /kaggle/working/watershed_segmented_mask/0890.png\n",
      "Segmented image saved: /kaggle/working/watershed_segmented_mask/1223.png\n",
      "Segmented image saved: /kaggle/working/watershed_segmented_mask/1055.png\n",
      "Segmented image saved: /kaggle/working/watershed_segmented_mask/0615.png\n",
      "Segmented image saved: /kaggle/working/watershed_segmented_mask/0793.png\n",
      "Segmented image saved: /kaggle/working/watershed_segmented_mask/1290.png\n",
      "Segmented image saved: /kaggle/working/watershed_segmented_mask/0403.png\n",
      "Segmented image saved: /kaggle/working/watershed_segmented_mask/1070.png\n",
      "Segmented image saved: /kaggle/working/watershed_segmented_mask/0869.png\n",
      "Segmented image saved: /kaggle/working/watershed_segmented_mask/0958.png\n",
      "Segmented image saved: /kaggle/working/watershed_segmented_mask/0936.png\n",
      "Segmented image saved: /kaggle/working/watershed_segmented_mask/0265.png\n",
      "Segmented image saved: /kaggle/working/watershed_segmented_mask/0583.png\n",
      "Segmented image saved: /kaggle/working/watershed_segmented_mask/0902.png\n",
      "Segmented image saved: /kaggle/working/watershed_segmented_mask/1077.png\n",
      "Segmented image saved: /kaggle/working/watershed_segmented_mask/0541.png\n",
      "Segmented image saved: /kaggle/working/watershed_segmented_mask/0395.png\n",
      "Segmented image saved: /kaggle/working/watershed_segmented_mask/0179.png\n",
      "Segmented image saved: /kaggle/working/watershed_segmented_mask/0034.png\n",
      "Segmented image saved: /kaggle/working/watershed_segmented_mask/0213.png\n",
      "Segmented image saved: /kaggle/working/watershed_segmented_mask/1203.png\n",
      "Segmented image saved: /kaggle/working/watershed_segmented_mask/0606.png\n",
      "Segmented image saved: /kaggle/working/watershed_segmented_mask/1283.png\n",
      "Segmented image saved: /kaggle/working/watershed_segmented_mask/0953.png\n",
      "Segmented image saved: /kaggle/working/watershed_segmented_mask/0123.png\n",
      "Segmented image saved: /kaggle/working/watershed_segmented_mask/1207.png\n",
      "Segmented image saved: /kaggle/working/watershed_segmented_mask/0716.png\n",
      "Segmented image saved: /kaggle/working/watershed_segmented_mask/0229.png\n",
      "Segmented image saved: /kaggle/working/watershed_segmented_mask/0259.png\n",
      "Segmented image saved: /kaggle/working/watershed_segmented_mask/0246.png\n",
      "Segmented image saved: /kaggle/working/watershed_segmented_mask/0898.png\n",
      "Segmented image saved: /kaggle/working/watershed_segmented_mask/0923.png\n",
      "Segmented image saved: /kaggle/working/watershed_segmented_mask/0591.png\n",
      "Segmented image saved: /kaggle/working/watershed_segmented_mask/1065.png\n",
      "Segmented image saved: /kaggle/working/watershed_segmented_mask/0550.png\n",
      "Segmented image saved: /kaggle/working/watershed_segmented_mask/0630.png\n",
      "Segmented image saved: /kaggle/working/watershed_segmented_mask/0242.png\n",
      "Segmented image saved: /kaggle/working/watershed_segmented_mask/0165.png\n",
      "Segmented image saved: /kaggle/working/watershed_segmented_mask/0826.png\n",
      "Segmented image saved: /kaggle/working/watershed_segmented_mask/0050.png\n",
      "Segmented image saved: /kaggle/working/watershed_segmented_mask/0672.png\n",
      "Segmented image saved: /kaggle/working/watershed_segmented_mask/0001.png\n",
      "Segmented image saved: /kaggle/working/watershed_segmented_mask/0784.png\n",
      "Segmented image saved: /kaggle/working/watershed_segmented_mask/0876.png\n",
      "Segmented image saved: /kaggle/working/watershed_segmented_mask/0586.png\n",
      "Segmented image saved: /kaggle/working/watershed_segmented_mask/0161.png\n",
      "Segmented image saved: /kaggle/working/watershed_segmented_mask/0378.png\n",
      "Segmented image saved: /kaggle/working/watershed_segmented_mask/0113.png\n",
      "Segmented image saved: /kaggle/working/watershed_segmented_mask/0707.png\n",
      "Segmented image saved: /kaggle/working/watershed_segmented_mask/0863.png\n",
      "Segmented image saved: /kaggle/working/watershed_segmented_mask/1116.png\n",
      "Segmented image saved: /kaggle/working/watershed_segmented_mask/0651.png\n",
      "Segmented image saved: /kaggle/working/watershed_segmented_mask/0499.png\n",
      "Segmented image saved: /kaggle/working/watershed_segmented_mask/0489.png\n",
      "Segmented image saved: /kaggle/working/watershed_segmented_mask/0215.png\n",
      "Segmented image saved: /kaggle/working/watershed_segmented_mask/0778.png\n",
      "Segmented image saved: /kaggle/working/watershed_segmented_mask/0880.png\n",
      "Segmented image saved: /kaggle/working/watershed_segmented_mask/0473.png\n",
      "Segmented image saved: /kaggle/working/watershed_segmented_mask/0639.png\n",
      "Segmented image saved: /kaggle/working/watershed_segmented_mask/1100.png\n",
      "Segmented image saved: /kaggle/working/watershed_segmented_mask/1215.png\n",
      "Segmented image saved: /kaggle/working/watershed_segmented_mask/0657.png\n",
      "Segmented image saved: /kaggle/working/watershed_segmented_mask/0722.png\n",
      "Segmented image saved: /kaggle/working/watershed_segmented_mask/0648.png\n",
      "Segmented image saved: /kaggle/working/watershed_segmented_mask/0359.png\n",
      "Segmented image saved: /kaggle/working/watershed_segmented_mask/0636.png\n",
      "Segmented image saved: /kaggle/working/watershed_segmented_mask/0720.png\n",
      "Segmented image saved: /kaggle/working/watershed_segmented_mask/1180.png\n",
      "Segmented image saved: /kaggle/working/watershed_segmented_mask/1084.png\n",
      "Segmented image saved: /kaggle/working/watershed_segmented_mask/0338.png\n",
      "Segmented image saved: /kaggle/working/watershed_segmented_mask/0327.png\n",
      "Segmented image saved: /kaggle/working/watershed_segmented_mask/0142.png\n",
      "Segmented image saved: /kaggle/working/watershed_segmented_mask/0610.png\n",
      "Segmented image saved: /kaggle/working/watershed_segmented_mask/0842.png\n",
      "Segmented image saved: /kaggle/working/watershed_segmented_mask/0790.png\n",
      "Segmented image saved: /kaggle/working/watershed_segmented_mask/0175.png\n",
      "Segmented image saved: /kaggle/working/watershed_segmented_mask/1266.png\n",
      "Segmented image saved: /kaggle/working/watershed_segmented_mask/0434.png\n",
      "Segmented image saved: /kaggle/working/watershed_segmented_mask/0231.png\n",
      "Segmented image saved: /kaggle/working/watershed_segmented_mask/0413.png\n",
      "Segmented image saved: /kaggle/working/watershed_segmented_mask/0989.png\n",
      "Segmented image saved: /kaggle/working/watershed_segmented_mask/1045.png\n",
      "Segmented image saved: /kaggle/working/watershed_segmented_mask/1172.png\n",
      "Segmented image saved: /kaggle/working/watershed_segmented_mask/0150.png\n",
      "Segmented image saved: /kaggle/working/watershed_segmented_mask/0015.png\n",
      "Segmented image saved: /kaggle/working/watershed_segmented_mask/0797.png\n",
      "Segmented image saved: /kaggle/working/watershed_segmented_mask/0611.png\n",
      "Segmented image saved: /kaggle/working/watershed_segmented_mask/0461.png\n",
      "Segmented image saved: /kaggle/working/watershed_segmented_mask/0419.png\n",
      "Segmented image saved: /kaggle/working/watershed_segmented_mask/0685.png\n",
      "Segmented image saved: /kaggle/working/watershed_segmented_mask/1236.png\n",
      "Segmented image saved: /kaggle/working/watershed_segmented_mask/1271.png\n",
      "Segmented image saved: /kaggle/working/watershed_segmented_mask/0960.png\n",
      "Segmented image saved: /kaggle/working/watershed_segmented_mask/0071.png\n",
      "Segmented image saved: /kaggle/working/watershed_segmented_mask/0367.png\n",
      "Segmented image saved: /kaggle/working/watershed_segmented_mask/0230.png\n",
      "Segmented image saved: /kaggle/working/watershed_segmented_mask/0004.png\n",
      "Segmented image saved: /kaggle/working/watershed_segmented_mask/0199.png\n",
      "Segmented image saved: /kaggle/working/watershed_segmented_mask/0822.png\n",
      "Segmented image saved: /kaggle/working/watershed_segmented_mask/0634.png\n",
      "Segmented image saved: /kaggle/working/watershed_segmented_mask/0663.png\n",
      "Segmented image saved: /kaggle/working/watershed_segmented_mask/0906.png\n",
      "Segmented image saved: /kaggle/working/watershed_segmented_mask/0681.png\n",
      "Segmented image saved: /kaggle/working/watershed_segmented_mask/0072.png\n",
      "Segmented image saved: /kaggle/working/watershed_segmented_mask/0109.png\n",
      "Segmented image saved: /kaggle/working/watershed_segmented_mask/0272.png\n",
      "Segmented image saved: /kaggle/working/watershed_segmented_mask/1101.png\n",
      "Segmented image saved: /kaggle/working/watershed_segmented_mask/0664.png\n",
      "Segmented image saved: /kaggle/working/watershed_segmented_mask/0317.png\n",
      "Segmented image saved: /kaggle/working/watershed_segmented_mask/0934.png\n",
      "Segmented image saved: /kaggle/working/watershed_segmented_mask/0743.png\n",
      "Segmented image saved: /kaggle/working/watershed_segmented_mask/0238.png\n",
      "Segmented image saved: /kaggle/working/watershed_segmented_mask/0820.png\n",
      "Segmented image saved: /kaggle/working/watershed_segmented_mask/0156.png\n",
      "Segmented image saved: /kaggle/working/watershed_segmented_mask/0075.png\n",
      "Segmented image saved: /kaggle/working/watershed_segmented_mask/0433.png\n",
      "Segmented image saved: /kaggle/working/watershed_segmented_mask/0454.png\n",
      "Segmented image saved: /kaggle/working/watershed_segmented_mask/0968.png\n",
      "Segmented image saved: /kaggle/working/watershed_segmented_mask/0024.png\n",
      "Segmented image saved: /kaggle/working/watershed_segmented_mask/1013.png\n",
      "Segmented image saved: /kaggle/working/watershed_segmented_mask/0346.png\n",
      "Segmented image saved: /kaggle/working/watershed_segmented_mask/0316.png\n",
      "Segmented image saved: /kaggle/working/watershed_segmented_mask/0025.png\n",
      "Segmented image saved: /kaggle/working/watershed_segmented_mask/1050.png\n",
      "Segmented image saved: /kaggle/working/watershed_segmented_mask/1206.png\n",
      "Segmented image saved: /kaggle/working/watershed_segmented_mask/0967.png\n",
      "Segmented image saved: /kaggle/working/watershed_segmented_mask/0402.png\n",
      "Segmented image saved: /kaggle/working/watershed_segmented_mask/1133.png\n",
      "Segmented image saved: /kaggle/working/watershed_segmented_mask/0567.png\n",
      "Segmented image saved: /kaggle/working/watershed_segmented_mask/0197.png\n",
      "Segmented image saved: /kaggle/working/watershed_segmented_mask/0963.png\n",
      "Segmented image saved: /kaggle/working/watershed_segmented_mask/1111.png\n",
      "Segmented image saved: /kaggle/working/watershed_segmented_mask/0885.png\n",
      "Segmented image saved: /kaggle/working/watershed_segmented_mask/1220.png\n",
      "Segmented image saved: /kaggle/working/watershed_segmented_mask/0390.png\n",
      "Segmented image saved: /kaggle/working/watershed_segmented_mask/1098.png\n",
      "Segmented image saved: /kaggle/working/watershed_segmented_mask/0344.png\n",
      "Segmented image saved: /kaggle/working/watershed_segmented_mask/0577.png\n",
      "Segmented image saved: /kaggle/working/watershed_segmented_mask/0269.png\n",
      "Segmented image saved: /kaggle/working/watershed_segmented_mask/1181.png\n",
      "Segmented image saved: /kaggle/working/watershed_segmented_mask/1094.png\n",
      "Segmented image saved: /kaggle/working/watershed_segmented_mask/0274.png\n",
      "Segmented image saved: /kaggle/working/watershed_segmented_mask/1052.png\n",
      "Segmented image saved: /kaggle/working/watershed_segmented_mask/0891.png\n",
      "Segmented image saved: /kaggle/working/watershed_segmented_mask/0555.png\n",
      "Segmented image saved: /kaggle/working/watershed_segmented_mask/0894.png\n",
      "Segmented image saved: /kaggle/working/watershed_segmented_mask/1031.png\n",
      "Segmented image saved: /kaggle/working/watershed_segmented_mask/0653.png\n",
      "Segmented image saved: /kaggle/working/watershed_segmented_mask/0947.png\n",
      "Segmented image saved: /kaggle/working/watershed_segmented_mask/1106.png\n",
      "Segmented image saved: /kaggle/working/watershed_segmented_mask/0406.png\n",
      "Segmented image saved: /kaggle/working/watershed_segmented_mask/0545.png\n",
      "Segmented image saved: /kaggle/working/watershed_segmented_mask/0080.png\n",
      "Segmented image saved: /kaggle/working/watershed_segmented_mask/0398.png\n",
      "Segmented image saved: /kaggle/working/watershed_segmented_mask/0866.png\n",
      "Segmented image saved: /kaggle/working/watershed_segmented_mask/1300.png\n",
      "Segmented image saved: /kaggle/working/watershed_segmented_mask/0393.png\n",
      "Segmented image saved: /kaggle/working/watershed_segmented_mask/0329.png\n",
      "Segmented image saved: /kaggle/working/watershed_segmented_mask/0723.png\n",
      "Segmented image saved: /kaggle/working/watershed_segmented_mask/0146.png\n",
      "Segmented image saved: /kaggle/working/watershed_segmented_mask/0861.png\n",
      "Segmented image saved: /kaggle/working/watershed_segmented_mask/0892.png\n",
      "Segmented image saved: /kaggle/working/watershed_segmented_mask/1200.png\n",
      "Segmented image saved: /kaggle/working/watershed_segmented_mask/0786.png\n",
      "Segmented image saved: /kaggle/working/watershed_segmented_mask/0759.png\n",
      "Segmented image saved: /kaggle/working/watershed_segmented_mask/0151.png\n",
      "Segmented image saved: /kaggle/working/watershed_segmented_mask/1168.png\n",
      "Segmented image saved: /kaggle/working/watershed_segmented_mask/0379.png\n",
      "Segmented image saved: /kaggle/working/watershed_segmented_mask/0319.png\n",
      "Segmented image saved: /kaggle/working/watershed_segmented_mask/0070.png\n",
      "Segmented image saved: /kaggle/working/watershed_segmented_mask/0045.png\n",
      "Segmented image saved: /kaggle/working/watershed_segmented_mask/0838.png\n",
      "Segmented image saved: /kaggle/working/watershed_segmented_mask/0710.png\n",
      "Segmented image saved: /kaggle/working/watershed_segmented_mask/0455.png\n",
      "Segmented image saved: /kaggle/working/watershed_segmented_mask/0741.png\n",
      "Segmented image saved: /kaggle/working/watershed_segmented_mask/1177.png\n",
      "Segmented image saved: /kaggle/working/watershed_segmented_mask/1029.png\n",
      "Segmented image saved: /kaggle/working/watershed_segmented_mask/0263.png\n",
      "Segmented image saved: /kaggle/working/watershed_segmented_mask/0899.png\n",
      "Segmented image saved: /kaggle/working/watershed_segmented_mask/1235.png\n",
      "Segmented image saved: /kaggle/working/watershed_segmented_mask/0089.png\n",
      "Segmented image saved: /kaggle/working/watershed_segmented_mask/0052.png\n",
      "Segmented image saved: /kaggle/working/watershed_segmented_mask/1204.png\n",
      "Segmented image saved: /kaggle/working/watershed_segmented_mask/1103.png\n",
      "Segmented image saved: /kaggle/working/watershed_segmented_mask/0091.png\n",
      "Segmented image saved: /kaggle/working/watershed_segmented_mask/1237.png\n",
      "Segmented image saved: /kaggle/working/watershed_segmented_mask/1192.png\n",
      "Segmented image saved: /kaggle/working/watershed_segmented_mask/0068.png\n",
      "Segmented image saved: /kaggle/working/watershed_segmented_mask/0750.png\n",
      "Segmented image saved: /kaggle/working/watershed_segmented_mask/0226.png\n",
      "Segmented image saved: /kaggle/working/watershed_segmented_mask/0699.png\n",
      "Segmented image saved: /kaggle/working/watershed_segmented_mask/0381.png\n",
      "Segmented image saved: /kaggle/working/watershed_segmented_mask/0537.png\n",
      "Segmented image saved: /kaggle/working/watershed_segmented_mask/0806.png\n",
      "Segmented image saved: /kaggle/working/watershed_segmented_mask/1113.png\n",
      "Segmented image saved: /kaggle/working/watershed_segmented_mask/0521.png\n",
      "Segmented image saved: /kaggle/working/watershed_segmented_mask/0019.png\n",
      "Segmented image saved: /kaggle/working/watershed_segmented_mask/0058.png\n",
      "Segmented image saved: /kaggle/working/watershed_segmented_mask/0300.png\n",
      "Segmented image saved: /kaggle/working/watershed_segmented_mask/0886.png\n",
      "Segmented image saved: /kaggle/working/watershed_segmented_mask/0511.png\n",
      "Segmented image saved: /kaggle/working/watershed_segmented_mask/0532.png\n",
      "Segmented image saved: /kaggle/working/watershed_segmented_mask/1134.png\n",
      "Segmented image saved: /kaggle/working/watershed_segmented_mask/1012.png\n",
      "Segmented image saved: /kaggle/working/watershed_segmented_mask/0578.png\n",
      "Segmented image saved: /kaggle/working/watershed_segmented_mask/0682.png\n",
      "Segmented image saved: /kaggle/working/watershed_segmented_mask/0825.png\n",
      "Segmented image saved: /kaggle/working/watershed_segmented_mask/0404.png\n",
      "Segmented image saved: /kaggle/working/watershed_segmented_mask/0595.png\n",
      "Segmented image saved: /kaggle/working/watershed_segmented_mask/0739.png\n",
      "Segmented image saved: /kaggle/working/watershed_segmented_mask/0331.png\n",
      "Segmented image saved: /kaggle/working/watershed_segmented_mask/1051.png\n",
      "Segmented image saved: /kaggle/working/watershed_segmented_mask/0005.png\n",
      "Segmented image saved: /kaggle/working/watershed_segmented_mask/0257.png\n",
      "Segmented image saved: /kaggle/working/watershed_segmented_mask/0436.png\n",
      "Segmented image saved: /kaggle/working/watershed_segmented_mask/0112.png\n",
      "Segmented image saved: /kaggle/working/watershed_segmented_mask/0962.png\n",
      "Segmented image saved: /kaggle/working/watershed_segmented_mask/0196.png\n",
      "Segmented image saved: /kaggle/working/watershed_segmented_mask/0693.png\n",
      "Segmented image saved: /kaggle/working/watershed_segmented_mask/1128.png\n",
      "Segmented image saved: /kaggle/working/watershed_segmented_mask/0789.png\n",
      "Segmented image saved: /kaggle/working/watershed_segmented_mask/1320.png\n",
      "Segmented image saved: /kaggle/working/watershed_segmented_mask/0756.png\n",
      "Segmented image saved: /kaggle/working/watershed_segmented_mask/1256.png\n",
      "Segmented image saved: /kaggle/working/watershed_segmented_mask/0250.png\n",
      "Segmented image saved: /kaggle/working/watershed_segmented_mask/1069.png\n",
      "Segmented image saved: /kaggle/working/watershed_segmented_mask/0411.png\n",
      "Segmented image saved: /kaggle/working/watershed_segmented_mask/0818.png\n",
      "Segmented image saved: /kaggle/working/watershed_segmented_mask/0212.png\n",
      "Segmented image saved: /kaggle/working/watershed_segmented_mask/0919.png\n",
      "Segmented image saved: /kaggle/working/watershed_segmented_mask/0027.png\n",
      "Segmented image saved: /kaggle/working/watershed_segmented_mask/0849.png\n",
      "Segmented image saved: /kaggle/working/watershed_segmented_mask/0549.png\n",
      "Segmented image saved: /kaggle/working/watershed_segmented_mask/0084.png\n",
      "Segmented image saved: /kaggle/working/watershed_segmented_mask/0217.png\n",
      "Segmented image saved: /kaggle/working/watershed_segmented_mask/0758.png\n",
      "Segmented image saved: /kaggle/working/watershed_segmented_mask/0604.png\n",
      "Segmented image saved: /kaggle/working/watershed_segmented_mask/0561.png\n",
      "Segmented image saved: /kaggle/working/watershed_segmented_mask/0976.png\n",
      "Segmented image saved: /kaggle/working/watershed_segmented_mask/1295.png\n",
      "Segmented image saved: /kaggle/working/watershed_segmented_mask/0481.png\n",
      "Segmented image saved: /kaggle/working/watershed_segmented_mask/0526.png\n",
      "Segmented image saved: /kaggle/working/watershed_segmented_mask/0321.png\n",
      "Segmented image saved: /kaggle/working/watershed_segmented_mask/0210.png\n",
      "Segmented image saved: /kaggle/working/watershed_segmented_mask/0675.png\n",
      "Segmented image saved: /kaggle/working/watershed_segmented_mask/0922.png\n",
      "Segmented image saved: /kaggle/working/watershed_segmented_mask/0703.png\n",
      "Segmented image saved: /kaggle/working/watershed_segmented_mask/0943.png\n",
      "Segmented image saved: /kaggle/working/watershed_segmented_mask/0254.png\n",
      "Segmented image saved: /kaggle/working/watershed_segmented_mask/1259.png\n",
      "Segmented image saved: /kaggle/working/watershed_segmented_mask/1221.png\n",
      "Segmented image saved: /kaggle/working/watershed_segmented_mask/0679.png\n",
      "Segmented image saved: /kaggle/working/watershed_segmented_mask/0415.png\n",
      "Segmented image saved: /kaggle/working/watershed_segmented_mask/0385.png\n",
      "Segmented image saved: /kaggle/working/watershed_segmented_mask/0757.png\n",
      "Segmented image saved: /kaggle/working/watershed_segmented_mask/1170.png\n",
      "Segmented image saved: /kaggle/working/watershed_segmented_mask/0405.png\n",
      "Segmented image saved: /kaggle/working/watershed_segmented_mask/0517.png\n",
      "Segmented image saved: /kaggle/working/watershed_segmented_mask/0207.png\n"
     ]
    }
   ],
   "source": [
    "from skimage import io\n",
    "\n",
    "# Define the input directory containing the images\n",
    "input_dir = '/kaggle/working/original_renamed'  # Replace with your directory path\n",
    "\n",
    "# Define the output directory where you want to save segmented images\n",
    "output_dir = '/kaggle/working/watershed_segmented_mask'\n",
    "if not os.path.exists(output_dir):\n",
    "    os.makedirs(output_dir)  # Create the output directory if it doesn't exist\n",
    "\n",
    "# List all image files in the directory (assuming they have extensions like .png, .jpg)\n",
    "image_files = [f for f in os.listdir(input_dir) if f.endswith(('.png'))]\n",
    "\n",
    "# Check if any files are found\n",
    "if not image_files:\n",
    "    print(\"No image files found in the directory!\")\n",
    "else:\n",
    "    print(f\"Found {len(image_files)} image files.\")\n",
    "\n",
    "# Iterate over all images in the directory\n",
    "for image_file in image_files:\n",
    "    # Load the image\n",
    "    img_path = os.path.join(input_dir, image_file)\n",
    "    img = cv2.imread(img_path)\n",
    "\n",
    "    # Check if the image was loaded correctly\n",
    "    if img is None:\n",
    "        print(f\"Error loading {image_file}\")\n",
    "        continue\n",
    "\n",
    "    # Convert to grayscale\n",
    "    gray = cv2.cvtColor(img, cv2.COLOR_BGR2GRAY)\n",
    "\n",
    "    # Apply thresholding and morphological operations\n",
    "    ret, thresh = cv2.threshold(gray, 0, 255, cv2.THRESH_BINARY_INV + cv2.THRESH_OTSU)\n",
    "    kernel = np.ones((3, 3), np.uint8)\n",
    "    opening = cv2.morphologyEx(thresh, cv2.MORPH_OPEN, kernel, iterations=3)\n",
    "    sure_bg = cv2.dilate(opening, kernel, iterations=9)\n",
    "\n",
    "    dist_transform = cv2.distanceTransform(opening, cv2.DIST_L2, 3)\n",
    "    ret, sure_fg = cv2.threshold(dist_transform, 0.5 * dist_transform.max(), 255, 0)\n",
    "\n",
    "    sure_fg = np.uint8(sure_fg)\n",
    "    unknown = cv2.subtract(sure_bg, sure_fg)\n",
    "\n",
    "    ret, markers1 = cv2.connectedComponents(sure_fg)\n",
    "    markers = markers1 + 10\n",
    "    markers[unknown == 255] = 0\n",
    "    markers3 = cv2.watershed(img, markers)\n",
    "    img[markers3 == -1] = [255, 255, 255]\n",
    "\n",
    "    # Convert the segmented image to grayscale\n",
    "    gr = cv2.cvtColor(img, cv2.COLOR_BGR2GRAY)\n",
    "\n",
    "    # Apply thresholding\n",
    "    ret1, th1 = cv2.threshold(gr, 127, 255, 0)\n",
    "    imagem = cv2.bitwise_not(th1)\n",
    "\n",
    "    # Define the output path for the segmented image\n",
    "    output_path = os.path.join(output_dir, image_file)\n",
    "    \n",
    "    # Save the segmented image\n",
    "    cv2.imwrite(output_path, imagem)\n",
    "    print(f\"Segmented image saved: {output_path}\")\n",
    "\n",
    "# Now, display all saved segmented images\n",
    "# segmented_image_files = [f for f in os.listdir(output_dir) if f.endswith('.png')]\n",
    "# for segmented_image_file in segmented_image_files:\n",
    "#     segmented_image_path = os.path.join(output_dir, segmented_image_file)\n",
    "#     segmented_image = cv2.imread(segmented_image_path)\n",
    "\n",
    "#     # Display the image using skimage.io.imshow\n",
    "#     io.imshow(segmented_image)\n",
    "#     plt.title(segmented_image_file)\n",
    "#     plt.axis('off')  # Hide axis\n",
    "#     plt.show()  # Display the image\n",
    "\n"
   ]
  },
  {
   "cell_type": "markdown",
   "id": "30b64763",
   "metadata": {
    "papermill": {
     "duration": 0.051106,
     "end_time": "2024-09-23T10:52:00.313821",
     "exception": false,
     "start_time": "2024-09-23T10:52:00.262715",
     "status": "completed"
    },
    "tags": []
   },
   "source": [
    "# Applying Jaccard and Dice-coefficient indexes"
   ]
  },
  {
   "cell_type": "code",
   "execution_count": 9,
   "id": "2ce2e8ec",
   "metadata": {
    "execution": {
     "iopub.execute_input": "2024-09-23T10:52:00.418523Z",
     "iopub.status.busy": "2024-09-23T10:52:00.417788Z",
     "iopub.status.idle": "2024-09-23T10:52:56.696993Z",
     "shell.execute_reply": "2024-09-23T10:52:56.695869Z"
    },
    "papermill": {
     "duration": 56.33356,
     "end_time": "2024-09-23T10:52:56.699071",
     "exception": false,
     "start_time": "2024-09-23T10:52:00.365511",
     "status": "completed"
    },
    "tags": []
   },
   "outputs": [
    {
     "name": "stdout",
     "output_type": "stream",
     "text": [
      "File: 0862.png, Dice Coef: 0.5283471345901489, Jaccard Index: 0.3590167462825775\n",
      "File: 0882.png, Dice Coef: 0.4630442261695862, Jaccard Index: 0.3012746572494507\n",
      "File: 0986.png, Dice Coef: 0.9094681143760681, Jaccard Index: 0.8339676856994629\n",
      "File: 0814.png, Dice Coef: 0.9293028712272644, Jaccard Index: 0.8679419755935669\n",
      "File: 0081.png, Dice Coef: 0.884781002998352, Jaccard Index: 0.7933698892593384\n"
     ]
    },
    {
     "name": "stderr",
     "output_type": "stream",
     "text": [
      "libpng warning: iCCP: known incorrect sRGB profile\n",
      "libpng warning: iCCP: known incorrect sRGB profile\n",
      "libpng warning: iCCP: known incorrect sRGB profile\n",
      "libpng warning: iCCP: known incorrect sRGB profile\n",
      "libpng warning: iCCP: known incorrect sRGB profile\n"
     ]
    },
    {
     "name": "stdout",
     "output_type": "stream",
     "text": [
      "File: 0558.png, Dice Coef: 0.3923432528972626, Jaccard Index: 0.24404793977737427\n",
      "File: 0224.png, Dice Coef: 0.8425989151000977, Jaccard Index: 0.7280097603797913\n",
      "File: 0747.png, Dice Coef: 0.9100415706634521, Jaccard Index: 0.8349325060844421\n",
      "File: 0833.png, Dice Coef: 0.8854836821556091, Jaccard Index: 0.7945005893707275\n",
      "File: 1123.png, Dice Coef: 0.8863295912742615, Jaccard Index: 0.7958636283874512\n",
      "File: 0486.png, Dice Coef: 0.7770901322364807, Jaccard Index: 0.6354438066482544\n",
      "File: 0768.png, Dice Coef: 0.9277433753013611, Jaccard Index: 0.8652253746986389\n",
      "File: 0901.png, Dice Coef: 0.9203172326087952, Jaccard Index: 0.8523961305618286\n",
      "File: 0600.png, Dice Coef: 0.253711462020874, Jaccard Index: 0.14528676867485046\n",
      "File: 1252.png, Dice Coef: 0.8074247241020203, Jaccard Index: 0.6770433187484741\n",
      "File: 1083.png, Dice Coef: 0.926156759262085, Jaccard Index: 0.8624693155288696\n",
      "File: 0713.png, Dice Coef: 0.9418115019798279, Jaccard Index: 0.8900225162506104\n"
     ]
    },
    {
     "name": "stderr",
     "output_type": "stream",
     "text": [
      "libpng warning: iCCP: known incorrect sRGB profile\n"
     ]
    },
    {
     "name": "stdout",
     "output_type": "stream",
     "text": [
      "File: 0438.png, Dice Coef: 0.9178659319877625, Jaccard Index: 0.8481999039649963\n",
      "File: 0352.png, Dice Coef: 0.856574296951294, Jaccard Index: 0.7491300702095032\n",
      "File: 1154.png, Dice Coef: 0.844271719455719, Jaccard Index: 0.7305108308792114\n",
      "File: 0683.png, Dice Coef: 0.9029275178909302, Jaccard Index: 0.8230336904525757\n",
      "File: 0921.png, Dice Coef: 0.8039061427116394, Jaccard Index: 0.6721097230911255\n",
      "File: 1010.png, Dice Coef: 0.8888350129127502, Jaccard Index: 0.7999128103256226\n"
     ]
    },
    {
     "name": "stderr",
     "output_type": "stream",
     "text": [
      "libpng warning: iCCP: known incorrect sRGB profile\n",
      "libpng warning: iCCP: known incorrect sRGB profile\n",
      "libpng warning: iCCP: known incorrect sRGB profile\n",
      "libpng warning: iCCP: known incorrect sRGB profile\n"
     ]
    },
    {
     "name": "stdout",
     "output_type": "stream",
     "text": [
      "File: 0460.png, Dice Coef: 0.8460680246353149, Jaccard Index: 0.7332045435905457\n",
      "File: 1104.png, Dice Coef: 0.9075782299041748, Jaccard Index: 0.8307949304580688\n",
      "File: 0571.png, Dice Coef: 0.8712058067321777, Jaccard Index: 0.7718023061752319\n",
      "File: 0260.png, Dice Coef: 0.8968468904495239, Jaccard Index: 0.8129850625991821\n",
      "File: 0568.png, Dice Coef: 0.4865308701992035, Jaccard Index: 0.3214680850505829\n",
      "File: 1079.png, Dice Coef: 0.9219334721565247, Jaccard Index: 0.8551731705665588\n"
     ]
    },
    {
     "name": "stderr",
     "output_type": "stream",
     "text": [
      "libpng warning: iCCP: known incorrect sRGB profile\n",
      "libpng warning: iCCP: known incorrect sRGB profile\n",
      "libpng warning: iCCP: known incorrect sRGB profile\n"
     ]
    },
    {
     "name": "stdout",
     "output_type": "stream",
     "text": [
      "File: 1305.png, Dice Coef: 0.8845558166503906, Jaccard Index: 0.7930079102516174\n",
      "File: 0308.png, Dice Coef: 0.896896243095398, Jaccard Index: 0.813066303730011\n",
      "File: 0139.png, Dice Coef: 0.7888967990875244, Jaccard Index: 0.6513871550559998\n",
      "File: 0613.png, Dice Coef: 0.9080065488815308, Jaccard Index: 0.831512987613678\n",
      "File: 0562.png, Dice Coef: 0.8437691926956177, Jaccard Index: 0.729758620262146\n",
      "File: 0337.png, Dice Coef: 0.8421590328216553, Jaccard Index: 0.7273532748222351\n"
     ]
    },
    {
     "name": "stderr",
     "output_type": "stream",
     "text": [
      "libpng warning: iCCP: known incorrect sRGB profile\n"
     ]
    },
    {
     "name": "stdout",
     "output_type": "stream",
     "text": [
      "File: 1007.png, Dice Coef: 0.9568682312965393, Jaccard Index: 0.9173033833503723\n",
      "File: 0816.png, Dice Coef: 0.8196542263031006, Jaccard Index: 0.6944190263748169\n",
      "File: 0877.png, Dice Coef: 0.919980525970459, Jaccard Index: 0.8518186211585999\n",
      "File: 0729.png, Dice Coef: 0.8298476934432983, Jaccard Index: 0.7091795802116394\n",
      "File: 1023.png, Dice Coef: 0.5365904569625854, Jaccard Index: 0.3666720390319824\n",
      "File: 0767.png, Dice Coef: 0.8485293388366699, Jaccard Index: 0.7369095087051392\n"
     ]
    },
    {
     "name": "stderr",
     "output_type": "stream",
     "text": [
      "libpng warning: iCCP: known incorrect sRGB profile\n",
      "libpng warning: iCCP: known incorrect sRGB profile\n",
      "libpng warning: iCCP: known incorrect sRGB profile\n"
     ]
    },
    {
     "name": "stdout",
     "output_type": "stream",
     "text": [
      "File: 0083.png, Dice Coef: 0.8924033045768738, Jaccard Index: 0.8057115077972412\n",
      "File: 0821.png, Dice Coef: 0.9378583431243896, Jaccard Index: 0.8829882144927979\n",
      "File: 1081.png, Dice Coef: 0.9554852247238159, Jaccard Index: 0.9147648811340332\n",
      "File: 0138.png, Dice Coef: 0.8043898940086365, Jaccard Index: 0.672786295413971\n",
      "File: 0884.png, Dice Coef: 0.1962069869041443, Jaccard Index: 0.10877573490142822\n",
      "File: 1092.png, Dice Coef: 0.9102363586425781, Jaccard Index: 0.8352605104446411\n"
     ]
    },
    {
     "name": "stderr",
     "output_type": "stream",
     "text": [
      "libpng warning: iCCP: known incorrect sRGB profile\n",
      "libpng warning: iCCP: known incorrect sRGB profile\n"
     ]
    },
    {
     "name": "stdout",
     "output_type": "stream",
     "text": [
      "File: 0916.png, Dice Coef: 0.9333882927894592, Jaccard Index: 0.8750966787338257\n",
      "File: 1144.png, Dice Coef: 0.9593135714530945, Jaccard Index: 0.921808660030365\n",
      "File: 1127.png, Dice Coef: 0.8657587170600891, Jaccard Index: 0.7632933259010315\n",
      "File: 0932.png, Dice Coef: 0.921030580997467, Jaccard Index: 0.8536210060119629\n",
      "File: 1109.png, Dice Coef: 0.9708120822906494, Jaccard Index: 0.9432798027992249\n",
      "File: 0708.png, Dice Coef: 0.4751487672328949, Jaccard Index: 0.3116042912006378\n",
      "File: 0198.png, Dice Coef: 0.10339498519897461, Jaccard Index: 0.05451707914471626\n",
      "File: 0560.png, Dice Coef: 0.9221569299697876, Jaccard Index: 0.8555579781532288\n",
      "File: 0546.png, Dice Coef: 0.8646297454833984, Jaccard Index: 0.7615402340888977\n",
      "File: 1231.png, Dice Coef: 0.9225650429725647, Jaccard Index: 0.8562607169151306\n",
      "File: 1280.png, Dice Coef: 0.9207049608230591, Jaccard Index: 0.8530616760253906\n",
      "File: 0858.png, Dice Coef: 0.9323226809501648, Jaccard Index: 0.8732252717018127\n"
     ]
    },
    {
     "name": "stderr",
     "output_type": "stream",
     "text": [
      "libpng warning: iCCP: known incorrect sRGB profile\n",
      "libpng warning: iCCP: known incorrect sRGB profile\n"
     ]
    },
    {
     "name": "stdout",
     "output_type": "stream",
     "text": [
      "File: 1034.png, Dice Coef: 0.9110426306724548, Jaccard Index: 0.8366194367408752\n",
      "File: 0971.png, Dice Coef: 0.8083998560905457, Jaccard Index: 0.6784157156944275\n",
      "File: 0646.png, Dice Coef: 0.8467046618461609, Jaccard Index: 0.734161376953125\n",
      "File: 1121.png, Dice Coef: 0.9166072607040405, Jaccard Index: 0.8460527658462524\n",
      "File: 1229.png, Dice Coef: 0.9242568612098694, Jaccard Index: 0.8591801524162292\n",
      "File: 0051.png, Dice Coef: 0.7725246548652649, Jaccard Index: 0.6293612122535706\n"
     ]
    },
    {
     "name": "stderr",
     "output_type": "stream",
     "text": [
      "libpng warning: iCCP: known incorrect sRGB profile\n",
      "libpng warning: iCCP: known incorrect sRGB profile\n"
     ]
    },
    {
     "name": "stdout",
     "output_type": "stream",
     "text": [
      "File: 0129.png, Dice Coef: 0.8413771390914917, Jaccard Index: 0.7261874079704285\n",
      "File: 1167.png, Dice Coef: 0.810854434967041, Jaccard Index: 0.6818802356719971\n",
      "File: 0893.png, Dice Coef: 0.7694010138511658, Jaccard Index: 0.6252251267433167\n",
      "File: 1308.png, Dice Coef: 0.9214184880256653, Jaccard Index: 0.8542874455451965\n",
      "File: 1178.png, Dice Coef: 0.7139727473258972, Jaccard Index: 0.5551773309707642\n",
      "File: 0846.png, Dice Coef: 0.5033727288246155, Jaccard Index: 0.33633869886398315\n"
     ]
    },
    {
     "name": "stderr",
     "output_type": "stream",
     "text": [
      "libpng warning: iCCP: known incorrect sRGB profile\n",
      "libpng warning: iCCP: known incorrect sRGB profile\n",
      "libpng warning: iCCP: known incorrect sRGB profile\n"
     ]
    },
    {
     "name": "stdout",
     "output_type": "stream",
     "text": [
      "File: 0804.png, Dice Coef: 0.5220191478729248, Jaccard Index: 0.35319799184799194\n",
      "File: 0554.png, Dice Coef: 0.8187547326087952, Jaccard Index: 0.6931286454200745\n",
      "File: 0940.png, Dice Coef: 0.8580538630485535, Jaccard Index: 0.7513962388038635\n",
      "File: 1160.png, Dice Coef: 0.7348416447639465, Jaccard Index: 0.5808302164077759\n",
      "File: 0232.png, Dice Coef: 0.9411535263061523, Jaccard Index: 0.8888481259346008\n",
      "File: 0312.png, Dice Coef: 0.7118152379989624, Jaccard Index: 0.5525727868080139\n"
     ]
    },
    {
     "name": "stderr",
     "output_type": "stream",
     "text": [
      "libpng warning: iCCP: known incorrect sRGB profile\n",
      "libpng warning: iCCP: known incorrect sRGB profile\n",
      "libpng warning: iCCP: known incorrect sRGB profile\n"
     ]
    },
    {
     "name": "stdout",
     "output_type": "stream",
     "text": [
      "File: 0736.png, Dice Coef: 0.813840925693512, Jaccard Index: 0.6861147880554199\n",
      "File: 0730.png, Dice Coef: 0.05094924196600914, Jaccard Index: 0.026142030954360962\n",
      "File: 0926.png, Dice Coef: 0.8518990278244019, Jaccard Index: 0.742007315158844\n",
      "File: 0445.png, Dice Coef: 0.7370224595069885, Jaccard Index: 0.5835599899291992\n",
      "File: 0981.png, Dice Coef: 0.8457013964653015, Jaccard Index: 0.7326540946960449\n",
      "File: 0955.png, Dice Coef: 0.8303245902061462, Jaccard Index: 0.7098762392997742\n"
     ]
    },
    {
     "name": "stderr",
     "output_type": "stream",
     "text": [
      "libpng warning: iCCP: known incorrect sRGB profile\n",
      "libpng warning: iCCP: known incorrect sRGB profile\n",
      "libpng warning: iCCP: known incorrect sRGB profile\n",
      "libpng warning: iCCP: known incorrect sRGB profile\n",
      "libpng warning: iCCP: known incorrect sRGB profile\n",
      "libpng warning: iCCP: known incorrect sRGB profile\n"
     ]
    },
    {
     "name": "stdout",
     "output_type": "stream",
     "text": [
      "File: 0396.png, Dice Coef: 0.5453860759735107, Jaccard Index: 0.37493595480918884\n",
      "File: 0469.png, Dice Coef: 0.7188559770584106, Jaccard Index: 0.5611050128936768\n",
      "File: 0067.png, Dice Coef: 0.7419787645339966, Jaccard Index: 0.5897985696792603\n",
      "File: 0318.png, Dice Coef: 0.8429323434829712, Jaccard Index: 0.7285078167915344\n",
      "File: 0248.png, Dice Coef: 0.8399874567985535, Jaccard Index: 0.7241195440292358\n",
      "File: 1141.png, Dice Coef: 0.4070661664009094, Jaccard Index: 0.25554603338241577\n",
      "File: 1027.png, Dice Coef: 0.8399736881256104, Jaccard Index: 0.7240991592407227\n",
      "File: 0659.png, Dice Coef: 0.9523646831512451, Jaccard Index: 0.9090614318847656\n",
      "File: 0907.png, Dice Coef: 0.9185089468955994, Jaccard Index: 0.8492987751960754\n",
      "File: 0307.png, Dice Coef: 0.8992490768432617, Jaccard Index: 0.8169415593147278\n",
      "File: 1140.png, Dice Coef: 0.9205483198165894, Jaccard Index: 0.8527926802635193\n",
      "File: 0798.png, Dice Coef: 0.8529698848724365, Jaccard Index: 0.7436334490776062\n"
     ]
    },
    {
     "name": "stderr",
     "output_type": "stream",
     "text": [
      "libpng warning: iCCP: known incorrect sRGB profile\n",
      "libpng warning: iCCP: known incorrect sRGB profile\n"
     ]
    },
    {
     "name": "stdout",
     "output_type": "stream",
     "text": [
      "File: 0742.png, Dice Coef: 0.9393815398216248, Jaccard Index: 0.8856923580169678\n",
      "File: 0497.png, Dice Coef: 0.9265661239624023, Jaccard Index: 0.8631795644760132\n",
      "File: 0125.png, Dice Coef: 0.9040380120277405, Jaccard Index: 0.8248810172080994\n",
      "File: 1241.png, Dice Coef: 0.8632043600082397, Jaccard Index: 0.7593313455581665\n",
      "File: 1285.png, Dice Coef: 0.9424558281898499, Jaccard Index: 0.8911741375923157\n",
      "File: 1208.png, Dice Coef: 0.8858342170715332, Jaccard Index: 0.7950651049613953\n",
      "File: 0348.png, Dice Coef: 0.87913978099823, Jaccard Index: 0.7843440175056458\n",
      "File: 1325.png, Dice Coef: 0.9038717746734619, Jaccard Index: 0.8246041536331177\n",
      "File: 1301.png, Dice Coef: 0.9185979962348938, Jaccard Index: 0.8494511246681213\n",
      "File: 1090.png, Dice Coef: 0.9288954734802246, Jaccard Index: 0.8672314882278442\n",
      "File: 1188.png, Dice Coef: 0.5415613651275635, Jaccard Index: 0.37133002281188965\n",
      "File: 0249.png, Dice Coef: 0.9428846836090088, Jaccard Index: 0.8919413685798645\n",
      "File: 0442.png, Dice Coef: 0.949927031993866, Jaccard Index: 0.9046297073364258\n",
      "File: 0706.png, Dice Coef: 0.8498270511627197, Jaccard Index: 0.7388690710067749\n",
      "File: 0366.png, Dice Coef: 0.883439838886261, Jaccard Index: 0.7912158966064453\n",
      "File: 0095.png, Dice Coef: 0.7995680570602417, Jaccard Index: 0.6660672426223755\n",
      "File: 1230.png, Dice Coef: 0.9068196415901184, Jaccard Index: 0.8295244574546814\n",
      "File: 0543.png, Dice Coef: 0.9595001339912415, Jaccard Index: 0.9221531748771667\n",
      "File: 0362.png, Dice Coef: 0.9350754618644714, Jaccard Index: 0.8780674934387207\n",
      "File: 0029.png, Dice Coef: 0.4175785779953003, Jaccard Index: 0.26388639211654663\n",
      "File: 0432.png, Dice Coef: 0.9432085752487183, Jaccard Index: 0.8925212025642395\n",
      "File: 0101.png, Dice Coef: 0.7469314336776733, Jaccard Index: 0.596082329750061\n",
      "File: 0137.png, Dice Coef: 0.86998450756073, Jaccard Index: 0.769887387752533\n",
      "File: 0518.png, Dice Coef: 0.07332195341587067, Jaccard Index: 0.038057323545217514\n"
     ]
    },
    {
     "name": "stderr",
     "output_type": "stream",
     "text": [
      "libpng warning: iCCP: known incorrect sRGB profile\n"
     ]
    },
    {
     "name": "stdout",
     "output_type": "stream",
     "text": [
      "File: 1314.png, Dice Coef: 0.8912763595581055, Jaccard Index: 0.8038762211799622\n",
      "File: 1213.png, Dice Coef: 0.9017421007156372, Jaccard Index: 0.8210660815238953\n",
      "File: 1073.png, Dice Coef: 0.9671440124511719, Jaccard Index: 0.9363783597946167\n",
      "File: 0660.png, Dice Coef: 0.09586133062839508, Jaccard Index: 0.05034496635198593\n",
      "File: 0994.png, Dice Coef: 0.8024790287017822, Jaccard Index: 0.6701172590255737\n",
      "File: 0280.png, Dice Coef: 0.49767524003982544, Jaccard Index: 0.3312705457210541\n"
     ]
    },
    {
     "name": "stderr",
     "output_type": "stream",
     "text": [
      "libpng warning: iCCP: known incorrect sRGB profile\n"
     ]
    },
    {
     "name": "stdout",
     "output_type": "stream",
     "text": [
      "File: 0168.png, Dice Coef: 0.822975218296051, Jaccard Index: 0.6991997957229614\n",
      "File: 1147.png, Dice Coef: 0.8225879669189453, Jaccard Index: 0.6986410617828369\n",
      "File: 0182.png, Dice Coef: 0.9456446170806885, Jaccard Index: 0.8968937993049622\n",
      "File: 0505.png, Dice Coef: 0.9210783839225769, Jaccard Index: 0.853702962398529\n",
      "File: 0503.png, Dice Coef: 0.5235210657119751, Jaccard Index: 0.35457471013069153\n",
      "File: 1219.png, Dice Coef: 0.7841801643371582, Jaccard Index: 0.6449810862541199\n",
      "File: 0852.png, Dice Coef: 0.9378234148025513, Jaccard Index: 0.882926344871521\n",
      "File: 0219.png, Dice Coef: 0.8374298214912415, Jaccard Index: 0.7203264236450195\n",
      "File: 0384.png, Dice Coef: 0.7186834812164307, Jaccard Index: 0.5608952045440674\n",
      "File: 0813.png, Dice Coef: 0.8041636943817139, Jaccard Index: 0.672469973564148\n",
      "File: 0241.png, Dice Coef: 0.8732224106788635, Jaccard Index: 0.7749732732772827\n",
      "File: 0625.png, Dice Coef: 0.9713506698608398, Jaccard Index: 0.9442972540855408\n"
     ]
    },
    {
     "name": "stderr",
     "output_type": "stream",
     "text": [
      "libpng warning: iCCP: known incorrect sRGB profile\n",
      "libpng warning: iCCP: known incorrect sRGB profile\n",
      "libpng warning: iCCP: known incorrect sRGB profile\n"
     ]
    },
    {
     "name": "stdout",
     "output_type": "stream",
     "text": [
      "File: 0559.png, Dice Coef: 0.9052994847297668, Jaccard Index: 0.8269840478897095\n",
      "File: 0985.png, Dice Coef: 0.9230678677558899, Jaccard Index: 0.8571273684501648\n",
      "File: 1268.png, Dice Coef: 0.9389459490776062, Jaccard Index: 0.8849183320999146\n",
      "File: 0942.png, Dice Coef: 0.8328946232795715, Jaccard Index: 0.7136415839195251\n",
      "File: 0375.png, Dice Coef: 0.8086760640144348, Jaccard Index: 0.6788046956062317\n",
      "File: 1119.png, Dice Coef: 0.8514521718025208, Jaccard Index: 0.7413294911384583\n"
     ]
    },
    {
     "name": "stderr",
     "output_type": "stream",
     "text": [
      "libpng warning: iCCP: known incorrect sRGB profile\n",
      "libpng warning: iCCP: known incorrect sRGB profile\n",
      "libpng warning: iCCP: known incorrect sRGB profile\n"
     ]
    },
    {
     "name": "stdout",
     "output_type": "stream",
     "text": [
      "File: 1075.png, Dice Coef: 0.011447818949818611, Jaccard Index: 0.005757765844464302\n",
      "File: 0106.png, Dice Coef: 0.9015399217605591, Jaccard Index: 0.8207308650016785\n",
      "File: 1318.png, Dice Coef: 0.9116668701171875, Jaccard Index: 0.8376727104187012\n",
      "File: 0982.png, Dice Coef: 0.7347903251647949, Jaccard Index: 0.5807657837867737\n",
      "File: 0157.png, Dice Coef: 0.8394584059715271, Jaccard Index: 0.723333477973938\n",
      "File: 0401.png, Dice Coef: 0.6447339653968811, Jaccard Index: 0.47572576999664307\n"
     ]
    },
    {
     "name": "stderr",
     "output_type": "stream",
     "text": [
      "libpng warning: iCCP: known incorrect sRGB profile\n",
      "libpng warning: iCCP: known incorrect sRGB profile\n"
     ]
    },
    {
     "name": "stdout",
     "output_type": "stream",
     "text": [
      "File: 0974.png, Dice Coef: 0.8690869808197021, Jaccard Index: 0.7684828042984009\n",
      "File: 0598.png, Dice Coef: 0.8846297860145569, Jaccard Index: 0.7931268215179443\n",
      "File: 0735.png, Dice Coef: 0.9214372634887695, Jaccard Index: 0.8543196320533752\n",
      "File: 0872.png, Dice Coef: 0.9162883162498474, Jaccard Index: 0.8455093502998352\n",
      "File: 0289.png, Dice Coef: 0.9251622557640076, Jaccard Index: 0.8607460260391235\n",
      "File: 0925.png, Dice Coef: 0.8404797315597534, Jaccard Index: 0.7248514294624329\n"
     ]
    },
    {
     "name": "stderr",
     "output_type": "stream",
     "text": [
      "libpng warning: iCCP: known incorrect sRGB profile\n",
      "libpng warning: iCCP: known incorrect sRGB profile\n"
     ]
    },
    {
     "name": "stdout",
     "output_type": "stream",
     "text": [
      "File: 1120.png, Dice Coef: 0.8505956530570984, Jaccard Index: 0.7400319576263428\n",
      "File: 0191.png, Dice Coef: 0.8295796513557434, Jaccard Index: 0.7087879776954651\n",
      "File: 0661.png, Dice Coef: 0.8172261714935303, Jaccard Index: 0.6909405589103699\n",
      "File: 1137.png, Dice Coef: 0.8776301145553589, Jaccard Index: 0.7819440960884094\n",
      "File: 1001.png, Dice Coef: 0.617008626461029, Jaccard Index: 0.44614121317863464\n",
      "File: 1260.png, Dice Coef: 0.8390735983848572, Jaccard Index: 0.7227624654769897\n",
      "File: 0016.png, Dice Coef: 0.06862015277147293, Jaccard Index: 0.035530101507902145\n",
      "File: 1087.png, Dice Coef: 0.8611829280853271, Jaccard Index: 0.756208598613739\n",
      "File: 1099.png, Dice Coef: 0.11432360857725143, Jaccard Index: 0.06062857061624527\n",
      "File: 1185.png, Dice Coef: 0.8669870495796204, Jaccard Index: 0.7652049660682678\n",
      "File: 1182.png, Dice Coef: 0.7588451504707336, Jaccard Index: 0.6114028096199036\n",
      "File: 0183.png, Dice Coef: 0.8925347328186035, Jaccard Index: 0.8059259057044983\n"
     ]
    },
    {
     "name": "stderr",
     "output_type": "stream",
     "text": [
      "libpng warning: iCCP: known incorrect sRGB profile\n"
     ]
    },
    {
     "name": "stdout",
     "output_type": "stream",
     "text": [
      "File: 0573.png, Dice Coef: 0.4519781768321991, Jaccard Index: 0.29197195172309875\n",
      "File: 0340.png, Dice Coef: 0.8279262781143188, Jaccard Index: 0.7063775062561035\n",
      "File: 1036.png, Dice Coef: 0.9433313608169556, Jaccard Index: 0.8927410244941711\n",
      "File: 1303.png, Dice Coef: 0.8352740406990051, Jaccard Index: 0.7171424627304077\n",
      "File: 0288.png, Dice Coef: 0.5118277072906494, Jaccard Index: 0.3439309597015381\n",
      "File: 0745.png, Dice Coef: 0.16710568964481354, Jaccard Index: 0.09117074310779572\n",
      "File: 0864.png, Dice Coef: 0.8552461862564087, Jaccard Index: 0.7471007704734802\n",
      "File: 1021.png, Dice Coef: 0.7396718859672546, Jaccard Index: 0.5868885517120361\n",
      "File: 0733.png, Dice Coef: 0.025968456640839577, Jaccard Index: 0.013156751170754433\n",
      "File: 0103.png, Dice Coef: 0.9092331528663635, Jaccard Index: 0.833572506904602\n",
      "File: 1251.png, Dice Coef: 0.8263767957687378, Jaccard Index: 0.7041248083114624\n",
      "File: 0931.png, Dice Coef: 0.8726012110710144, Jaccard Index: 0.7739954590797424\n"
     ]
    },
    {
     "name": "stderr",
     "output_type": "stream",
     "text": [
      "libpng warning: iCCP: known incorrect sRGB profile\n",
      "libpng warning: iCCP: known incorrect sRGB profile\n",
      "libpng warning: iCCP: known incorrect sRGB profile\n"
     ]
    },
    {
     "name": "stdout",
     "output_type": "stream",
     "text": [
      "File: 1291.png, Dice Coef: 0.8192787170410156, Jaccard Index: 0.693880021572113\n",
      "File: 0800.png, Dice Coef: 0.9144122004508972, Jaccard Index: 0.8423199653625488\n",
      "File: 0416.png, Dice Coef: 0.9339573383331299, Jaccard Index: 0.8760976195335388\n",
      "File: 0478.png, Dice Coef: 0.8674706816673279, Jaccard Index: 0.7659589052200317\n",
      "File: 0548.png, Dice Coef: 0.8652660846710205, Jaccard Index: 0.7625281810760498\n",
      "File: 0585.png, Dice Coef: 0.7486698627471924, Jaccard Index: 0.5982999205589294\n",
      "File: 0828.png, Dice Coef: 0.9267476797103882, Jaccard Index: 0.8634948134422302\n",
      "File: 0096.png, Dice Coef: 0.8605493307113647, Jaccard Index: 0.7552319169044495\n",
      "File: 0264.png, Dice Coef: 0.7931216359138489, Jaccard Index: 0.6571680903434753\n",
      "File: 0021.png, Dice Coef: 0.819730818271637, Jaccard Index: 0.6945290565490723\n",
      "File: 0910.png, Dice Coef: 0.10085320472717285, Jaccard Index: 0.053105663508176804\n",
      "File: 0534.png, Dice Coef: 0.9364365935325623, Jaccard Index: 0.8804711103439331\n"
     ]
    },
    {
     "name": "stderr",
     "output_type": "stream",
     "text": [
      "libpng warning: iCCP: known incorrect sRGB profile\n",
      "libpng warning: iCCP: known incorrect sRGB profile\n",
      "libpng warning: iCCP: known incorrect sRGB profile\n"
     ]
    },
    {
     "name": "stdout",
     "output_type": "stream",
     "text": [
      "File: 0062.png, Dice Coef: 0.5466766357421875, Jaccard Index: 0.3761565387248993\n",
      "File: 0904.png, Dice Coef: 0.8974961638450623, Jaccard Index: 0.814052939414978\n",
      "File: 0572.png, Dice Coef: 0.8030077219009399, Jaccard Index: 0.670854926109314\n",
      "File: 1131.png, Dice Coef: 0.8788261413574219, Jaccard Index: 0.7838448882102966\n",
      "File: 0887.png, Dice Coef: 0.7714055776596069, Jaccard Index: 0.6278767585754395\n",
      "File: 0857.png, Dice Coef: 0.9213865399360657, Jaccard Index: 0.8542324900627136\n"
     ]
    },
    {
     "name": "stderr",
     "output_type": "stream",
     "text": [
      "libpng warning: iCCP: known incorrect sRGB profile\n",
      "libpng warning: iCCP: known incorrect sRGB profile\n"
     ]
    },
    {
     "name": "stdout",
     "output_type": "stream",
     "text": [
      "File: 0009.png, Dice Coef: 0.935027539730072, Jaccard Index: 0.8779829144477844\n",
      "File: 0980.png, Dice Coef: 0.9133994579315186, Jaccard Index: 0.8406031131744385\n",
      "File: 1046.png, Dice Coef: 0.9381260275840759, Jaccard Index: 0.8834628462791443\n",
      "File: 1054.png, Dice Coef: 0.9411892890930176, Jaccard Index: 0.8889119625091553\n",
      "File: 0744.png, Dice Coef: 0.8486981391906738, Jaccard Index: 0.7371642589569092\n",
      "File: 0705.png, Dice Coef: 0.837827205657959, Jaccard Index: 0.7209146022796631\n",
      "File: 0063.png, Dice Coef: 0.5334964990615845, Jaccard Index: 0.3637886941432953\n",
      "File: 1327.png, Dice Coef: 0.46675190329551697, Jaccard Index: 0.3044210970401764\n",
      "File: 0500.png, Dice Coef: 0.9133463501930237, Jaccard Index: 0.8405129909515381\n",
      "File: 0185.png, Dice Coef: 0.8360764980316162, Jaccard Index: 0.7183260917663574\n",
      "File: 1158.png, Dice Coef: 0.8733062744140625, Jaccard Index: 0.7751054763793945\n",
      "File: 0996.png, Dice Coef: 0.953091561794281, Jaccard Index: 0.910386860370636\n"
     ]
    },
    {
     "name": "stderr",
     "output_type": "stream",
     "text": [
      "libpng warning: iCCP: known incorrect sRGB profile\n",
      "libpng warning: iCCP: known incorrect sRGB profile\n"
     ]
    },
    {
     "name": "stdout",
     "output_type": "stream",
     "text": [
      "File: 0569.png, Dice Coef: 0.9226920008659363, Jaccard Index: 0.8564795255661011\n",
      "File: 1125.png, Dice Coef: 0.8771837949752808, Jaccard Index: 0.7812355756759644\n",
      "File: 0117.png, Dice Coef: 0.8958359360694885, Jaccard Index: 0.8113251328468323\n",
      "File: 0731.png, Dice Coef: 0.7548648118972778, Jaccard Index: 0.6062517762184143\n",
      "File: 1209.png, Dice Coef: 0.5539873838424683, Jaccard Index: 0.38311445713043213\n",
      "File: 0709.png, Dice Coef: 0.7527672052383423, Jaccard Index: 0.6035503149032593\n"
     ]
    },
    {
     "name": "stderr",
     "output_type": "stream",
     "text": [
      "libpng warning: iCCP: known incorrect sRGB profile\n"
     ]
    },
    {
     "name": "stdout",
     "output_type": "stream",
     "text": [
      "File: 0552.png, Dice Coef: 0.7507139444351196, Jaccard Index: 0.6009148955345154\n",
      "File: 0799.png, Dice Coef: 0.8317685127258301, Jaccard Index: 0.7119897603988647\n",
      "File: 0582.png, Dice Coef: 0.9122793674468994, Jaccard Index: 0.8387076258659363\n",
      "File: 1162.png, Dice Coef: 0.9465973377227783, Jaccard Index: 0.8986092805862427\n",
      "File: 0792.png, Dice Coef: 0.8618344068527222, Jaccard Index: 0.7572137117385864\n",
      "File: 0273.png, Dice Coef: 0.7491517663002014, Jaccard Index: 0.5989153385162354\n",
      "File: 0698.png, Dice Coef: 0.8126984238624573, Jaccard Index: 0.684492290019989\n",
      "File: 0372.png, Dice Coef: 0.8662136197090149, Jaccard Index: 0.7640009522438049\n",
      "File: 0827.png, Dice Coef: 0.8467079997062683, Jaccard Index: 0.7341663837432861\n",
      "File: 1326.png, Dice Coef: 0.7764983177185059, Jaccard Index: 0.6346526741981506\n",
      "File: 1074.png, Dice Coef: 0.8817296028137207, Jaccard Index: 0.7884763479232788\n",
      "File: 0850.png, Dice Coef: 0.7462520003318787, Jaccard Index: 0.5952173471450806\n"
     ]
    },
    {
     "name": "stderr",
     "output_type": "stream",
     "text": [
      "libpng warning: iCCP: known incorrect sRGB profile\n",
      "libpng warning: iCCP: known incorrect sRGB profile\n",
      "libpng warning: iCCP: known incorrect sRGB profile\n"
     ]
    },
    {
     "name": "stdout",
     "output_type": "stream",
     "text": [
      "File: 0046.png, Dice Coef: 0.8606049418449402, Jaccard Index: 0.7553176283836365\n",
      "File: 0295.png, Dice Coef: 0.8769089579582214, Jaccard Index: 0.7807996273040771\n",
      "File: 0727.png, Dice Coef: 0.8963353633880615, Jaccard Index: 0.8121447563171387\n",
      "File: 0240.png, Dice Coef: 0.9373340010643005, Jaccard Index: 0.8820590972900391\n",
      "File: 0509.png, Dice Coef: 0.8761411309242249, Jaccard Index: 0.7795829176902771\n",
      "File: 0010.png, Dice Coef: 0.7906565070152283, Jaccard Index: 0.6537901163101196\n",
      "File: 0098.png, Dice Coef: 0.9288296699523926, Jaccard Index: 0.8671168684959412\n",
      "File: 0322.png, Dice Coef: 0.42721977829933167, Jaccard Index: 0.27163419127464294\n",
      "File: 0120.png, Dice Coef: 0.8897099494934082, Jaccard Index: 0.8013312816619873\n",
      "File: 0456.png, Dice Coef: 0.9008302092552185, Jaccard Index: 0.8195552825927734\n",
      "File: 1139.png, Dice Coef: 0.672400951385498, Jaccard Index: 0.5064793825149536\n",
      "File: 0059.png, Dice Coef: 0.980337917804718, Jaccard Index: 0.9614341855049133\n"
     ]
    },
    {
     "name": "stderr",
     "output_type": "stream",
     "text": [
      "libpng warning: iCCP: known incorrect sRGB profile\n"
     ]
    },
    {
     "name": "stdout",
     "output_type": "stream",
     "text": [
      "File: 0608.png, Dice Coef: 0.9149155616760254, Jaccard Index: 0.8431746959686279\n",
      "File: 0209.png, Dice Coef: 0.861582338809967, Jaccard Index: 0.756824791431427\n",
      "File: 0523.png, Dice Coef: 0.9106214046478271, Jaccard Index: 0.8359091877937317\n",
      "File: 0110.png, Dice Coef: 0.8389809131622314, Jaccard Index: 0.7226247191429138\n",
      "File: 0873.png, Dice Coef: 0.8550339937210083, Jaccard Index: 0.7467769980430603\n",
      "File: 0394.png, Dice Coef: 0.8380199670791626, Jaccard Index: 0.721200168132782\n"
     ]
    },
    {
     "name": "stderr",
     "output_type": "stream",
     "text": [
      "libpng warning: iCCP: known incorrect sRGB profile\n"
     ]
    },
    {
     "name": "stdout",
     "output_type": "stream",
     "text": [
      "File: 0086.png, Dice Coef: 0.6325920224189758, Jaccard Index: 0.46262165904045105\n",
      "File: 0766.png, Dice Coef: 0.8909292817115784, Jaccard Index: 0.8033117651939392\n",
      "File: 0443.png, Dice Coef: 0.9102920889854431, Jaccard Index: 0.8353543281555176\n",
      "File: 0286.png, Dice Coef: 0.8616106510162354, Jaccard Index: 0.756868302822113\n",
      "File: 0616.png, Dice Coef: 0.960341215133667, Jaccard Index: 0.9237082004547119\n",
      "File: 0216.png, Dice Coef: 0.8916215896606445, Jaccard Index: 0.8044379949569702\n"
     ]
    },
    {
     "name": "stderr",
     "output_type": "stream",
     "text": [
      "libpng warning: iCCP: known incorrect sRGB profile\n",
      "libpng warning: iCCP: known incorrect sRGB profile\n",
      "libpng warning: iCCP: known incorrect sRGB profile\n"
     ]
    },
    {
     "name": "stdout",
     "output_type": "stream",
     "text": [
      "File: 0628.png, Dice Coef: 0.3261524736881256, Jaccard Index: 0.1948525309562683\n",
      "File: 1306.png, Dice Coef: 0.8931437730789185, Jaccard Index: 0.806919515132904\n",
      "File: 0760.png, Dice Coef: 0.9136707782745361, Jaccard Index: 0.8410627245903015\n",
      "File: 0170.png, Dice Coef: 0.8807655572891235, Jaccard Index: 0.7869358062744141\n",
      "File: 1076.png, Dice Coef: 0.9474926590919495, Jaccard Index: 0.9002243280410767\n",
      "File: 1085.png, Dice Coef: 0.9505592584609985, Jaccard Index: 0.9057771563529968\n",
      "File: 0093.png, Dice Coef: 0.8439822196960449, Jaccard Index: 0.7300774455070496\n",
      "File: 0092.png, Dice Coef: 0.8864470720291138, Jaccard Index: 0.7960531115531921\n",
      "File: 0261.png, Dice Coef: 0.8839256763458252, Jaccard Index: 0.7919955849647522\n",
      "File: 0458.png, Dice Coef: 0.9140494465827942, Jaccard Index: 0.8417046070098877\n",
      "File: 0508.png, Dice Coef: 0.9615926742553711, Jaccard Index: 0.9260265827178955\n",
      "File: 1194.png, Dice Coef: 0.028195682913064957, Jaccard Index: 0.014300534501671791\n"
     ]
    },
    {
     "name": "stderr",
     "output_type": "stream",
     "text": [
      "libpng warning: iCCP: known incorrect sRGB profile\n"
     ]
    },
    {
     "name": "stdout",
     "output_type": "stream",
     "text": [
      "File: 0446.png, Dice Coef: 0.7953189015388489, Jaccard Index: 0.6601906418800354\n",
      "File: 0184.png, Dice Coef: 0.8956383466720581, Jaccard Index: 0.8110010027885437\n",
      "File: 1270.png, Dice Coef: 0.2878502607345581, Jaccard Index: 0.16812267899513245\n",
      "File: 1242.png, Dice Coef: 0.6944224834442139, Jaccard Index: 0.5318896174430847\n",
      "File: 1004.png, Dice Coef: 0.6953391432762146, Jaccard Index: 0.532965898513794\n",
      "File: 1151.png, Dice Coef: 0.8419578671455383, Jaccard Index: 0.7270530462265015\n",
      "File: 1273.png, Dice Coef: 0.29606950283050537, Jaccard Index: 0.17375734448432922\n",
      "File: 0186.png, Dice Coef: 0.06071387231349945, Jaccard Index: 0.03130822256207466\n",
      "File: 0341.png, Dice Coef: 0.8507881760597229, Jaccard Index: 0.740323543548584\n",
      "File: 1091.png, Dice Coef: 0.9639182090759277, Jaccard Index: 0.9303495287895203\n",
      "File: 0048.png, Dice Coef: 0.9328324794769287, Jaccard Index: 0.8741203546524048\n",
      "File: 0504.png, Dice Coef: 0.7817912101745605, Jaccard Index: 0.6417550444602966\n"
     ]
    },
    {
     "name": "stderr",
     "output_type": "stream",
     "text": [
      "libpng warning: iCCP: known incorrect sRGB profile\n",
      "libpng warning: iCCP: known incorrect sRGB profile\n"
     ]
    },
    {
     "name": "stdout",
     "output_type": "stream",
     "text": [
      "File: 0973.png, Dice Coef: 0.861291766166687, Jaccard Index: 0.756376326084137\n",
      "File: 0667.png, Dice Coef: 0.9133316278457642, Jaccard Index: 0.8404883146286011\n",
      "File: 0777.png, Dice Coef: 0.04237302765250206, Jaccard Index: 0.021646536886692047\n",
      "File: 0276.png, Dice Coef: 0.9355254173278809, Jaccard Index: 0.8788613080978394\n",
      "File: 0141.png, Dice Coef: 0.688460648059845, Jaccard Index: 0.5249260663986206\n",
      "File: 0290.png, Dice Coef: 0.846500813961029, Jaccard Index: 0.7338548302650452\n",
      "File: 0324.png, Dice Coef: 0.7782034873962402, Jaccard Index: 0.6369346380233765\n",
      "File: 0041.png, Dice Coef: 0.13953541219234467, Jaccard Index: 0.07500194758176804\n",
      "File: 0516.png, Dice Coef: 0.9252824187278748, Jaccard Index: 0.860954225063324\n",
      "File: 0570.png, Dice Coef: 0.8538631200790405, Jaccard Index: 0.7449924945831299\n",
      "File: 0397.png, Dice Coef: 0.730635404586792, Jaccard Index: 0.5755916833877563\n",
      "File: 1218.png, Dice Coef: 0.8026434779167175, Jaccard Index: 0.6703464984893799\n"
     ]
    },
    {
     "name": "stderr",
     "output_type": "stream",
     "text": [
      "libpng warning: iCCP: known incorrect sRGB profile\n",
      "libpng warning: iCCP: known incorrect sRGB profile\n",
      "libpng warning: iCCP: known incorrect sRGB profile\n"
     ]
    },
    {
     "name": "stdout",
     "output_type": "stream",
     "text": [
      "File: 1228.png, Dice Coef: 0.957123339176178, Jaccard Index: 0.9177724123001099\n",
      "File: 0060.png, Dice Coef: 0.7007436752319336, Jaccard Index: 0.5393425226211548\n",
      "File: 0002.png, Dice Coef: 0.3933657705783844, Jaccard Index: 0.24483895301818848\n",
      "File: 0480.png, Dice Coef: 0.9157335162162781, Jaccard Index: 0.8445651531219482\n",
      "File: 0291.png, Dice Coef: 0.830352246761322, Jaccard Index: 0.7099167704582214\n",
      "File: 0494.png, Dice Coef: 0.8610342741012573, Jaccard Index: 0.7559791803359985\n"
     ]
    },
    {
     "name": "stderr",
     "output_type": "stream",
     "text": [
      "libpng warning: iCCP: known incorrect sRGB profile\n",
      "libpng warning: iCCP: known incorrect sRGB profile\n",
      "libpng warning: iCCP: known incorrect sRGB profile\n"
     ]
    },
    {
     "name": "stdout",
     "output_type": "stream",
     "text": [
      "File: 0427.png, Dice Coef: 0.8265877962112427, Jaccard Index: 0.7044309973716736\n",
      "File: 1197.png, Dice Coef: 0.09277188777923584, Jaccard Index: 0.048643261194229126\n",
      "File: 1028.png, Dice Coef: 0.9484431147575378, Jaccard Index: 0.9019419550895691\n",
      "File: 0332.png, Dice Coef: 0.8902364373207092, Jaccard Index: 0.8021858334541321\n",
      "File: 0066.png, Dice Coef: 0.48504847288131714, Jaccard Index: 0.3201748728752136\n",
      "File: 0492.png, Dice Coef: 0.9649695158004761, Jaccard Index: 0.9323103427886963\n"
     ]
    },
    {
     "name": "stderr",
     "output_type": "stream",
     "text": [
      "libpng warning: iCCP: known incorrect sRGB profile\n",
      "libpng warning: iCCP: known incorrect sRGB profile\n",
      "libpng warning: iCCP: known incorrect sRGB profile\n"
     ]
    },
    {
     "name": "stdout",
     "output_type": "stream",
     "text": [
      "File: 0912.png, Dice Coef: 0.8714514374732971, Jaccard Index: 0.7721879482269287\n",
      "File: 0399.png, Dice Coef: 0.8802526593208313, Jaccard Index: 0.7861173748970032\n",
      "File: 0635.png, Dice Coef: 0.5759535431861877, Jaccard Index: 0.4044492542743683\n",
      "File: 1163.png, Dice Coef: 0.9399265646934509, Jaccard Index: 0.8866618275642395\n",
      "File: 0374.png, Dice Coef: 0.9301258325576782, Jaccard Index: 0.8693788051605225\n",
      "File: 0253.png, Dice Coef: 0.775325357913971, Jaccard Index: 0.633087158203125\n"
     ]
    },
    {
     "name": "stderr",
     "output_type": "stream",
     "text": [
      "libpng warning: iCCP: known incorrect sRGB profile\n",
      "libpng warning: iCCP: known incorrect sRGB profile\n"
     ]
    },
    {
     "name": "stdout",
     "output_type": "stream",
     "text": [
      "File: 1211.png, Dice Coef: 0.8909903764724731, Jaccard Index: 0.8034110069274902\n",
      "File: 1142.png, Dice Coef: 0.859268069267273, Jaccard Index: 0.7532605528831482\n",
      "File: 0496.png, Dice Coef: 0.8623000383377075, Jaccard Index: 0.7579329013824463\n",
      "File: 0948.png, Dice Coef: 0.7920424938201904, Jaccard Index: 0.6556876301765442\n",
      "File: 0848.png, Dice Coef: 0.8925299644470215, Jaccard Index: 0.8059180378913879\n",
      "File: 0983.png, Dice Coef: 0.9082573056221008, Jaccard Index: 0.8319336175918579\n"
     ]
    },
    {
     "name": "stderr",
     "output_type": "stream",
     "text": [
      "libpng warning: iCCP: known incorrect sRGB profile\n",
      "libpng warning: iCCP: known incorrect sRGB profile\n",
      "libpng warning: iCCP: known incorrect sRGB profile\n"
     ]
    },
    {
     "name": "stdout",
     "output_type": "stream",
     "text": [
      "File: 1275.png, Dice Coef: 0.6034346222877502, Jaccard Index: 0.4320852756500244\n",
      "File: 0153.png, Dice Coef: 0.7220368981361389, Jaccard Index: 0.564990758895874\n",
      "File: 0163.png, Dice Coef: 0.6627454161643982, Jaccard Index: 0.4956017732620239\n",
      "File: 0564.png, Dice Coef: 0.6766720414161682, Jaccard Index: 0.5113414525985718\n",
      "File: 0726.png, Dice Coef: 0.8502098917961121, Jaccard Index: 0.7394481897354126\n",
      "File: 0580.png, Dice Coef: 0.9045583605766296, Jaccard Index: 0.8257477879524231\n",
      "File: 0764.png, Dice Coef: 0.8412056565284729, Jaccard Index: 0.7259321808815002\n",
      "File: 0785.png, Dice Coef: 0.8910024762153625, Jaccard Index: 0.8034307360649109\n",
      "File: 0624.png, Dice Coef: 0.966431200504303, Jaccard Index: 0.9350430369377136\n",
      "File: 0860.png, Dice Coef: 0.8447011113166809, Jaccard Index: 0.7311539649963379\n",
      "File: 0100.png, Dice Coef: 0.9275370836257935, Jaccard Index: 0.8648666143417358\n",
      "File: 1199.png, Dice Coef: 0.8884004354476929, Jaccard Index: 0.7992092370986938\n"
     ]
    },
    {
     "name": "stderr",
     "output_type": "stream",
     "text": [
      "libpng warning: iCCP: known incorrect sRGB profile\n"
     ]
    },
    {
     "name": "stdout",
     "output_type": "stream",
     "text": [
      "File: 0652.png, Dice Coef: 0.8484311699867249, Jaccard Index: 0.7367613315582275\n",
      "File: 0602.png, Dice Coef: 0.3529035449028015, Jaccard Index: 0.21425886452198029\n",
      "File: 0440.png, Dice Coef: 0.5962077379226685, Jaccard Index: 0.42471280694007874\n",
      "File: 0721.png, Dice Coef: 0.7940325140953064, Jaccard Index: 0.6584198474884033\n",
      "File: 0689.png, Dice Coef: 0.22212927043437958, Jaccard Index: 0.12494225054979324\n",
      "File: 0755.png, Dice Coef: 0.9010193943977356, Jaccard Index: 0.8198685646057129\n",
      "File: 1186.png, Dice Coef: 0.9304704070091248, Jaccard Index: 0.869981050491333\n",
      "File: 0320.png, Dice Coef: 0.883709192276001, Jaccard Index: 0.7916480302810669\n",
      "File: 0365.png, Dice Coef: 0.8564302325248718, Jaccard Index: 0.7489096522331238\n",
      "File: 0738.png, Dice Coef: 0.5808895230293274, Jaccard Index: 0.4093339443206787\n",
      "File: 0626.png, Dice Coef: 0.9398171305656433, Jaccard Index: 0.8864672780036926\n",
      "File: 0557.png, Dice Coef: 0.8573222160339355, Jaccard Index: 0.7502748370170593\n"
     ]
    },
    {
     "name": "stderr",
     "output_type": "stream",
     "text": [
      "libpng warning: iCCP: known incorrect sRGB profile\n",
      "libpng warning: iCCP: known incorrect sRGB profile\n",
      "libpng warning: iCCP: known incorrect sRGB profile\n",
      "libpng warning: iCCP: known incorrect sRGB profile\n"
     ]
    },
    {
     "name": "stdout",
     "output_type": "stream",
     "text": [
      "File: 0966.png, Dice Coef: 0.8582197427749634, Jaccard Index: 0.7516508102416992\n",
      "File: 1056.png, Dice Coef: 0.9191917777061462, Jaccard Index: 0.850467324256897\n",
      "File: 1093.png, Dice Coef: 0.7141903638839722, Jaccard Index: 0.5554407835006714\n",
      "File: 0522.png, Dice Coef: 0.7897136211395264, Jaccard Index: 0.6525017619132996\n",
      "File: 0765.png, Dice Coef: 0.8915441036224365, Jaccard Index: 0.8043118715286255\n",
      "File: 1189.png, Dice Coef: 0.8850229978561401, Jaccard Index: 0.7937591671943665\n",
      "File: 0574.png, Dice Coef: 0.4563485085964203, Jaccard Index: 0.2956298291683197\n",
      "File: 1097.png, Dice Coef: 0.4314911961555481, Jaccard Index: 0.27509695291519165\n",
      "File: 0281.png, Dice Coef: 0.8853945136070251, Jaccard Index: 0.7943570017814636\n",
      "File: 0268.png, Dice Coef: 0.5553762316703796, Jaccard Index: 0.3844444751739502\n",
      "File: 1195.png, Dice Coef: 0.8870505690574646, Jaccard Index: 0.7970269322395325\n",
      "File: 0152.png, Dice Coef: 0.8394678831100464, Jaccard Index: 0.7233476042747498\n"
     ]
    },
    {
     "name": "stderr",
     "output_type": "stream",
     "text": [
      "libpng warning: iCCP: known incorrect sRGB profile\n",
      "libpng warning: iCCP: known incorrect sRGB profile\n",
      "libpng warning: iCCP: known incorrect sRGB profile\n",
      "libpng warning: iCCP: known incorrect sRGB profile\n"
     ]
    },
    {
     "name": "stdout",
     "output_type": "stream",
     "text": [
      "File: 0950.png, Dice Coef: 0.577368438243866, Jaccard Index: 0.40584585070610046\n",
      "File: 0314.png, Dice Coef: 0.5254454612731934, Jaccard Index: 0.35634225606918335\n",
      "File: 0694.png, Dice Coef: 0.8327404260635376, Jaccard Index: 0.713415265083313\n",
      "File: 0222.png, Dice Coef: 0.6676899194717407, Jaccard Index: 0.501152515411377\n",
      "File: 0192.png, Dice Coef: 0.6146678328514099, Jaccard Index: 0.44369760155677795\n",
      "File: 0928.png, Dice Coef: 0.9032948017120361, Jaccard Index: 0.8236443400382996\n"
     ]
    },
    {
     "name": "stderr",
     "output_type": "stream",
     "text": [
      "libpng warning: iCCP: known incorrect sRGB profile\n",
      "libpng warning: iCCP: known incorrect sRGB profile\n"
     ]
    },
    {
     "name": "stdout",
     "output_type": "stream",
     "text": [
      "File: 0868.png, Dice Coef: 0.8136621713638306, Jaccard Index: 0.6858605742454529\n",
      "File: 0589.png, Dice Coef: 0.8701954483985901, Jaccard Index: 0.7702178955078125\n",
      "File: 0118.png, Dice Coef: 0.962701678276062, Jaccard Index: 0.9280857443809509\n",
      "File: 0680.png, Dice Coef: 0.8569070100784302, Jaccard Index: 0.7496391534805298\n",
      "File: 1304.png, Dice Coef: 0.939803957939148, Jaccard Index: 0.8864437937736511\n",
      "File: 0540.png, Dice Coef: 0.8701528310775757, Jaccard Index: 0.7701511979103088\n"
     ]
    },
    {
     "name": "stderr",
     "output_type": "stream",
     "text": [
      "libpng warning: iCCP: known incorrect sRGB profile\n"
     ]
    },
    {
     "name": "stdout",
     "output_type": "stream",
     "text": [
      "File: 0302.png, Dice Coef: 0.8455440998077393, Jaccard Index: 0.7324180006980896\n",
      "File: 1166.png, Dice Coef: 0.6802512407302856, Jaccard Index: 0.5154405236244202\n",
      "File: 1152.png, Dice Coef: 0.9056968688964844, Jaccard Index: 0.82764732837677\n",
      "File: 0243.png, Dice Coef: 0.9169961810112, Jaccard Index: 0.8467159271240234\n",
      "File: 1276.png, Dice Coef: 0.7884747982025146, Jaccard Index: 0.6508120894432068\n",
      "File: 0536.png, Dice Coef: 0.9233108162879944, Jaccard Index: 0.8575463891029358\n",
      "File: 0345.png, Dice Coef: 0.9272046685218811, Jaccard Index: 0.864288866519928\n",
      "File: 0285.png, Dice Coef: 0.4555373787879944, Jaccard Index: 0.29494959115982056\n",
      "File: 0669.png, Dice Coef: 0.8618700504302979, Jaccard Index: 0.7572689056396484\n",
      "File: 0614.png, Dice Coef: 0.9517357349395752, Jaccard Index: 0.9079160690307617\n",
      "File: 0547.png, Dice Coef: 0.8264231085777283, Jaccard Index: 0.7041919231414795\n",
      "File: 0255.png, Dice Coef: 0.9340505003929138, Jaccard Index: 0.8762615919113159\n"
     ]
    },
    {
     "name": "stderr",
     "output_type": "stream",
     "text": [
      "libpng warning: iCCP: known incorrect sRGB profile\n",
      "libpng warning: iCCP: known incorrect sRGB profile\n"
     ]
    },
    {
     "name": "stdout",
     "output_type": "stream",
     "text": [
      "File: 0305.png, Dice Coef: 0.8995020389556885, Jaccard Index: 0.8173592686653137\n",
      "File: 1179.png, Dice Coef: 0.8890771865844727, Jaccard Index: 0.8003052473068237\n",
      "File: 0189.png, Dice Coef: 0.87032550573349, Jaccard Index: 0.7704217433929443\n",
      "File: 1060.png, Dice Coef: 0.9155198335647583, Jaccard Index: 0.8442016839981079\n",
      "File: 0132.png, Dice Coef: 0.8201471567153931, Jaccard Index: 0.6951269507408142\n",
      "File: 0619.png, Dice Coef: 0.5149855613708496, Jaccard Index: 0.3467888832092285\n",
      "File: 0695.png, Dice Coef: 0.8695340156555176, Jaccard Index: 0.769182026386261\n",
      "File: 1132.png, Dice Coef: 0.6505113840103149, Jaccard Index: 0.4820432960987091\n",
      "File: 1224.png, Dice Coef: 0.14010807871818542, Jaccard Index: 0.07533200085163116\n",
      "File: 1299.png, Dice Coef: 0.9267200827598572, Jaccard Index: 0.8634468913078308\n",
      "File: 0452.png, Dice Coef: 0.6451926231384277, Jaccard Index: 0.4762250483036041\n",
      "File: 0435.png, Dice Coef: 0.9205116629600525, Jaccard Index: 0.8527297377586365\n",
      "File: 0193.png, Dice Coef: 0.8432560563087463, Jaccard Index: 0.7289913892745972\n",
      "File: 0417.png, Dice Coef: 0.8076271414756775, Jaccard Index: 0.6773281097412109\n",
      "File: 0937.png, Dice Coef: 0.47370386123657227, Jaccard Index: 0.3103622794151306\n",
      "File: 1258.png, Dice Coef: 0.3963967561721802, Jaccard Index: 0.2471916824579239\n",
      "File: 0927.png, Dice Coef: 0.8250386714935303, Jaccard Index: 0.7021839022636414\n",
      "File: 0208.png, Dice Coef: 0.5961899161338806, Jaccard Index: 0.4246947467327118\n"
     ]
    },
    {
     "name": "stderr",
     "output_type": "stream",
     "text": [
      "libpng warning: iCCP: known incorrect sRGB profile\n",
      "libpng warning: iCCP: known incorrect sRGB profile\n",
      "libpng warning: iCCP: known incorrect sRGB profile\n",
      "libpng warning: iCCP: known incorrect sRGB profile\n"
     ]
    },
    {
     "name": "stdout",
     "output_type": "stream",
     "text": [
      "File: 0596.png, Dice Coef: 0.26191282272338867, Jaccard Index: 0.1506909877061844\n",
      "File: 0870.png, Dice Coef: 0.908011257648468, Jaccard Index: 0.8315207958221436\n",
      "File: 0529.png, Dice Coef: 0.050919387489557266, Jaccard Index: 0.0261258352547884\n",
      "File: 1136.png, Dice Coef: 0.8839336037635803, Jaccard Index: 0.7920083999633789\n",
      "File: 0493.png, Dice Coef: 0.8899914026260376, Jaccard Index: 0.8017880320549011\n",
      "File: 0783.png, Dice Coef: 0.8839972019195557, Jaccard Index: 0.7921103239059448\n",
      "File: 0028.png, Dice Coef: 0.9420785307884216, Jaccard Index: 0.8904998898506165\n",
      "File: 0236.png, Dice Coef: 0.9516831040382385, Jaccard Index: 0.9078201651573181\n",
      "File: 1274.png, Dice Coef: 0.8931332230567932, Jaccard Index: 0.8069024682044983\n",
      "File: 0502.png, Dice Coef: 0.9514865875244141, Jaccard Index: 0.9074627161026001\n",
      "File: 1135.png, Dice Coef: 0.9392399191856384, Jaccard Index: 0.8854407072067261\n",
      "File: 0351.png, Dice Coef: 0.9350755214691162, Jaccard Index: 0.878067672252655\n"
     ]
    },
    {
     "name": "stderr",
     "output_type": "stream",
     "text": [
      "libpng warning: iCCP: known incorrect sRGB profile\n",
      "libpng warning: iCCP: known incorrect sRGB profile\n"
     ]
    },
    {
     "name": "stdout",
     "output_type": "stream",
     "text": [
      "File: 0470.png, Dice Coef: 0.9026605486869812, Jaccard Index: 0.8225902915000916\n",
      "File: 0746.png, Dice Coef: 0.9299280047416687, Jaccard Index: 0.8690332770347595\n",
      "File: 0633.png, Dice Coef: 0.9684103727340698, Jaccard Index: 0.9387555122375488\n",
      "File: 0867.png, Dice Coef: 0.9354264736175537, Jaccard Index: 0.8786866068840027\n",
      "File: 0076.png, Dice Coef: 0.2959457039833069, Jaccard Index: 0.1736724078655243\n",
      "File: 0296.png, Dice Coef: 0.7335931658744812, Jaccard Index: 0.5792714953422546\n"
     ]
    },
    {
     "name": "stderr",
     "output_type": "stream",
     "text": [
      "libpng warning: iCCP: known incorrect sRGB profile\n",
      "libpng warning: iCCP: known incorrect sRGB profile\n",
      "libpng warning: iCCP: known incorrect sRGB profile\n"
     ]
    },
    {
     "name": "stdout",
     "output_type": "stream",
     "text": [
      "File: 0353.png, Dice Coef: 0.8576565980911255, Jaccard Index: 0.7507871985435486\n",
      "File: 0641.png, Dice Coef: 0.8802297115325928, Jaccard Index: 0.7860808372497559\n",
      "File: 0022.png, Dice Coef: 0.8176093101501465, Jaccard Index: 0.69148850440979\n",
      "File: 1095.png, Dice Coef: 0.9390261769294739, Jaccard Index: 0.8850608468055725\n",
      "File: 0819.png, Dice Coef: 0.8508871793746948, Jaccard Index: 0.7404732704162598\n",
      "File: 0519.png, Dice Coef: 0.43350836634635925, Jaccard Index: 0.2767390310764313\n"
     ]
    },
    {
     "name": "stderr",
     "output_type": "stream",
     "text": [
      "libpng warning: iCCP: known incorrect sRGB profile\n",
      "libpng warning: iCCP: known incorrect sRGB profile\n",
      "libpng warning: iCCP: known incorrect sRGB profile\n",
      "libpng warning: iCCP: known incorrect sRGB profile\n",
      "libpng warning: iCCP: known incorrect sRGB profile\n"
     ]
    },
    {
     "name": "stdout",
     "output_type": "stream",
     "text": [
      "File: 0471.png, Dice Coef: 0.8536471128463745, Jaccard Index: 0.7446635961532593\n",
      "File: 0913.png, Dice Coef: 0.8393159508705139, Jaccard Index: 0.7231221199035645\n",
      "File: 0003.png, Dice Coef: 0.6646921038627625, Jaccard Index: 0.4977830648422241\n",
      "File: 0221.png, Dice Coef: 0.8455700278282166, Jaccard Index: 0.7324569225311279\n",
      "File: 0449.png, Dice Coef: 0.8357546329498291, Jaccard Index: 0.7178511023521423\n",
      "File: 0949.png, Dice Coef: 0.930996298789978, Jaccard Index: 0.8709012269973755\n"
     ]
    },
    {
     "name": "stderr",
     "output_type": "stream",
     "text": [
      "libpng warning: iCCP: known incorrect sRGB profile\n"
     ]
    },
    {
     "name": "stdout",
     "output_type": "stream",
     "text": [
      "File: 0737.png, Dice Coef: 0.287415087223053, Jaccard Index: 0.16782613098621368\n",
      "File: 0271.png, Dice Coef: 0.9111767411231995, Jaccard Index: 0.8368456363677979\n",
      "File: 0097.png, Dice Coef: 0.8556675314903259, Jaccard Index: 0.7477442026138306\n",
      "File: 0256.png, Dice Coef: 0.8493812084197998, Jaccard Index: 0.7381954193115234\n",
      "File: 1176.png, Dice Coef: 0.8971421718597412, Jaccard Index: 0.8134704828262329\n",
      "File: 0202.png, Dice Coef: 0.08892517536878586, Jaccard Index: 0.04653265327215195\n",
      "File: 0094.png, Dice Coef: 0.935201108455658, Jaccard Index: 0.8782891035079956\n",
      "File: 0465.png, Dice Coef: 0.8750240802764893, Jaccard Index: 0.7778159976005554\n",
      "File: 0418.png, Dice Coef: 0.1865810751914978, Jaccard Index: 0.10288991034030914\n",
      "File: 0969.png, Dice Coef: 0.7231667637825012, Jaccard Index: 0.5663756728172302\n",
      "File: 0808.png, Dice Coef: 0.8603490591049194, Jaccard Index: 0.7549237012863159\n",
      "File: 0485.png, Dice Coef: 0.8333657383918762, Jaccard Index: 0.7143334746360779\n"
     ]
    },
    {
     "name": "stderr",
     "output_type": "stream",
     "text": [
      "libpng warning: iCCP: known incorrect sRGB profile\n",
      "libpng warning: iCCP: known incorrect sRGB profile\n",
      "libpng warning: iCCP: known incorrect sRGB profile\n"
     ]
    },
    {
     "name": "stdout",
     "output_type": "stream",
     "text": [
      "File: 1254.png, Dice Coef: 0.9435125589370728, Jaccard Index: 0.8930657505989075\n",
      "File: 0115.png, Dice Coef: 0.7791000008583069, Jaccard Index: 0.638136088848114\n",
      "File: 0012.png, Dice Coef: 0.9462603330612183, Jaccard Index: 0.8980021476745605\n",
      "File: 0130.png, Dice Coef: 0.8662778735160828, Jaccard Index: 0.764100968837738\n",
      "File: 0195.png, Dice Coef: 0.8351502418518066, Jaccard Index: 0.7169598937034607\n",
      "File: 0303.png, Dice Coef: 0.882109522819519, Jaccard Index: 0.7890841364860535\n"
     ]
    },
    {
     "name": "stderr",
     "output_type": "stream",
     "text": [
      "libpng warning: iCCP: known incorrect sRGB profile\n",
      "libpng warning: iCCP: known incorrect sRGB profile\n",
      "libpng warning: iCCP: known incorrect sRGB profile\n"
     ]
    },
    {
     "name": "stdout",
     "output_type": "stream",
     "text": [
      "File: 0030.png, Dice Coef: 0.8305415511131287, Jaccard Index: 0.7101935744285583\n",
      "File: 0414.png, Dice Coef: 0.8492975234985352, Jaccard Index: 0.7380689978599548\n",
      "File: 0074.png, Dice Coef: 0.7841145396232605, Jaccard Index: 0.644892156124115\n",
      "File: 1317.png, Dice Coef: 0.8889852166175842, Jaccard Index: 0.80015629529953\n",
      "File: 0662.png, Dice Coef: 0.8404728174209595, Jaccard Index: 0.7248412370681763\n",
      "File: 0498.png, Dice Coef: 0.8260760307312012, Jaccard Index: 0.7036880254745483\n",
      "File: 0187.png, Dice Coef: 0.824604332447052, Jaccard Index: 0.7015549540519714\n",
      "File: 0237.png, Dice Coef: 0.33243730664253235, Jaccard Index: 0.1993558257818222\n",
      "File: 0990.png, Dice Coef: 0.8694912791252136, Jaccard Index: 0.7691153287887573\n",
      "File: 0301.png, Dice Coef: 0.9171550273895264, Jaccard Index: 0.8469865918159485\n",
      "File: 0594.png, Dice Coef: 0.8828150629997253, Jaccard Index: 0.7902141809463501\n",
      "File: 0603.png, Dice Coef: 0.8035650849342346, Jaccard Index: 0.6716331839561462\n"
     ]
    },
    {
     "name": "stderr",
     "output_type": "stream",
     "text": [
      "libpng warning: iCCP: known incorrect sRGB profile\n",
      "libpng warning: iCCP: known incorrect sRGB profile\n"
     ]
    },
    {
     "name": "stdout",
     "output_type": "stream",
     "text": [
      "File: 0056.png, Dice Coef: 0.7479643225669861, Jaccard Index: 0.5973990559577942\n",
      "File: 0618.png, Dice Coef: 0.953755259513855, Jaccard Index: 0.9115987420082092\n",
      "File: 0718.png, Dice Coef: 0.8553510904312134, Jaccard Index: 0.7472609281539917\n",
      "File: 0335.png, Dice Coef: 0.7893555760383606, Jaccard Index: 0.6520130038261414\n",
      "File: 0450.png, Dice Coef: 0.8684597611427307, Jaccard Index: 0.7675025463104248\n",
      "File: 0787.png, Dice Coef: 0.937805712223053, Jaccard Index: 0.8828948140144348\n",
      "File: 1196.png, Dice Coef: 0.9069567322731018, Jaccard Index: 0.8297538161277771\n",
      "File: 0879.png, Dice Coef: 0.8338249921798706, Jaccard Index: 0.7150087952613831\n",
      "File: 0006.png, Dice Coef: 0.891273558139801, Jaccard Index: 0.8038716316223145\n",
      "File: 0579.png, Dice Coef: 0.8739619255065918, Jaccard Index: 0.7761390209197998\n",
      "File: 1214.png, Dice Coef: 0.8701583743095398, Jaccard Index: 0.7701597213745117\n",
      "File: 0809.png, Dice Coef: 0.8770166039466858, Jaccard Index: 0.7809704542160034\n"
     ]
    },
    {
     "name": "stderr",
     "output_type": "stream",
     "text": [
      "libpng warning: iCCP: known incorrect sRGB profile\n"
     ]
    },
    {
     "name": "stdout",
     "output_type": "stream",
     "text": [
      "File: 1009.png, Dice Coef: 0.8769912719726562, Jaccard Index: 0.7809303402900696\n",
      "File: 1040.png, Dice Coef: 0.4902551472187042, Jaccard Index: 0.32472750544548035\n",
      "File: 0376.png, Dice Coef: 0.8522607684135437, Jaccard Index: 0.7425562739372253\n",
      "File: 0279.png, Dice Coef: 0.9599793553352356, Jaccard Index: 0.923038899898529\n",
      "File: 0472.png, Dice Coef: 0.8519188165664673, Jaccard Index: 0.742037296295166\n",
      "File: 0128.png, Dice Coef: 0.8878986835479736, Jaccard Index: 0.7983975410461426\n"
     ]
    },
    {
     "name": "stderr",
     "output_type": "stream",
     "text": [
      "libpng warning: iCCP: known incorrect sRGB profile\n",
      "libpng warning: iCCP: known incorrect sRGB profile\n",
      "libpng warning: iCCP: known incorrect sRGB profile\n"
     ]
    },
    {
     "name": "stdout",
     "output_type": "stream",
     "text": [
      "File: 0310.png, Dice Coef: 0.927116870880127, Jaccard Index: 0.8641360402107239\n",
      "File: 0865.png, Dice Coef: 0.8503736257553101, Jaccard Index: 0.7396959066390991\n",
      "File: 1264.png, Dice Coef: 0.8081409335136414, Jaccard Index: 0.6780509948730469\n",
      "File: 0507.png, Dice Coef: 0.9526222348213196, Jaccard Index: 0.909530758857727\n",
      "File: 1156.png, Dice Coef: 0.8554104566574097, Jaccard Index: 0.7473514676094055\n",
      "File: 0282.png, Dice Coef: 0.9254432916641235, Jaccard Index: 0.8612326979637146\n"
     ]
    },
    {
     "name": "stderr",
     "output_type": "stream",
     "text": [
      "libpng warning: iCCP: known incorrect sRGB profile\n"
     ]
    },
    {
     "name": "stdout",
     "output_type": "stream",
     "text": [
      "File: 1080.png, Dice Coef: 0.08843893557786942, Jaccard Index: 0.04626666009426117\n",
      "File: 0817.png, Dice Coef: 0.9487148523330688, Jaccard Index: 0.9024335145950317\n",
      "File: 0527.png, Dice Coef: 0.3297857344150543, Jaccard Index: 0.19745175540447235\n",
      "File: 1150.png, Dice Coef: 0.9154108762741089, Jaccard Index: 0.8440163731575012\n",
      "File: 0018.png, Dice Coef: 0.929064929485321, Jaccard Index: 0.8675270080566406\n",
      "File: 0856.png, Dice Coef: 0.9260978698730469, Jaccard Index: 0.8623672723770142\n"
     ]
    },
    {
     "name": "stderr",
     "output_type": "stream",
     "text": [
      "libpng warning: iCCP: known incorrect sRGB profile\n",
      "libpng warning: iCCP: known incorrect sRGB profile\n"
     ]
    },
    {
     "name": "stdout",
     "output_type": "stream",
     "text": [
      "File: 0954.png, Dice Coef: 0.041270911693573, Jaccard Index: 0.02107195183634758\n",
      "File: 0629.png, Dice Coef: 0.8658435940742493, Jaccard Index: 0.7634254097938538\n",
      "File: 1217.png, Dice Coef: 0.8596223592758179, Jaccard Index: 0.7538052201271057\n",
      "File: 0158.png, Dice Coef: 0.8528334498405457, Jaccard Index: 0.7434260845184326\n",
      "File: 1110.png, Dice Coef: 0.8986790776252747, Jaccard Index: 0.8160011768341064\n",
      "File: 1297.png, Dice Coef: 0.8498731851577759, Jaccard Index: 0.7389389276504517\n",
      "File: 0607.png, Dice Coef: 0.625420331954956, Jaccard Index: 0.4549909234046936\n",
      "File: 0622.png, Dice Coef: 0.9747251868247986, Jaccard Index: 0.9506966471672058\n",
      "File: 0069.png, Dice Coef: 0.8731045722961426, Jaccard Index: 0.7747876644134521\n",
      "File: 1047.png, Dice Coef: 0.04222823306918144, Jaccard Index: 0.021570876240730286\n",
      "File: 0149.png, Dice Coef: 0.8725830912590027, Jaccard Index: 0.7739668488502502\n",
      "File: 0298.png, Dice Coef: 0.842936098575592, Jaccard Index: 0.7285131812095642\n"
     ]
    },
    {
     "name": "stderr",
     "output_type": "stream",
     "text": [
      "libpng warning: iCCP: known incorrect sRGB profile\n",
      "libpng warning: iCCP: known incorrect sRGB profile\n",
      "libpng warning: iCCP: known incorrect sRGB profile\n"
     ]
    },
    {
     "name": "stdout",
     "output_type": "stream",
     "text": [
      "File: 0429.png, Dice Coef: 0.3736000955104828, Jaccard Index: 0.2297104448080063\n",
      "File: 0383.png, Dice Coef: 0.8859144449234009, Jaccard Index: 0.7951943278312683\n",
      "File: 0751.png, Dice Coef: 0.9255623817443848, Jaccard Index: 0.8614391684532166\n",
      "File: 0154.png, Dice Coef: 0.7677006125450134, Jaccard Index: 0.6229825615882874\n",
      "File: 1018.png, Dice Coef: 0.43353018164634705, Jaccard Index: 0.2767567038536072\n",
      "File: 0903.png, Dice Coef: 0.2916528880596161, Jaccard Index: 0.17072299122810364\n"
     ]
    },
    {
     "name": "stderr",
     "output_type": "stream",
     "text": [
      "libpng warning: iCCP: known incorrect sRGB profile\n",
      "libpng warning: iCCP: known incorrect sRGB profile\n",
      "libpng warning: iCCP: known incorrect sRGB profile\n"
     ]
    },
    {
     "name": "stdout",
     "output_type": "stream",
     "text": [
      "File: 0665.png, Dice Coef: 0.7805390954017639, Jaccard Index: 0.6400691270828247\n",
      "File: 0448.png, Dice Coef: 0.764329731464386, Jaccard Index: 0.6185550689697266\n",
      "File: 1198.png, Dice Coef: 0.926185131072998, Jaccard Index: 0.8625184893608093\n",
      "File: 0712.png, Dice Coef: 0.5596222281455994, Jaccard Index: 0.3885255753993988\n",
      "File: 0064.png, Dice Coef: 0.8461845517158508, Jaccard Index: 0.7333796620368958\n",
      "File: 0702.png, Dice Coef: 0.916266679763794, Jaccard Index: 0.845472514629364\n",
      "File: 1105.png, Dice Coef: 0.10251010209321976, Jaccard Index: 0.05402480065822601\n",
      "File: 1307.png, Dice Coef: 0.7636988162994385, Jaccard Index: 0.6177292466163635\n",
      "File: 1222.png, Dice Coef: 0.8297427892684937, Jaccard Index: 0.7090262770652771\n",
      "File: 0587.png, Dice Coef: 0.8847558498382568, Jaccard Index: 0.7933294177055359\n",
      "File: 1059.png, Dice Coef: 0.9338801503181458, Jaccard Index: 0.8759618401527405\n",
      "File: 0566.png, Dice Coef: 0.5832391381263733, Jaccard Index: 0.4116712808609009\n"
     ]
    },
    {
     "name": "stderr",
     "output_type": "stream",
     "text": [
      "libpng warning: iCCP: known incorrect sRGB profile\n",
      "libpng warning: iCCP: known incorrect sRGB profile\n",
      "libpng warning: iCCP: known incorrect sRGB profile\n",
      "libpng warning: iCCP: known incorrect sRGB profile\n"
     ]
    },
    {
     "name": "stdout",
     "output_type": "stream",
     "text": [
      "File: 0605.png, Dice Coef: 0.8897120356559753, Jaccard Index: 0.8013346195220947\n",
      "File: 0313.png, Dice Coef: 0.864641010761261, Jaccard Index: 0.7615575194358826\n",
      "File: 0897.png, Dice Coef: 0.8744155764579773, Jaccard Index: 0.776854932308197\n",
      "File: 0126.png, Dice Coef: 0.943799614906311, Jaccard Index: 0.8935802578926086\n",
      "File: 0977.png, Dice Coef: 0.8965001702308655, Jaccard Index: 0.8124154806137085\n",
      "File: 1015.png, Dice Coef: 0.8393332362174988, Jaccard Index: 0.7231475710868835\n"
     ]
    },
    {
     "name": "stderr",
     "output_type": "stream",
     "text": [
      "libpng warning: iCCP: known incorrect sRGB profile\n",
      "libpng warning: iCCP: known incorrect sRGB profile\n"
     ]
    },
    {
     "name": "stdout",
     "output_type": "stream",
     "text": [
      "File: 0482.png, Dice Coef: 0.8212575912475586, Jaccard Index: 0.6967238187789917\n",
      "File: 1086.png, Dice Coef: 0.8885929584503174, Jaccard Index: 0.7995209693908691\n",
      "File: 0426.png, Dice Coef: 0.942934513092041, Jaccard Index: 0.8920304775238037\n",
      "File: 0294.png, Dice Coef: 0.2181103229522705, Jaccard Index: 0.12240493297576904\n",
      "File: 0780.png, Dice Coef: 0.9707121253013611, Jaccard Index: 0.943091094493866\n",
      "File: 1324.png, Dice Coef: 0.8640407919883728, Jaccard Index: 0.7606268525123596\n",
      "File: 0514.png, Dice Coef: 0.7724217176437378, Jaccard Index: 0.629224419593811\n",
      "File: 1025.png, Dice Coef: 0.5331522226333618, Jaccard Index: 0.3634685277938843\n",
      "File: 0297.png, Dice Coef: 0.8988117575645447, Jaccard Index: 0.816220223903656\n",
      "File: 1257.png, Dice Coef: 0.8282807469367981, Jaccard Index: 0.706893801689148\n",
      "File: 0678.png, Dice Coef: 0.8136169910430908, Jaccard Index: 0.6857964992523193\n",
      "File: 0466.png, Dice Coef: 0.8738204836845398, Jaccard Index: 0.7759159207344055\n"
     ]
    },
    {
     "name": "stderr",
     "output_type": "stream",
     "text": [
      "libpng warning: iCCP: known incorrect sRGB profile\n",
      "libpng warning: iCCP: known incorrect sRGB profile\n",
      "libpng warning: iCCP: known incorrect sRGB profile\n"
     ]
    },
    {
     "name": "stdout",
     "output_type": "stream",
     "text": [
      "File: 0380.png, Dice Coef: 0.7697850465774536, Jaccard Index: 0.6257323026657104\n",
      "File: 0373.png, Dice Coef: 0.9799397587776184, Jaccard Index: 0.9606686234474182\n",
      "File: 1323.png, Dice Coef: 0.8274739384651184, Jaccard Index: 0.7057191729545593\n",
      "File: 0647.png, Dice Coef: 0.8292080760002136, Jaccard Index: 0.7082457542419434\n",
      "File: 1011.png, Dice Coef: 0.8373917937278748, Jaccard Index: 0.7202702164649963\n",
      "File: 0779.png, Dice Coef: 0.8223891854286194, Jaccard Index: 0.698354184627533\n",
      "File: 1026.png, Dice Coef: 0.9175219535827637, Jaccard Index: 0.847612738609314\n",
      "File: 0531.png, Dice Coef: 0.873773992061615, Jaccard Index: 0.7758427858352661\n",
      "File: 0961.png, Dice Coef: 0.8890655040740967, Jaccard Index: 0.8002862930297852\n",
      "File: 1064.png, Dice Coef: 0.9610124230384827, Jaccard Index: 0.924950897693634\n",
      "File: 0233.png, Dice Coef: 0.8681163191795349, Jaccard Index: 0.7669661045074463\n",
      "File: 1294.png, Dice Coef: 0.9268714189529419, Jaccard Index: 0.8637098073959351\n"
     ]
    },
    {
     "name": "stderr",
     "output_type": "stream",
     "text": [
      "libpng warning: iCCP: known incorrect sRGB profile\n",
      "libpng warning: iCCP: known incorrect sRGB profile\n"
     ]
    },
    {
     "name": "stdout",
     "output_type": "stream",
     "text": [
      "File: 0347.png, Dice Coef: 0.9192931652069092, Jaccard Index: 0.8506407737731934\n",
      "File: 1107.png, Dice Coef: 0.8709200024604797, Jaccard Index: 0.7713539004325867\n",
      "File: 0287.png, Dice Coef: 0.8205335736274719, Jaccard Index: 0.6956822872161865\n",
      "File: 0292.png, Dice Coef: 0.13883140683174133, Jaccard Index: 0.07459498196840286\n",
      "File: 1328.png, Dice Coef: 0.9237275719642639, Jaccard Index: 0.8582658171653748\n",
      "File: 0134.png, Dice Coef: 0.5114448666572571, Jaccard Index: 0.3435855209827423\n"
     ]
    },
    {
     "name": "stderr",
     "output_type": "stream",
     "text": [
      "libpng warning: iCCP: known incorrect sRGB profile\n",
      "libpng warning: iCCP: known incorrect sRGB profile\n",
      "libpng warning: iCCP: known incorrect sRGB profile\n"
     ]
    },
    {
     "name": "stdout",
     "output_type": "stream",
     "text": [
      "File: 0077.png, Dice Coef: 0.8520705699920654, Jaccard Index: 0.7422675490379333\n",
      "File: 0810.png, Dice Coef: 0.47048133611679077, Jaccard Index: 0.3076016306877136\n",
      "File: 0935.png, Dice Coef: 0.8233416080474854, Jaccard Index: 0.6997289657592773\n",
      "File: 1171.png, Dice Coef: 0.7843325734138489, Jaccard Index: 0.6451869606971741\n",
      "File: 0361.png, Dice Coef: 0.8935754299163818, Jaccard Index: 0.8076247572898865\n",
      "File: 0676.png, Dice Coef: 0.8655869960784912, Jaccard Index: 0.7630265951156616\n",
      "File: 1240.png, Dice Coef: 0.893581748008728, Jaccard Index: 0.8076351284980774\n",
      "File: 0771.png, Dice Coef: 0.7333013415336609, Jaccard Index: 0.5789079070091248\n",
      "File: 0553.png, Dice Coef: 0.6155160069465637, Jaccard Index: 0.44458237290382385\n",
      "File: 0293.png, Dice Coef: 0.9219698905944824, Jaccard Index: 0.8552358150482178\n",
      "File: 0658.png, Dice Coef: 0.8538261651992798, Jaccard Index: 0.7449362277984619\n",
      "File: 0811.png, Dice Coef: 0.5311521291732788, Jaccard Index: 0.36161208152770996\n"
     ]
    },
    {
     "name": "stderr",
     "output_type": "stream",
     "text": [
      "libpng warning: iCCP: known incorrect sRGB profile\n",
      "libpng warning: iCCP: known incorrect sRGB profile\n",
      "libpng warning: iCCP: known incorrect sRGB profile\n"
     ]
    },
    {
     "name": "stdout",
     "output_type": "stream",
     "text": [
      "File: 0999.png, Dice Coef: 0.8276708722114563, Jaccard Index: 0.7060057520866394\n",
      "File: 0728.png, Dice Coef: 0.7559657692909241, Jaccard Index: 0.6076732873916626\n",
      "File: 0484.png, Dice Coef: 0.8491964340209961, Jaccard Index: 0.7379161715507507\n",
      "File: 0911.png, Dice Coef: 0.8491076827049255, Jaccard Index: 0.7377822399139404\n",
      "File: 0692.png, Dice Coef: 0.8140842318534851, Jaccard Index: 0.6864606738090515\n",
      "File: 0623.png, Dice Coef: 0.8908807039260864, Jaccard Index: 0.8032326698303223\n"
     ]
    },
    {
     "name": "stderr",
     "output_type": "stream",
     "text": [
      "libpng warning: iCCP: known incorrect sRGB profile\n",
      "libpng warning: iCCP: known incorrect sRGB profile\n",
      "libpng warning: iCCP: known incorrect sRGB profile\n",
      "libpng warning: iCCP: known incorrect sRGB profile\n"
     ]
    },
    {
     "name": "stdout",
     "output_type": "stream",
     "text": [
      "File: 0627.png, Dice Coef: 0.8203032612800598, Jaccard Index: 0.695351243019104\n",
      "File: 0987.png, Dice Coef: 0.8436139822006226, Jaccard Index: 0.7295264601707458\n",
      "File: 0119.png, Dice Coef: 0.8088530898094177, Jaccard Index: 0.6790543794631958\n",
      "File: 0620.png, Dice Coef: 0.7711837291717529, Jaccard Index: 0.6275829672813416\n",
      "File: 0423.png, Dice Coef: 0.8903502821922302, Jaccard Index: 0.8023707270622253\n",
      "File: 0087.png, Dice Coef: 0.6117407083511353, Jaccard Index: 0.44065359234809875\n"
     ]
    },
    {
     "name": "stderr",
     "output_type": "stream",
     "text": [
      "libpng warning: iCCP: known incorrect sRGB profile\n",
      "libpng warning: iCCP: known incorrect sRGB profile\n",
      "libpng warning: iCCP: known incorrect sRGB profile\n"
     ]
    },
    {
     "name": "stdout",
     "output_type": "stream",
     "text": [
      "File: 0334.png, Dice Coef: 0.8208185434341431, Jaccard Index: 0.6960921883583069\n",
      "File: 0474.png, Dice Coef: 0.764898419380188, Jaccard Index: 0.619300127029419\n",
      "File: 1287.png, Dice Coef: 0.9351415038108826, Jaccard Index: 0.878183901309967\n",
      "File: 0754.png, Dice Coef: 0.8140172362327576, Jaccard Index: 0.6863654851913452\n",
      "File: 1102.png, Dice Coef: 0.9291941523551941, Jaccard Index: 0.8677523732185364\n",
      "File: 0377.png, Dice Coef: 0.9226343035697937, Jaccard Index: 0.8563802242279053\n"
     ]
    },
    {
     "name": "stderr",
     "output_type": "stream",
     "text": [
      "libpng warning: iCCP: known incorrect sRGB profile\n",
      "libpng warning: iCCP: known incorrect sRGB profile\n",
      "libpng warning: iCCP: known incorrect sRGB profile\n"
     ]
    },
    {
     "name": "stdout",
     "output_type": "stream",
     "text": [
      "File: 1175.png, Dice Coef: 0.9354218244552612, Jaccard Index: 0.8786788582801819\n",
      "File: 0133.png, Dice Coef: 0.9157586097717285, Jaccard Index: 0.8446077704429626\n",
      "File: 0909.png, Dice Coef: 0.8365069031715393, Jaccard Index: 0.718961775302887\n",
      "File: 0479.png, Dice Coef: 0.8483169078826904, Jaccard Index: 0.7365890741348267\n",
      "File: 1006.png, Dice Coef: 0.9101958870887756, Jaccard Index: 0.8351922631263733\n",
      "File: 0642.png, Dice Coef: 0.9703936576843262, Jaccard Index: 0.9424900412559509\n",
      "File: 0437.png, Dice Coef: 0.08482497185468674, Jaccard Index: 0.044292088598012924\n",
      "File: 0776.png, Dice Coef: 0.9194215536117554, Jaccard Index: 0.8508606553077698\n",
      "File: 1246.png, Dice Coef: 0.7919546365737915, Jaccard Index: 0.6555672883987427\n",
      "File: 0530.png, Dice Coef: 0.8150624632835388, Jaccard Index: 0.6878529787063599\n",
      "File: 0090.png, Dice Coef: 0.9001288414001465, Jaccard Index: 0.8183950185775757\n",
      "File: 0180.png, Dice Coef: 0.8402395248413086, Jaccard Index: 0.724494218826294\n",
      "File: 0349.png, Dice Coef: 0.5906134247779846, Jaccard Index: 0.4190577566623688\n",
      "File: 0924.png, Dice Coef: 0.6570227146148682, Jaccard Index: 0.4892287254333496\n",
      "File: 0038.png, Dice Coef: 0.8935841917991638, Jaccard Index: 0.8076388239860535\n",
      "File: 0073.png, Dice Coef: 0.9117603898048401, Jaccard Index: 0.837830662727356\n",
      "File: 0127.png, Dice Coef: 0.8602965474128723, Jaccard Index: 0.7548429369926453\n",
      "File: 0944.png, Dice Coef: 0.6925844550132751, Jaccard Index: 0.5297358632087708\n"
     ]
    },
    {
     "name": "stderr",
     "output_type": "stream",
     "text": [
      "libpng warning: iCCP: known incorrect sRGB profile\n",
      "libpng warning: iCCP: known incorrect sRGB profile\n"
     ]
    },
    {
     "name": "stdout",
     "output_type": "stream",
     "text": [
      "File: 1146.png, Dice Coef: 0.1781490594148636, Jaccard Index: 0.0977858379483223\n",
      "File: 0539.png, Dice Coef: 0.8428334593772888, Jaccard Index: 0.7283598184585571\n",
      "File: 0013.png, Dice Coef: 0.8151090741157532, Jaccard Index: 0.6879193782806396\n",
      "File: 0439.png, Dice Coef: 0.8604462146759033, Jaccard Index: 0.755073070526123\n",
      "File: 0684.png, Dice Coef: 0.7859487533569336, Jaccard Index: 0.6473771333694458\n",
      "File: 0031.png, Dice Coef: 0.012148406356573105, Jaccard Index: 0.006112611852586269\n"
     ]
    },
    {
     "name": "stderr",
     "output_type": "stream",
     "text": [
      "libpng warning: iCCP: known incorrect sRGB profile\n",
      "libpng warning: iCCP: known incorrect sRGB profile\n"
     ]
    },
    {
     "name": "stdout",
     "output_type": "stream",
     "text": [
      "File: 1041.png, Dice Coef: 0.9572404623031616, Jaccard Index: 0.9179880023002625\n",
      "File: 1008.png, Dice Coef: 0.8521696925163269, Jaccard Index: 0.7424179315567017\n",
      "File: 0874.png, Dice Coef: 0.7202652096748352, Jaccard Index: 0.5628243684768677\n",
      "File: 0107.png, Dice Coef: 0.8840819597244263, Jaccard Index: 0.7922464609146118\n",
      "File: 0039.png, Dice Coef: 0.7904320359230042, Jaccard Index: 0.6534832119941711\n",
      "File: 0941.png, Dice Coef: 0.20266658067703247, Jaccard Index: 0.11276071518659592\n"
     ]
    },
    {
     "name": "stderr",
     "output_type": "stream",
     "text": [
      "libpng warning: iCCP: known incorrect sRGB profile\n",
      "libpng warning: iCCP: known incorrect sRGB profile\n"
     ]
    },
    {
     "name": "stdout",
     "output_type": "stream",
     "text": [
      "File: 0174.png, Dice Coef: 0.8046102523803711, Jaccard Index: 0.6730947494506836\n",
      "File: 0408.png, Dice Coef: 0.026917729526758194, Jaccard Index: 0.013643345795571804\n",
      "File: 0200.png, Dice Coef: 0.8933417201042175, Jaccard Index: 0.8072428703308105\n",
      "File: 0122.png, Dice Coef: 0.9458721280097961, Jaccard Index: 0.8973031640052795\n",
      "File: 1250.png, Dice Coef: 0.49177175760269165, Jaccard Index: 0.3260597586631775\n",
      "File: 0155.png, Dice Coef: 0.891533374786377, Jaccard Index: 0.8042943477630615\n"
     ]
    },
    {
     "name": "stderr",
     "output_type": "stream",
     "text": [
      "libpng warning: iCCP: known incorrect sRGB profile\n",
      "libpng warning: iCCP: known incorrect sRGB profile\n",
      "libpng warning: iCCP: known incorrect sRGB profile\n"
     ]
    },
    {
     "name": "stdout",
     "output_type": "stream",
     "text": [
      "File: 0053.png, Dice Coef: 0.8325796723365784, Jaccard Index: 0.7131791710853577\n",
      "File: 0387.png, Dice Coef: 0.5413418412208557, Jaccard Index: 0.37112388014793396\n",
      "File: 0306.png, Dice Coef: 0.8522756695747375, Jaccard Index: 0.7425788640975952\n",
      "File: 0131.png, Dice Coef: 0.8532200455665588, Jaccard Index: 0.7440140247344971\n",
      "File: 1138.png, Dice Coef: 0.7454370856285095, Jaccard Index: 0.5941810011863708\n",
      "File: 1184.png, Dice Coef: 0.7721559405326843, Jaccard Index: 0.6288716197013855\n"
     ]
    },
    {
     "name": "stderr",
     "output_type": "stream",
     "text": [
      "libpng warning: iCCP: known incorrect sRGB profile\n",
      "libpng warning: iCCP: known incorrect sRGB profile\n",
      "libpng warning: iCCP: known incorrect sRGB profile\n"
     ]
    },
    {
     "name": "stdout",
     "output_type": "stream",
     "text": [
      "File: 0218.png, Dice Coef: 0.8561185598373413, Jaccard Index: 0.7484331727027893\n",
      "File: 0085.png, Dice Coef: 0.8121917843818665, Jaccard Index: 0.6837737560272217\n",
      "File: 0668.png, Dice Coef: 0.2878459692001343, Jaccard Index: 0.16811971366405487\n",
      "File: 0900.png, Dice Coef: 0.8612591624259949, Jaccard Index: 0.7563260197639465\n",
      "File: 1261.png, Dice Coef: 0.9282658696174622, Jaccard Index: 0.8661346435546875\n",
      "File: 1281.png, Dice Coef: 0.7951009273529053, Jaccard Index: 0.6598905920982361\n",
      "File: 0524.png, Dice Coef: 0.8633920550346375, Jaccard Index: 0.7596219182014465\n",
      "File: 0463.png, Dice Coef: 0.8494398593902588, Jaccard Index: 0.7382838726043701\n",
      "File: 0239.png, Dice Coef: 0.9123514294624329, Jaccard Index: 0.8388294577598572\n",
      "File: 0855.png, Dice Coef: 0.7797420620918274, Jaccard Index: 0.6389979720115662\n",
      "File: 0245.png, Dice Coef: 0.8191820979118347, Jaccard Index: 0.6937416195869446\n",
      "File: 1005.png, Dice Coef: 0.6225336194038391, Jaccard Index: 0.451941579580307\n"
     ]
    },
    {
     "name": "stderr",
     "output_type": "stream",
     "text": [
      "libpng warning: iCCP: known incorrect sRGB profile\n"
     ]
    },
    {
     "name": "stdout",
     "output_type": "stream",
     "text": [
      "File: 1145.png, Dice Coef: 0.8996655344963074, Jaccard Index: 0.817629337310791\n",
      "File: 1286.png, Dice Coef: 0.873957097530365, Jaccard Index: 0.7761314511299133\n",
      "File: 1089.png, Dice Coef: 0.7775781154632568, Jaccard Index: 0.6360968351364136\n",
      "File: 0049.png, Dice Coef: 0.6710290312767029, Jaccard Index: 0.5049241185188293\n",
      "File: 0386.png, Dice Coef: 0.9098798036575317, Jaccard Index: 0.8346601724624634\n",
      "File: 0769.png, Dice Coef: 0.9513577222824097, Jaccard Index: 0.9072282910346985\n"
     ]
    },
    {
     "name": "stderr",
     "output_type": "stream",
     "text": [
      "libpng warning: iCCP: known incorrect sRGB profile\n",
      "libpng warning: iCCP: known incorrect sRGB profile\n"
     ]
    },
    {
     "name": "stdout",
     "output_type": "stream",
     "text": [
      "File: 0368.png, Dice Coef: 0.6519510746002197, Jaccard Index: 0.4836261570453644\n",
      "File: 0632.png, Dice Coef: 0.8635603189468384, Jaccard Index: 0.7598825097084045\n",
      "File: 0844.png, Dice Coef: 0.8624632954597473, Jaccard Index: 0.7581853270530701\n",
      "File: 1205.png, Dice Coef: 0.8480554223060608, Jaccard Index: 0.7361949682235718\n",
      "File: 0997.png, Dice Coef: 0.9336661696434021, Jaccard Index: 0.8755853176116943\n",
      "File: 1126.png, Dice Coef: 0.880351185798645, Jaccard Index: 0.7862744927406311\n"
     ]
    },
    {
     "name": "stderr",
     "output_type": "stream",
     "text": [
      "libpng warning: iCCP: known incorrect sRGB profile\n",
      "libpng warning: iCCP: known incorrect sRGB profile\n",
      "libpng warning: iCCP: known incorrect sRGB profile\n"
     ]
    },
    {
     "name": "stdout",
     "output_type": "stream",
     "text": [
      "File: 0933.png, Dice Coef: 0.8533240556716919, Jaccard Index: 0.744172215461731\n",
      "File: 0047.png, Dice Coef: 0.8879782557487488, Jaccard Index: 0.7985261082649231\n",
      "File: 0807.png, Dice Coef: 0.9264503121376038, Jaccard Index: 0.8629788160324097\n",
      "File: 0930.png, Dice Coef: 0.8819077014923096, Jaccard Index: 0.7887611985206604\n",
      "File: 1067.png, Dice Coef: 0.7956724762916565, Jaccard Index: 0.6606782078742981\n",
      "File: 1000.png, Dice Coef: 0.827838122844696, Jaccard Index: 0.7062494158744812\n"
     ]
    },
    {
     "name": "stderr",
     "output_type": "stream",
     "text": [
      "libpng warning: iCCP: known incorrect sRGB profile\n",
      "libpng warning: iCCP: known incorrect sRGB profile\n"
     ]
    },
    {
     "name": "stdout",
     "output_type": "stream",
     "text": [
      "File: 0839.png, Dice Coef: 0.7883557677268982, Jaccard Index: 0.6506499648094177\n",
      "File: 0696.png, Dice Coef: 0.9646157026290894, Jaccard Index: 0.9316499829292297\n",
      "File: 1296.png, Dice Coef: 0.23824100196361542, Jaccard Index: 0.13523000478744507\n",
      "File: 1227.png, Dice Coef: 0.7140114307403564, Jaccard Index: 0.5552240014076233\n",
      "File: 0854.png, Dice Coef: 0.8312726616859436, Jaccard Index: 0.7112633585929871\n",
      "File: 1129.png, Dice Coef: 0.9000149965286255, Jaccard Index: 0.8182066679000854\n",
      "File: 0896.png, Dice Coef: 0.16689004004001617, Jaccard Index: 0.0910429060459137\n",
      "File: 1255.png, Dice Coef: 0.6824911832809448, Jaccard Index: 0.5180168151855469\n",
      "File: 0832.png, Dice Coef: 0.8321540355682373, Jaccard Index: 0.7125548124313354\n",
      "File: 0441.png, Dice Coef: 0.931433916091919, Jaccard Index: 0.8716672658920288\n",
      "File: 0829.png, Dice Coef: 0.9236332178115845, Jaccard Index: 0.8581027984619141\n",
      "File: 1269.png, Dice Coef: 0.8381467461585999, Jaccard Index: 0.721388041973114\n"
     ]
    },
    {
     "name": "stderr",
     "output_type": "stream",
     "text": [
      "libpng warning: iCCP: known incorrect sRGB profile\n",
      "libpng warning: iCCP: known incorrect sRGB profile\n"
     ]
    },
    {
     "name": "stdout",
     "output_type": "stream",
     "text": [
      "File: 1190.png, Dice Coef: 0.5243548154830933, Jaccard Index: 0.35534003376960754\n",
      "File: 0815.png, Dice Coef: 0.8872950077056885, Jaccard Index: 0.7974217534065247\n",
      "File: 0425.png, Dice Coef: 0.8946958184242249, Jaccard Index: 0.8094567656517029\n",
      "File: 1279.png, Dice Coef: 0.9115371108055115, Jaccard Index: 0.8374536633491516\n",
      "File: 0102.png, Dice Coef: 0.9280471205711365, Jaccard Index: 0.8657537698745728\n",
      "File: 0535.png, Dice Coef: 0.8651043176651001, Jaccard Index: 0.7622766494750977\n"
     ]
    },
    {
     "name": "stderr",
     "output_type": "stream",
     "text": [
      "libpng warning: iCCP: known incorrect sRGB profile\n",
      "libpng warning: iCCP: known incorrect sRGB profile\n"
     ]
    },
    {
     "name": "stdout",
     "output_type": "stream",
     "text": [
      "File: 0079.png, Dice Coef: 0.8902579545974731, Jaccard Index: 0.8022208213806152\n",
      "File: 0515.png, Dice Coef: 0.8299254775047302, Jaccard Index: 0.709293007850647\n",
      "File: 0042.png, Dice Coef: 0.8483256697654724, Jaccard Index: 0.7366023063659668\n",
      "File: 0270.png, Dice Coef: 0.903016984462738, Jaccard Index: 0.8231824040412903\n",
      "File: 1313.png, Dice Coef: 0.8279703259468079, Jaccard Index: 0.7064417004585266\n",
      "File: 0194.png, Dice Coef: 0.8607483506202698, Jaccard Index: 0.7555385231971741\n",
      "File: 0670.png, Dice Coef: 0.09855123609304428, Jaccard Index: 0.05183098837733269\n",
      "File: 0035.png, Dice Coef: 0.9091278314590454, Jaccard Index: 0.8333955407142639\n",
      "File: 0235.png, Dice Coef: 0.8199832439422607, Jaccard Index: 0.6948916912078857\n",
      "File: 0453.png, Dice Coef: 0.9590975642204285, Jaccard Index: 0.9214097857475281\n",
      "File: 0354.png, Dice Coef: 0.8786230683326721, Jaccard Index: 0.7835217118263245\n",
      "File: 0576.png, Dice Coef: 0.8904890418052673, Jaccard Index: 0.8025960922241211\n"
     ]
    },
    {
     "name": "stderr",
     "output_type": "stream",
     "text": [
      "libpng warning: iCCP: known incorrect sRGB profile\n",
      "libpng warning: iCCP: known incorrect sRGB profile\n",
      "libpng warning: iCCP: known incorrect sRGB profile\n"
     ]
    },
    {
     "name": "stdout",
     "output_type": "stream",
     "text": [
      "File: 0883.png, Dice Coef: 0.9127315282821655, Jaccard Index: 0.8394721150398254\n",
      "File: 1061.png, Dice Coef: 0.9131472110748291, Jaccard Index: 0.8401758074760437\n",
      "File: 1039.png, Dice Coef: 0.8248704075813293, Jaccard Index: 0.70194011926651\n",
      "File: 0525.png, Dice Coef: 0.9180033206939697, Jaccard Index: 0.848434567451477\n",
      "File: 0644.png, Dice Coef: 0.8209282159805298, Jaccard Index: 0.696249783039093\n",
      "File: 0588.png, Dice Coef: 0.9028703570365906, Jaccard Index: 0.822938859462738\n"
     ]
    },
    {
     "name": "stderr",
     "output_type": "stream",
     "text": [
      "libpng warning: iCCP: known incorrect sRGB profile\n",
      "libpng warning: iCCP: known incorrect sRGB profile\n",
      "libpng warning: iCCP: known incorrect sRGB profile\n"
     ]
    },
    {
     "name": "stdout",
     "output_type": "stream",
     "text": [
      "File: 0544.png, Dice Coef: 0.7892181277275085, Jaccard Index: 0.651825487613678\n",
      "File: 0836.png, Dice Coef: 0.8183494210243225, Jaccard Index: 0.6925479173660278\n",
      "File: 0914.png, Dice Coef: 0.8570837378501892, Jaccard Index: 0.7499097585678101\n",
      "File: 0878.png, Dice Coef: 0.9088315963745117, Jaccard Index: 0.8328977227210999\n",
      "File: 0330.png, Dice Coef: 0.902484655380249, Jaccard Index: 0.8222981095314026\n",
      "File: 0609.png, Dice Coef: 0.9499369859695435, Jaccard Index: 0.9046477675437927\n",
      "File: 0840.png, Dice Coef: 0.8987265825271606, Jaccard Index: 0.8160796165466309\n",
      "File: 1288.png, Dice Coef: 0.9109410643577576, Jaccard Index: 0.8364480137825012\n",
      "File: 0026.png, Dice Coef: 0.8061076402664185, Jaccard Index: 0.6751931309700012\n",
      "File: 0389.png, Dice Coef: 0.8254011869430542, Jaccard Index: 0.7027092576026917\n",
      "File: 1191.png, Dice Coef: 0.8897684812545776, Jaccard Index: 0.8014262318611145\n",
      "File: 0371.png, Dice Coef: 0.8665260672569275, Jaccard Index: 0.7644871473312378\n"
     ]
    },
    {
     "name": "stderr",
     "output_type": "stream",
     "text": [
      "libpng warning: iCCP: known incorrect sRGB profile\n",
      "libpng warning: iCCP: known incorrect sRGB profile\n"
     ]
    },
    {
     "name": "stdout",
     "output_type": "stream",
     "text": [
      "File: 0761.png, Dice Coef: 0.7789501547813416, Jaccard Index: 0.6379351615905762\n",
      "File: 0506.png, Dice Coef: 0.18366171419620514, Jaccard Index: 0.10111723095178604\n",
      "File: 0032.png, Dice Coef: 0.8594813942909241, Jaccard Index: 0.7535883188247681\n",
      "File: 1068.png, Dice Coef: 0.8968521952629089, Jaccard Index: 0.8129938840866089\n",
      "File: 1062.png, Dice Coef: 0.8352468013763428, Jaccard Index: 0.7171021103858948\n",
      "File: 0162.png, Dice Coef: 0.8603541851043701, Jaccard Index: 0.7549313902854919\n"
     ]
    },
    {
     "name": "stderr",
     "output_type": "stream",
     "text": [
      "libpng warning: iCCP: known incorrect sRGB profile\n"
     ]
    },
    {
     "name": "stdout",
     "output_type": "stream",
     "text": [
      "File: 0671.png, Dice Coef: 0.8673697710037231, Jaccard Index: 0.7658014297485352\n",
      "File: 0719.png, Dice Coef: 0.9237819314002991, Jaccard Index: 0.8583596348762512\n",
      "File: 0244.png, Dice Coef: 0.9536414742469788, Jaccard Index: 0.9113908410072327\n",
      "File: 1322.png, Dice Coef: 0.8505567908287048, Jaccard Index: 0.7399729490280151\n",
      "File: 1063.png, Dice Coef: 0.9448401927947998, Jaccard Index: 0.8954474925994873\n",
      "File: 0763.png, Dice Coef: 0.8876992464065552, Jaccard Index: 0.7980750203132629\n"
     ]
    },
    {
     "name": "stderr",
     "output_type": "stream",
     "text": [
      "libpng warning: iCCP: known incorrect sRGB profile\n",
      "libpng warning: iCCP: known incorrect sRGB profile\n"
     ]
    },
    {
     "name": "stdout",
     "output_type": "stream",
     "text": [
      "File: 0972.png, Dice Coef: 0.8822164535522461, Jaccard Index: 0.7892553806304932\n",
      "File: 0355.png, Dice Coef: 0.8583682775497437, Jaccard Index: 0.751878559589386\n",
      "File: 1114.png, Dice Coef: 0.9360005855560303, Jaccard Index: 0.8797003626823425\n",
      "File: 1316.png, Dice Coef: 0.5752313137054443, Jaccard Index: 0.40373721718788147\n",
      "File: 0033.png, Dice Coef: 0.05817726254463196, Jaccard Index: 0.029961219057440758\n",
      "File: 0169.png, Dice Coef: 0.9025041460990906, Jaccard Index: 0.8223305940628052\n",
      "File: 0369.png, Dice Coef: 0.8364993929862976, Jaccard Index: 0.7189508080482483\n",
      "File: 0581.png, Dice Coef: 0.3792421519756317, Jaccard Index: 0.23399142920970917\n",
      "File: 0975.png, Dice Coef: 0.90650874376297, Jaccard Index: 0.82900470495224\n",
      "File: 0951.png, Dice Coef: 0.6406672596931458, Jaccard Index: 0.47131049633026123\n",
      "File: 0333.png, Dice Coef: 0.5799582004547119, Jaccard Index: 0.4084099233150482\n",
      "File: 0011.png, Dice Coef: 0.45521894097328186, Jaccard Index: 0.29468268156051636\n"
     ]
    },
    {
     "name": "stderr",
     "output_type": "stream",
     "text": [
      "libpng warning: iCCP: known incorrect sRGB profile\n",
      "libpng warning: iCCP: known incorrect sRGB profile\n",
      "libpng warning: iCCP: known incorrect sRGB profile\n",
      "libpng warning: iCCP: known incorrect sRGB profile\n"
     ]
    },
    {
     "name": "stdout",
     "output_type": "stream",
     "text": [
      "File: 0201.png, Dice Coef: 0.9600942134857178, Jaccard Index: 0.9232512712478638\n",
      "File: 0945.png, Dice Coef: 0.8058903813362122, Jaccard Index: 0.6748884916305542\n",
      "File: 1302.png, Dice Coef: 0.6674608588218689, Jaccard Index: 0.5008943676948547\n",
      "File: 1117.png, Dice Coef: 0.857150137424469, Jaccard Index: 0.7500113248825073\n",
      "File: 0159.png, Dice Coef: 0.8107962012290955, Jaccard Index: 0.681797981262207\n",
      "File: 0991.png, Dice Coef: 0.41234734654426575, Jaccard Index: 0.25972220301628113\n"
     ]
    },
    {
     "name": "stderr",
     "output_type": "stream",
     "text": [
      "libpng warning: iCCP: known incorrect sRGB profile\n",
      "libpng warning: iCCP: known incorrect sRGB profile\n",
      "libpng warning: iCCP: known incorrect sRGB profile\n",
      "libpng warning: iCCP: known incorrect sRGB profile\n"
     ]
    },
    {
     "name": "stdout",
     "output_type": "stream",
     "text": [
      "File: 0993.png, Dice Coef: 0.814226508140564, Jaccard Index: 0.6866629719734192\n",
      "File: 0099.png, Dice Coef: 0.060293860733509064, Jaccard Index: 0.031085118651390076\n",
      "File: 0311.png, Dice Coef: 0.8703762292861938, Jaccard Index: 0.7705011963844299\n",
      "File: 0762.png, Dice Coef: 0.9099319577217102, Jaccard Index: 0.8347483277320862\n",
      "File: 0088.png, Dice Coef: 0.9005532264709473, Jaccard Index: 0.8190968036651611\n",
      "File: 1112.png, Dice Coef: 0.886109471321106, Jaccard Index: 0.7955087423324585\n",
      "File: 0687.png, Dice Coef: 0.28695857524871826, Jaccard Index: 0.16751544177532196\n",
      "File: 0214.png, Dice Coef: 0.5132208466529846, Jaccard Index: 0.34519028663635254\n",
      "File: 1265.png, Dice Coef: 0.5665175318717957, Jaccard Index: 0.3952045440673828\n",
      "File: 1244.png, Dice Coef: 0.850602924823761, Jaccard Index: 0.7400429248809814\n",
      "File: 0621.png, Dice Coef: 0.6761806607246399, Jaccard Index: 0.5107806921005249\n",
      "File: 0325.png, Dice Coef: 0.8995470404624939, Jaccard Index: 0.8174335360527039\n"
     ]
    },
    {
     "name": "stderr",
     "output_type": "stream",
     "text": [
      "libpng warning: iCCP: known incorrect sRGB profile\n",
      "libpng warning: iCCP: known incorrect sRGB profile\n"
     ]
    },
    {
     "name": "stdout",
     "output_type": "stream",
     "text": [
      "File: 0476.png, Dice Coef: 0.7338661551475525, Jaccard Index: 0.5796122550964355\n",
      "File: 1108.png, Dice Coef: 0.8755509853363037, Jaccard Index: 0.778649091720581\n",
      "File: 0853.png, Dice Coef: 0.8869339823722839, Jaccard Index: 0.7968389391899109\n",
      "File: 0959.png, Dice Coef: 0.9129374623298645, Jaccard Index: 0.8398207426071167\n",
      "File: 1212.png, Dice Coef: 0.8663872480392456, Jaccard Index: 0.7642709612846375\n",
      "File: 0143.png, Dice Coef: 0.8045198917388916, Jaccard Index: 0.6729682087898254\n"
     ]
    },
    {
     "name": "stderr",
     "output_type": "stream",
     "text": [
      "libpng warning: iCCP: known incorrect sRGB profile\n",
      "libpng warning: iCCP: known incorrect sRGB profile\n",
      "libpng warning: iCCP: known incorrect sRGB profile\n"
     ]
    },
    {
     "name": "stdout",
     "output_type": "stream",
     "text": [
      "File: 0105.png, Dice Coef: 0.9292683005332947, Jaccard Index: 0.8678816556930542\n",
      "File: 0520.png, Dice Coef: 0.9236361384391785, Jaccard Index: 0.85810786485672\n",
      "File: 0533.png, Dice Coef: 0.9706426858901978, Jaccard Index: 0.9429599642753601\n",
      "File: 0284.png, Dice Coef: 0.46857520937919617, Jaccard Index: 0.3059743344783783\n",
      "File: 0649.png, Dice Coef: 0.9141093492507935, Jaccard Index: 0.8418062329292297\n",
      "File: 0136.png, Dice Coef: 0.8777037262916565, Jaccard Index: 0.7820607423782349\n"
     ]
    },
    {
     "name": "stderr",
     "output_type": "stream",
     "text": [
      "libpng warning: iCCP: known incorrect sRGB profile\n",
      "libpng warning: iCCP: known incorrect sRGB profile\n",
      "libpng warning: iCCP: known incorrect sRGB profile\n"
     ]
    },
    {
     "name": "stdout",
     "output_type": "stream",
     "text": [
      "File: 0483.png, Dice Coef: 0.9235872626304626, Jaccard Index: 0.8580234050750732\n",
      "File: 0283.png, Dice Coef: 0.8198993802070618, Jaccard Index: 0.6947710514068604\n",
      "File: 1282.png, Dice Coef: 0.9164023995399475, Jaccard Index: 0.8457037210464478\n",
      "File: 0467.png, Dice Coef: 0.8469367027282715, Jaccard Index: 0.7345103025436401\n",
      "File: 1278.png, Dice Coef: 0.9393119812011719, Jaccard Index: 0.8855687975883484\n",
      "File: 0551.png, Dice Coef: 0.5663648247718811, Jaccard Index: 0.39505550265312195\n"
     ]
    },
    {
     "name": "stderr",
     "output_type": "stream",
     "text": [
      "libpng warning: iCCP: known incorrect sRGB profile\n",
      "libpng warning: iCCP: known incorrect sRGB profile\n",
      "libpng warning: iCCP: known incorrect sRGB profile\n"
     ]
    },
    {
     "name": "stdout",
     "output_type": "stream",
     "text": [
      "File: 0845.png, Dice Coef: 0.8269997239112854, Jaccard Index: 0.7050296068191528\n",
      "File: 1057.png, Dice Coef: 0.8880206942558289, Jaccard Index: 0.7985947728157043\n",
      "File: 0336.png, Dice Coef: 0.7602413892745972, Jaccard Index: 0.6132175922393799\n",
      "File: 0475.png, Dice Coef: 0.8959870338439941, Jaccard Index: 0.8115730881690979\n",
      "File: 0121.png, Dice Coef: 0.4168719947338104, Jaccard Index: 0.26332229375839233\n",
      "File: 1020.png, Dice Coef: 0.5194171667098999, Jaccard Index: 0.3508200943470001\n",
      "File: 0164.png, Dice Coef: 0.8128159046173096, Jaccard Index: 0.684658944606781\n",
      "File: 0920.png, Dice Coef: 0.8429385423660278, Jaccard Index: 0.7285170555114746\n",
      "File: 0542.png, Dice Coef: 0.9233700037002563, Jaccard Index: 0.8576486110687256\n",
      "File: 0859.png, Dice Coef: 0.7756242156028748, Jaccard Index: 0.6334856748580933\n",
      "File: 0145.png, Dice Coef: 0.6811622381210327, Jaccard Index: 0.5164872407913208\n",
      "File: 0205.png, Dice Coef: 0.8879134058952332, Jaccard Index: 0.7984212636947632\n"
     ]
    },
    {
     "name": "stderr",
     "output_type": "stream",
     "text": [
      "libpng warning: iCCP: known incorrect sRGB profile\n",
      "libpng warning: iCCP: known incorrect sRGB profile\n",
      "libpng warning: iCCP: known incorrect sRGB profile\n"
     ]
    },
    {
     "name": "stdout",
     "output_type": "stream",
     "text": [
      "File: 0315.png, Dice Coef: 0.9375869035720825, Jaccard Index: 0.8825070858001709\n",
      "File: 0007.png, Dice Coef: 0.7294241786003113, Jaccard Index: 0.574089765548706\n",
      "File: 1210.png, Dice Coef: 0.5201836228370667, Jaccard Index: 0.35151970386505127\n",
      "File: 1033.png, Dice Coef: 0.972418487071991, Jaccard Index: 0.9463176131248474\n",
      "File: 0343.png, Dice Coef: 0.686919629573822, Jaccard Index: 0.5231364965438843\n",
      "File: 1315.png, Dice Coef: 0.8793571591377258, Jaccard Index: 0.7846902012825012\n"
     ]
    },
    {
     "name": "stderr",
     "output_type": "stream",
     "text": [
      "libpng warning: iCCP: known incorrect sRGB profile\n"
     ]
    },
    {
     "name": "stdout",
     "output_type": "stream",
     "text": [
      "File: 0697.png, Dice Coef: 0.5795692801475525, Jaccard Index: 0.40802428126335144\n",
      "File: 0888.png, Dice Coef: 0.8853158950805664, Jaccard Index: 0.7942304611206055\n",
      "File: 0181.png, Dice Coef: 0.950901448726654, Jaccard Index: 0.9063987731933594\n",
      "File: 1253.png, Dice Coef: 0.9055261015892029, Jaccard Index: 0.8273621201515198\n",
      "File: 0992.png, Dice Coef: 0.9259406328201294, Jaccard Index: 0.8620946407318115\n",
      "File: 0420.png, Dice Coef: 0.9200193285942078, Jaccard Index: 0.8518850803375244\n"
     ]
    },
    {
     "name": "stderr",
     "output_type": "stream",
     "text": [
      "libpng warning: iCCP: known incorrect sRGB profile\n",
      "libpng warning: iCCP: known incorrect sRGB profile\n",
      "libpng warning: iCCP: known incorrect sRGB profile\n"
     ]
    },
    {
     "name": "stdout",
     "output_type": "stream",
     "text": [
      "File: 0388.png, Dice Coef: 0.8498175740242004, Jaccard Index: 0.7388548254966736\n",
      "File: 0796.png, Dice Coef: 0.8064356446266174, Jaccard Index: 0.6756534576416016\n",
      "File: 0167.png, Dice Coef: 0.7991477251052856, Jaccard Index: 0.6654840707778931\n",
      "File: 1232.png, Dice Coef: 0.6479994654655457, Jaccard Index: 0.4792897701263428\n",
      "File: 1262.png, Dice Coef: 0.9205045700073242, Jaccard Index: 0.8527174592018127\n",
      "File: 0908.png, Dice Coef: 0.5217167139053345, Jaccard Index: 0.3529212176799774\n"
     ]
    },
    {
     "name": "stderr",
     "output_type": "stream",
     "text": [
      "libpng warning: iCCP: known incorrect sRGB profile\n",
      "libpng warning: iCCP: known incorrect sRGB profile\n",
      "libpng warning: iCCP: known incorrect sRGB profile\n"
     ]
    },
    {
     "name": "stdout",
     "output_type": "stream",
     "text": [
      "File: 0700.png, Dice Coef: 0.9014673829078674, Jaccard Index: 0.8206105828285217\n",
      "File: 0631.png, Dice Coef: 0.5257816314697266, Jaccard Index: 0.3566519618034363\n",
      "File: 0805.png, Dice Coef: 0.8942084908485413, Jaccard Index: 0.8086593747138977\n",
      "File: 1169.png, Dice Coef: 0.9083101749420166, Jaccard Index: 0.8320223689079285\n",
      "File: 1082.png, Dice Coef: 0.918205976486206, Jaccard Index: 0.8487809300422668\n",
      "File: 1019.png, Dice Coef: 0.8947989344596863, Jaccard Index: 0.8096256852149963\n"
     ]
    },
    {
     "name": "stderr",
     "output_type": "stream",
     "text": [
      "libpng warning: iCCP: known incorrect sRGB profile\n",
      "libpng warning: iCCP: known incorrect sRGB profile\n",
      "libpng warning: iCCP: known incorrect sRGB profile\n",
      "libpng warning: iCCP: known incorrect sRGB profile\n"
     ]
    },
    {
     "name": "stdout",
     "output_type": "stream",
     "text": [
      "File: 0964.png, Dice Coef: 0.8568677306175232, Jaccard Index: 0.7495790719985962\n",
      "File: 0970.png, Dice Coef: 0.9063898921012878, Jaccard Index: 0.8288055062294006\n",
      "File: 0251.png, Dice Coef: 0.9504627585411072, Jaccard Index: 0.9056018590927124\n",
      "File: 0917.png, Dice Coef: 0.9084916710853577, Jaccard Index: 0.8323268890380859\n",
      "File: 0040.png, Dice Coef: 0.815097987651825, Jaccard Index: 0.6879035234451294\n",
      "File: 0227.png, Dice Coef: 0.8932003974914551, Jaccard Index: 0.8070119619369507\n"
     ]
    },
    {
     "name": "stderr",
     "output_type": "stream",
     "text": [
      "libpng warning: iCCP: known incorrect sRGB profile\n"
     ]
    },
    {
     "name": "stdout",
     "output_type": "stream",
     "text": [
      "File: 0510.png, Dice Coef: 0.8938773274421692, Jaccard Index: 0.8081178069114685\n",
      "File: 0688.png, Dice Coef: 0.814967691898346, Jaccard Index: 0.6877179145812988\n",
      "File: 1037.png, Dice Coef: 0.9454983472824097, Jaccard Index: 0.8966305255889893\n",
      "File: 0104.png, Dice Coef: 0.8296909928321838, Jaccard Index: 0.7089506983757019\n",
      "File: 1272.png, Dice Coef: 0.7953470349311829, Jaccard Index: 0.6602294445037842\n",
      "File: 0938.png, Dice Coef: 0.10713707655668259, Jaccard Index: 0.056601714342832565\n"
     ]
    },
    {
     "name": "stderr",
     "output_type": "stream",
     "text": [
      "libpng warning: iCCP: known incorrect sRGB profile\n"
     ]
    },
    {
     "name": "stdout",
     "output_type": "stream",
     "text": [
      "File: 0791.png, Dice Coef: 0.7976999282836914, Jaccard Index: 0.6634784936904907\n",
      "File: 0674.png, Dice Coef: 0.9330803155899048, Jaccard Index: 0.8745554685592651\n",
      "File: 0795.png, Dice Coef: 0.48223069310188293, Jaccard Index: 0.317724347114563\n",
      "File: 0650.png, Dice Coef: 0.44685882329940796, Jaccard Index: 0.2877137362957001\n",
      "File: 0824.png, Dice Coef: 0.8364259004592896, Jaccard Index: 0.7188421487808228\n",
      "File: 0370.png, Dice Coef: 0.06835590302944183, Jaccard Index: 0.03538813814520836\n",
      "File: 0166.png, Dice Coef: 0.8218536376953125, Jaccard Index: 0.6975822448730469\n",
      "File: 0171.png, Dice Coef: 0.9235123991966248, Jaccard Index: 0.857894241809845\n",
      "File: 0575.png, Dice Coef: 0.9032716751098633, Jaccard Index: 0.8236057758331299\n",
      "File: 0655.png, Dice Coef: 0.849077582359314, Jaccard Index: 0.7377368211746216\n",
      "File: 0915.png, Dice Coef: 0.8819049596786499, Jaccard Index: 0.7887570261955261\n",
      "File: 1022.png, Dice Coef: 0.9240235090255737, Jaccard Index: 0.8587767481803894\n"
     ]
    },
    {
     "name": "stderr",
     "output_type": "stream",
     "text": [
      "libpng warning: iCCP: known incorrect sRGB profile\n",
      "libpng warning: iCCP: known incorrect sRGB profile\n"
     ]
    },
    {
     "name": "stdout",
     "output_type": "stream",
     "text": [
      "File: 0228.png, Dice Coef: 0.8614567518234253, Jaccard Index: 0.7566308379173279\n",
      "File: 1035.png, Dice Coef: 0.7884461879730225, Jaccard Index: 0.6507731676101685\n",
      "File: 0847.png, Dice Coef: 0.6932268142700195, Jaccard Index: 0.5304878354072571\n",
      "File: 1202.png, Dice Coef: 0.9401817321777344, Jaccard Index: 0.8871160745620728\n",
      "File: 0363.png, Dice Coef: 0.040588121861219406, Jaccard Index: 0.02071559615433216\n",
      "File: 0234.png, Dice Coef: 0.826529860496521, Jaccard Index: 0.7043470740318298\n"
     ]
    },
    {
     "name": "stderr",
     "output_type": "stream",
     "text": [
      "libpng warning: iCCP: known incorrect sRGB profile\n",
      "libpng warning: iCCP: known incorrect sRGB profile\n"
     ]
    },
    {
     "name": "stdout",
     "output_type": "stream",
     "text": [
      "File: 0356.png, Dice Coef: 0.8813014030456543, Jaccard Index: 0.7877917885780334\n",
      "File: 0775.png, Dice Coef: 0.04133236035704613, Jaccard Index: 0.02110377699136734\n",
      "File: 1049.png, Dice Coef: 0.8536176681518555, Jaccard Index: 0.7446188926696777\n",
      "File: 1173.png, Dice Coef: 0.17190803587436676, Jaccard Index: 0.09403784573078156\n",
      "File: 0078.png, Dice Coef: 0.8363245129585266, Jaccard Index: 0.7186923623085022\n",
      "File: 0895.png, Dice Coef: 0.8671443462371826, Jaccard Index: 0.7654502987861633\n",
      "File: 1225.png, Dice Coef: 0.24161216616630554, Jaccard Index: 0.1374061405658722\n",
      "File: 0773.png, Dice Coef: 0.8928502798080444, Jaccard Index: 0.8064405918121338\n",
      "File: 0640.png, Dice Coef: 0.9562874436378479, Jaccard Index: 0.9162364602088928\n",
      "File: 0837.png, Dice Coef: 0.8296971321105957, Jaccard Index: 0.7089595794677734\n",
      "File: 0360.png, Dice Coef: 0.7925324440002441, Jaccard Index: 0.6563599109649658\n",
      "File: 0772.png, Dice Coef: 0.9528826475143433, Jaccard Index: 0.9100058078765869\n",
      "File: 0431.png, Dice Coef: 0.8613506555557251, Jaccard Index: 0.7564671635627747\n",
      "File: 0803.png, Dice Coef: 0.9366016387939453, Jaccard Index: 0.8807628154754639\n",
      "File: 0590.png, Dice Coef: 0.8428640961647034, Jaccard Index: 0.7284055948257446\n",
      "File: 0451.png, Dice Coef: 0.908687949180603, Jaccard Index: 0.8326566219329834\n",
      "File: 1310.png, Dice Coef: 0.8554757833480835, Jaccard Index: 0.7474513053894043\n",
      "File: 0364.png, Dice Coef: 0.8714091777801514, Jaccard Index: 0.7721216082572937\n"
     ]
    },
    {
     "name": "stderr",
     "output_type": "stream",
     "text": [
      "libpng warning: iCCP: known incorrect sRGB profile\n"
     ]
    },
    {
     "name": "stdout",
     "output_type": "stream",
     "text": [
      "File: 1183.png, Dice Coef: 0.8296181559562683, Jaccard Index: 0.7088442444801331\n",
      "File: 0740.png, Dice Coef: 0.07630909234285355, Jaccard Index: 0.03966909274458885\n",
      "File: 0477.png, Dice Coef: 0.7029902338981628, Jaccard Index: 0.542008638381958\n",
      "File: 1311.png, Dice Coef: 0.04359426721930504, Jaccard Index: 0.022284014150500298\n",
      "File: 1187.png, Dice Coef: 0.9146428108215332, Jaccard Index: 0.8427114486694336\n",
      "File: 0677.png, Dice Coef: 0.9187635183334351, Jaccard Index: 0.8497342467308044\n"
     ]
    },
    {
     "name": "stderr",
     "output_type": "stream",
     "text": [
      "libpng warning: iCCP: known incorrect sRGB profile\n",
      "libpng warning: iCCP: known incorrect sRGB profile\n"
     ]
    },
    {
     "name": "stdout",
     "output_type": "stream",
     "text": [
      "File: 1245.png, Dice Coef: 0.776528537273407, Jaccard Index: 0.6346930861473083\n",
      "File: 0144.png, Dice Coef: 0.8710745573043823, Jaccard Index: 0.7715965509414673\n",
      "File: 0459.png, Dice Coef: 0.8996450304985046, Jaccard Index: 0.8175956010818481\n",
      "File: 1066.png, Dice Coef: 0.8393232822418213, Jaccard Index: 0.7231329083442688\n",
      "File: 1024.png, Dice Coef: 0.8130434155464172, Jaccard Index: 0.6849818229675293\n",
      "File: 0601.png, Dice Coef: 0.8679296374320984, Jaccard Index: 0.7666751146316528\n"
     ]
    },
    {
     "name": "stderr",
     "output_type": "stream",
     "text": [
      "libpng warning: iCCP: known incorrect sRGB profile\n",
      "libpng warning: iCCP: known incorrect sRGB profile\n"
     ]
    },
    {
     "name": "stdout",
     "output_type": "stream",
     "text": [
      "File: 1248.png, Dice Coef: 0.9023709297180176, Jaccard Index: 0.8221092820167542\n",
      "File: 0468.png, Dice Coef: 0.4285024106502533, Jaccard Index: 0.2726719081401825\n",
      "File: 0638.png, Dice Coef: 0.9824716448783875, Jaccard Index: 0.9655472636222839\n",
      "File: 0147.png, Dice Coef: 0.3838166296482086, Jaccard Index: 0.23748384416103363\n",
      "File: 0444.png, Dice Coef: 0.8805779814720154, Jaccard Index: 0.786636471748352\n",
      "File: 0490.png, Dice Coef: 0.8432837128639221, Jaccard Index: 0.7290326952934265\n",
      "File: 1058.png, Dice Coef: 0.9472811818122864, Jaccard Index: 0.8998425602912903\n",
      "File: 0724.png, Dice Coef: 0.46735215187072754, Jaccard Index: 0.30493199825286865\n",
      "File: 0036.png, Dice Coef: 0.9059788584709167, Jaccard Index: 0.8281183838844299\n",
      "File: 1157.png, Dice Coef: 0.911588191986084, Jaccard Index: 0.8375400900840759\n",
      "File: 0491.png, Dice Coef: 0.857347309589386, Jaccard Index: 0.7503132224082947\n",
      "File: 0176.png, Dice Coef: 0.896690309047699, Jaccard Index: 0.8127278089523315\n"
     ]
    },
    {
     "name": "stderr",
     "output_type": "stream",
     "text": [
      "libpng warning: iCCP: known incorrect sRGB profile\n"
     ]
    },
    {
     "name": "stdout",
     "output_type": "stream",
     "text": [
      "File: 0599.png, Dice Coef: 0.3540213704109192, Jaccard Index: 0.21508333086967468\n",
      "File: 0350.png, Dice Coef: 0.793327808380127, Jaccard Index: 0.6574512124061584\n",
      "File: 1096.png, Dice Coef: 0.939346432685852, Jaccard Index: 0.8856298923492432\n",
      "File: 1292.png, Dice Coef: 0.8596490621566772, Jaccard Index: 0.753846287727356\n",
      "File: 0946.png, Dice Coef: 0.055614762008190155, Jaccard Index: 0.02860402502119541\n",
      "File: 0734.png, Dice Coef: 0.3729710280895233, Jaccard Index: 0.22923517227172852\n"
     ]
    },
    {
     "name": "stderr",
     "output_type": "stream",
     "text": [
      "libpng warning: iCCP: known incorrect sRGB profile\n",
      "libpng warning: iCCP: known incorrect sRGB profile\n"
     ]
    },
    {
     "name": "stdout",
     "output_type": "stream",
     "text": [
      "File: 0794.png, Dice Coef: 0.7971611022949219, Jaccard Index: 0.6627333164215088\n",
      "File: 1233.png, Dice Coef: 0.45918241143226624, Jaccard Index: 0.29801273345947266\n",
      "File: 0037.png, Dice Coef: 0.8962480425834656, Jaccard Index: 0.8120014667510986\n",
      "File: 0834.png, Dice Coef: 0.881207287311554, Jaccard Index: 0.7876414060592651\n",
      "File: 1003.png, Dice Coef: 0.34827402234077454, Jaccard Index: 0.2108556181192398\n",
      "File: 0447.png, Dice Coef: 0.7004384994506836, Jaccard Index: 0.538981020450592\n",
      "File: 1319.png, Dice Coef: 0.3050459623336792, Jaccard Index: 0.17997345328330994\n",
      "File: 1032.png, Dice Coef: 0.06315378844738007, Jaccard Index: 0.032607581466436386\n",
      "File: 1016.png, Dice Coef: 0.22939904034137726, Jaccard Index: 0.12956055998802185\n",
      "File: 1143.png, Dice Coef: 0.9285926818847656, Jaccard Index: 0.8667039275169373\n",
      "File: 0831.png, Dice Coef: 0.05453234538435936, Jaccard Index: 0.02803136594593525\n",
      "File: 0124.png, Dice Coef: 0.8981090784072876, Jaccard Index: 0.8150618076324463\n",
      "File: 0358.png, Dice Coef: 0.8880674242973328, Jaccard Index: 0.7986703515052795\n",
      "File: 0190.png, Dice Coef: 0.8792637586593628, Jaccard Index: 0.7845413684844971\n",
      "File: 1115.png, Dice Coef: 0.8383904695510864, Jaccard Index: 0.7217493057250977\n",
      "File: 0701.png, Dice Coef: 0.9477950930595398, Jaccard Index: 0.9007706046104431\n",
      "File: 0725.png, Dice Coef: 0.7725025415420532, Jaccard Index: 0.629331648349762\n",
      "File: 0326.png, Dice Coef: 0.9187882542610168, Jaccard Index: 0.8497766256332397\n",
      "File: 0889.png, Dice Coef: 0.8491360545158386, Jaccard Index: 0.7378252148628235\n",
      "File: 0592.png, Dice Coef: 0.05367490276694298, Jaccard Index: 0.02757897600531578\n",
      "File: 1048.png, Dice Coef: 0.8451375365257263, Jaccard Index: 0.731808066368103\n",
      "File: 1312.png, Dice Coef: 0.8336359262466431, Jaccard Index: 0.7147306203842163\n",
      "File: 0998.png, Dice Coef: 0.7448057532310486, Jaccard Index: 0.5933792591094971\n",
      "File: 0686.png, Dice Coef: 0.8825240731239319, Jaccard Index: 0.7897478938102722\n"
     ]
    },
    {
     "name": "stderr",
     "output_type": "stream",
     "text": [
      "libpng warning: iCCP: known incorrect sRGB profile\n",
      "libpng warning: iCCP: known incorrect sRGB profile\n",
      "libpng warning: iCCP: known incorrect sRGB profile\n"
     ]
    },
    {
     "name": "stdout",
     "output_type": "stream",
     "text": [
      "File: 1071.png, Dice Coef: 0.8258057832717896, Jaccard Index: 0.7032961249351501\n",
      "File: 0704.png, Dice Coef: 0.9492418169975281, Jaccard Index: 0.9033876061439514\n",
      "File: 0304.png, Dice Coef: 0.8625473380088806, Jaccard Index: 0.7583151459693909\n",
      "File: 0014.png, Dice Coef: 0.9001480340957642, Jaccard Index: 0.818426787853241\n",
      "File: 0871.png, Dice Coef: 0.9173488616943359, Jaccard Index: 0.8473172783851624\n",
      "File: 0979.png, Dice Coef: 0.6622839570045471, Jaccard Index: 0.4950861632823944\n"
     ]
    },
    {
     "name": "stderr",
     "output_type": "stream",
     "text": [
      "libpng warning: iCCP: known incorrect sRGB profile\n",
      "libpng warning: iCCP: known incorrect sRGB profile\n",
      "libpng warning: iCCP: known incorrect sRGB profile\n"
     ]
    },
    {
     "name": "stdout",
     "output_type": "stream",
     "text": [
      "File: 0116.png, Dice Coef: 0.8470419049263, Jaccard Index: 0.7346686124801636\n",
      "File: 0774.png, Dice Coef: 0.9062719941139221, Jaccard Index: 0.8286082744598389\n",
      "File: 0220.png, Dice Coef: 0.8109098672866821, Jaccard Index: 0.6819584965705872\n",
      "File: 0225.png, Dice Coef: 0.043846819549798965, Jaccard Index: 0.02241627871990204\n",
      "File: 0424.png, Dice Coef: 0.775825023651123, Jaccard Index: 0.633753776550293\n",
      "File: 0748.png, Dice Coef: 0.10975959897041321, Jaccard Index: 0.058067552745342255\n",
      "File: 1148.png, Dice Coef: 0.5596129298210144, Jaccard Index: 0.388516366481781\n",
      "File: 0584.png, Dice Coef: 0.9728636145591736, Jaccard Index: 0.9471611976623535\n",
      "File: 0556.png, Dice Coef: 0.7931779026985168, Jaccard Index: 0.657245397567749\n",
      "File: 1149.png, Dice Coef: 0.784583568572998, Jaccard Index: 0.6455267667770386\n",
      "File: 1289.png, Dice Coef: 0.0815027579665184, Jaccard Index: 0.04248376190662384\n",
      "File: 0717.png, Dice Coef: 0.7345594167709351, Jaccard Index: 0.5804775357246399\n"
     ]
    },
    {
     "name": "stderr",
     "output_type": "stream",
     "text": [
      "libpng warning: iCCP: known incorrect sRGB profile\n",
      "libpng warning: iCCP: known incorrect sRGB profile\n"
     ]
    },
    {
     "name": "stdout",
     "output_type": "stream",
     "text": [
      "File: 0173.png, Dice Coef: 0.5413729548454285, Jaccard Index: 0.37115296721458435\n",
      "File: 0823.png, Dice Coef: 0.8005792498588562, Jaccard Index: 0.667471706867218\n",
      "File: 1130.png, Dice Coef: 0.9502539038658142, Jaccard Index: 0.9052227735519409\n",
      "File: 0043.png, Dice Coef: 0.7944275736808777, Jaccard Index: 0.6589632034301758\n",
      "File: 0512.png, Dice Coef: 0.8401603102684021, Jaccard Index: 0.724376380443573\n",
      "File: 0430.png, Dice Coef: 0.9247896075248718, Jaccard Index: 0.8601011037826538\n"
     ]
    },
    {
     "name": "stderr",
     "output_type": "stream",
     "text": [
      "libpng warning: iCCP: known incorrect sRGB profile\n",
      "libpng warning: iCCP: known incorrect sRGB profile\n"
     ]
    },
    {
     "name": "stdout",
     "output_type": "stream",
     "text": [
      "File: 0501.png, Dice Coef: 0.813877284526825, Jaccard Index: 0.6861664652824402\n",
      "File: 1030.png, Dice Coef: 0.9820769429206848, Jaccard Index: 0.964785099029541\n",
      "File: 0952.png, Dice Coef: 0.785766065120697, Jaccard Index: 0.6471292972564697\n",
      "File: 0020.png, Dice Coef: 0.8978790640830994, Jaccard Index: 0.8146830797195435\n",
      "File: 0654.png, Dice Coef: 0.4857083261013031, Jaccard Index: 0.32075023651123047\n",
      "File: 0929.png, Dice Coef: 0.4570540189743042, Jaccard Index: 0.29622218012809753\n"
     ]
    },
    {
     "name": "stderr",
     "output_type": "stream",
     "text": [
      "libpng warning: iCCP: known incorrect sRGB profile\n",
      "libpng warning: iCCP: known incorrect sRGB profile\n"
     ]
    },
    {
     "name": "stdout",
     "output_type": "stream",
     "text": [
      "File: 1309.png, Dice Coef: 0.9304913282394409, Jaccard Index: 0.8700177669525146\n",
      "File: 1263.png, Dice Coef: 0.6179349422454834, Jaccard Index: 0.4471103847026825\n",
      "File: 1293.png, Dice Coef: 0.07598825544118881, Jaccard Index: 0.03949575871229172\n",
      "File: 0206.png, Dice Coef: 0.922204315662384, Jaccard Index: 0.8556393980979919\n",
      "File: 0177.png, Dice Coef: 0.7453180551528931, Jaccard Index: 0.5940297245979309\n",
      "File: 0770.png, Dice Coef: 0.8101125359535217, Jaccard Index: 0.6808314919471741\n",
      "File: 1277.png, Dice Coef: 0.9015885591506958, Jaccard Index: 0.8208115100860596\n",
      "File: 0801.png, Dice Coef: 0.9648717045783997, Jaccard Index: 0.932127833366394\n",
      "File: 1165.png, Dice Coef: 0.9137741327285767, Jaccard Index: 0.8412379622459412\n",
      "File: 1042.png, Dice Coef: 0.9447774291038513, Jaccard Index: 0.8953349590301514\n",
      "File: 0135.png, Dice Coef: 0.8292362689971924, Jaccard Index: 0.7082868218421936\n",
      "File: 1284.png, Dice Coef: 0.8823996186256409, Jaccard Index: 0.7895485758781433\n"
     ]
    },
    {
     "name": "stderr",
     "output_type": "stream",
     "text": [
      "libpng warning: iCCP: known incorrect sRGB profile\n",
      "libpng warning: iCCP: known incorrect sRGB profile\n"
     ]
    },
    {
     "name": "stdout",
     "output_type": "stream",
     "text": [
      "File: 0528.png, Dice Coef: 0.9406089186668396, Jaccard Index: 0.8878770470619202\n",
      "File: 0400.png, Dice Coef: 0.8936769366264343, Jaccard Index: 0.8077903985977173\n",
      "File: 1321.png, Dice Coef: 0.610802173614502, Jaccard Index: 0.43968018889427185\n",
      "File: 1159.png, Dice Coef: 0.8617756366729736, Jaccard Index: 0.7571228742599487\n",
      "File: 0108.png, Dice Coef: 0.8366264700889587, Jaccard Index: 0.719138503074646\n",
      "File: 0258.png, Dice Coef: 0.8713324069976807, Jaccard Index: 0.7720010876655579\n",
      "File: 0612.png, Dice Coef: 0.08359891176223755, Jaccard Index: 0.04362375661730766\n",
      "File: 1239.png, Dice Coef: 0.5277514457702637, Jaccard Index: 0.35846686363220215\n",
      "File: 0061.png, Dice Coef: 0.8969756960868835, Jaccard Index: 0.8131968379020691\n",
      "File: 0211.png, Dice Coef: 0.8748177886009216, Jaccard Index: 0.7774900197982788\n",
      "File: 0788.png, Dice Coef: 0.09264659881591797, Jaccard Index: 0.048574578016996384\n",
      "File: 0643.png, Dice Coef: 0.9503340721130371, Jaccard Index: 0.9053683280944824\n"
     ]
    },
    {
     "name": "stderr",
     "output_type": "stream",
     "text": [
      "libpng warning: iCCP: known incorrect sRGB profile\n"
     ]
    },
    {
     "name": "stdout",
     "output_type": "stream",
     "text": [
      "File: 0339.png, Dice Coef: 0.9067971110343933, Jaccard Index: 0.8294867873191833\n",
      "File: 0645.png, Dice Coef: 0.9496534466743469, Jaccard Index: 0.9041334986686707\n",
      "File: 0428.png, Dice Coef: 0.844963550567627, Jaccard Index: 0.7315474152565002\n",
      "File: 0890.png, Dice Coef: 0.8613676428794861, Jaccard Index: 0.7564933896064758\n",
      "File: 1223.png, Dice Coef: 0.9110623002052307, Jaccard Index: 0.836652398109436\n",
      "File: 1055.png, Dice Coef: 0.6788064241409302, Jaccard Index: 0.5137831568717957\n"
     ]
    },
    {
     "name": "stderr",
     "output_type": "stream",
     "text": [
      "libpng warning: iCCP: known incorrect sRGB profile\n"
     ]
    },
    {
     "name": "stdout",
     "output_type": "stream",
     "text": [
      "File: 0615.png, Dice Coef: 0.9353469014167786, Jaccard Index: 0.8785462379455566\n",
      "File: 0793.png, Dice Coef: 0.923919677734375, Jaccard Index: 0.858597457408905\n",
      "File: 1290.png, Dice Coef: 0.8672986626625061, Jaccard Index: 0.7656907439231873\n",
      "File: 0403.png, Dice Coef: 0.2649325132369995, Jaccard Index: 0.15269379317760468\n",
      "File: 1070.png, Dice Coef: 0.9444699287414551, Jaccard Index: 0.8947827219963074\n",
      "File: 0869.png, Dice Coef: 0.8263586163520813, Jaccard Index: 0.7040983438491821\n"
     ]
    },
    {
     "name": "stderr",
     "output_type": "stream",
     "text": [
      "libpng warning: iCCP: known incorrect sRGB profile\n",
      "libpng warning: iCCP: known incorrect sRGB profile\n",
      "libpng warning: iCCP: known incorrect sRGB profile\n",
      "libpng warning: iCCP: known incorrect sRGB profile\n"
     ]
    },
    {
     "name": "stdout",
     "output_type": "stream",
     "text": [
      "File: 0958.png, Dice Coef: 0.7831772565841675, Jaccard Index: 0.6436251997947693\n",
      "File: 0936.png, Dice Coef: 0.9171002507209778, Jaccard Index: 0.8468931913375854\n",
      "File: 0265.png, Dice Coef: 0.9063201546669006, Jaccard Index: 0.8286888003349304\n",
      "File: 0583.png, Dice Coef: 0.9071775674819946, Jaccard Index: 0.8301236033439636\n",
      "File: 0902.png, Dice Coef: 0.9176317453384399, Jaccard Index: 0.8478000164031982\n",
      "File: 1077.png, Dice Coef: 0.9712962508201599, Jaccard Index: 0.944194495677948\n",
      "File: 0541.png, Dice Coef: 0.41011491417884827, Jaccard Index: 0.2579531967639923\n",
      "File: 0395.png, Dice Coef: 0.8377049565315247, Jaccard Index: 0.7207337617874146\n",
      "File: 0179.png, Dice Coef: 0.7521128058433533, Jaccard Index: 0.602709174156189\n",
      "File: 0034.png, Dice Coef: 0.8775385618209839, Jaccard Index: 0.7817986011505127\n",
      "File: 0213.png, Dice Coef: 0.8457543849945068, Jaccard Index: 0.7327336668968201\n",
      "File: 1203.png, Dice Coef: 0.9096782803535461, Jaccard Index: 0.834321141242981\n"
     ]
    },
    {
     "name": "stderr",
     "output_type": "stream",
     "text": [
      "libpng warning: iCCP: known incorrect sRGB profile\n",
      "libpng warning: iCCP: known incorrect sRGB profile\n",
      "libpng warning: iCCP: known incorrect sRGB profile\n"
     ]
    },
    {
     "name": "stdout",
     "output_type": "stream",
     "text": [
      "File: 0606.png, Dice Coef: 0.8024506568908691, Jaccard Index: 0.6700776219367981\n",
      "File: 1283.png, Dice Coef: 0.6754623651504517, Jaccard Index: 0.5099610686302185\n",
      "File: 0953.png, Dice Coef: 0.8528527021408081, Jaccard Index: 0.7434554100036621\n",
      "File: 0123.png, Dice Coef: 0.16637994349002838, Jaccard Index: 0.09073937684297562\n",
      "File: 1207.png, Dice Coef: 0.9522669315338135, Jaccard Index: 0.908883273601532\n",
      "File: 0716.png, Dice Coef: 0.8568220138549805, Jaccard Index: 0.7495089769363403\n"
     ]
    },
    {
     "name": "stderr",
     "output_type": "stream",
     "text": [
      "libpng warning: iCCP: known incorrect sRGB profile\n",
      "libpng warning: iCCP: known incorrect sRGB profile\n",
      "libpng warning: iCCP: known incorrect sRGB profile\n"
     ]
    },
    {
     "name": "stdout",
     "output_type": "stream",
     "text": [
      "File: 0229.png, Dice Coef: 0.9055298566818237, Jaccard Index: 0.8273683786392212\n",
      "File: 0259.png, Dice Coef: 0.9387979507446289, Jaccard Index: 0.8846553564071655\n",
      "File: 0246.png, Dice Coef: 0.8163100481033325, Jaccard Index: 0.6896318793296814\n",
      "File: 0898.png, Dice Coef: 0.7977378368377686, Jaccard Index: 0.6635310649871826\n",
      "File: 0923.png, Dice Coef: 0.9272941946983337, Jaccard Index: 0.8644442558288574\n",
      "File: 0591.png, Dice Coef: 0.9121946692466736, Jaccard Index: 0.838564395904541\n"
     ]
    },
    {
     "name": "stderr",
     "output_type": "stream",
     "text": [
      "libpng warning: iCCP: known incorrect sRGB profile\n",
      "libpng warning: iCCP: known incorrect sRGB profile\n",
      "libpng warning: iCCP: known incorrect sRGB profile\n"
     ]
    },
    {
     "name": "stdout",
     "output_type": "stream",
     "text": [
      "File: 1065.png, Dice Coef: 0.8249045014381409, Jaccard Index: 0.7019895911216736\n",
      "File: 0550.png, Dice Coef: 0.639661967754364, Jaccard Index: 0.47022321820259094\n",
      "File: 0630.png, Dice Coef: 0.8756691217422485, Jaccard Index: 0.7788359522819519\n",
      "File: 0242.png, Dice Coef: 0.7955443859100342, Jaccard Index: 0.6605014801025391\n",
      "File: 0165.png, Dice Coef: 0.15862609446048737, Jaccard Index: 0.08614664524793625\n",
      "File: 0826.png, Dice Coef: 0.8450713753700256, Jaccard Index: 0.7317089438438416\n"
     ]
    },
    {
     "name": "stderr",
     "output_type": "stream",
     "text": [
      "libpng warning: iCCP: known incorrect sRGB profile\n",
      "libpng warning: iCCP: known incorrect sRGB profile\n"
     ]
    },
    {
     "name": "stdout",
     "output_type": "stream",
     "text": [
      "File: 0050.png, Dice Coef: 0.8432838916778564, Jaccard Index: 0.7290328741073608\n",
      "File: 0672.png, Dice Coef: 0.8609303832054138, Jaccard Index: 0.7558191418647766\n",
      "File: 0001.png, Dice Coef: 0.43122947216033936, Jaccard Index: 0.2748843729496002\n",
      "File: 0784.png, Dice Coef: 0.9809335470199585, Jaccard Index: 0.9625806212425232\n",
      "File: 0876.png, Dice Coef: 0.8949010372161865, Jaccard Index: 0.8097928762435913\n",
      "File: 0586.png, Dice Coef: 0.85872882604599, Jaccard Index: 0.7524322867393494\n",
      "File: 0161.png, Dice Coef: 0.935576319694519, Jaccard Index: 0.8789512515068054\n",
      "File: 0378.png, Dice Coef: 0.8679889440536499, Jaccard Index: 0.7667673826217651\n",
      "File: 0113.png, Dice Coef: 0.9370985627174377, Jaccard Index: 0.88164222240448\n",
      "File: 0707.png, Dice Coef: 0.06639260798692703, Jaccard Index: 0.03433750197291374\n",
      "File: 0863.png, Dice Coef: 0.8134704232215881, Jaccard Index: 0.6855883002281189\n",
      "File: 1116.png, Dice Coef: 0.9290086030960083, Jaccard Index: 0.867428719997406\n"
     ]
    },
    {
     "name": "stderr",
     "output_type": "stream",
     "text": [
      "libpng warning: iCCP: known incorrect sRGB profile\n"
     ]
    },
    {
     "name": "stdout",
     "output_type": "stream",
     "text": [
      "File: 0651.png, Dice Coef: 0.5847933888435364, Jaccard Index: 0.41322171688079834\n",
      "File: 0499.png, Dice Coef: 0.8566861152648926, Jaccard Index: 0.749301016330719\n",
      "File: 0489.png, Dice Coef: 0.8169589638710022, Jaccard Index: 0.6905587315559387\n",
      "File: 0215.png, Dice Coef: 0.8260646462440491, Jaccard Index: 0.7036715149879456\n",
      "File: 0778.png, Dice Coef: 0.9652279019355774, Jaccard Index: 0.9327927827835083\n",
      "File: 0880.png, Dice Coef: 0.8382670283317566, Jaccard Index: 0.7215663194656372\n"
     ]
    },
    {
     "name": "stderr",
     "output_type": "stream",
     "text": [
      "libpng warning: iCCP: known incorrect sRGB profile\n",
      "libpng warning: iCCP: known incorrect sRGB profile\n"
     ]
    },
    {
     "name": "stdout",
     "output_type": "stream",
     "text": [
      "File: 0473.png, Dice Coef: 0.8150306344032288, Jaccard Index: 0.6878075003623962\n",
      "File: 0639.png, Dice Coef: 0.8948072791099548, Jaccard Index: 0.8096393942832947\n",
      "File: 1100.png, Dice Coef: 0.9690025448799133, Jaccard Index: 0.9398691058158875\n",
      "File: 1215.png, Dice Coef: 0.5989937782287598, Jaccard Index: 0.42754751443862915\n",
      "File: 0657.png, Dice Coef: 0.3252558708190918, Jaccard Index: 0.19421297311782837\n"
     ]
    },
    {
     "name": "stderr",
     "output_type": "stream",
     "text": [
      "libpng warning: iCCP: known incorrect sRGB profile\n"
     ]
    },
    {
     "name": "stdout",
     "output_type": "stream",
     "text": [
      "File: 0722.png, Dice Coef: 0.8260326981544495, Jaccard Index: 0.7036251425743103\n",
      "File: 0648.png, Dice Coef: 0.9538408517837524, Jaccard Index: 0.9117552042007446\n",
      "File: 0359.png, Dice Coef: 0.8951124548912048, Jaccard Index: 0.8101391196250916\n",
      "File: 0636.png, Dice Coef: 0.8380662798881531, Jaccard Index: 0.7212687730789185\n",
      "File: 0720.png, Dice Coef: 0.5868825912475586, Jaccard Index: 0.4153112769126892\n",
      "File: 1180.png, Dice Coef: 0.8532114624977112, Jaccard Index: 0.7440007925033569\n",
      "File: 1084.png, Dice Coef: 0.8722538352012634, Jaccard Index: 0.773449182510376\n",
      "File: 0338.png, Dice Coef: 0.8484529852867126, Jaccard Index: 0.7367943525314331\n",
      "File: 0327.png, Dice Coef: 0.9245303273200989, Jaccard Index: 0.8596527576446533\n",
      "File: 0142.png, Dice Coef: 0.8000442385673523, Jaccard Index: 0.6667284369468689\n",
      "File: 0610.png, Dice Coef: 0.7592185735702515, Jaccard Index: 0.6118876934051514\n",
      "File: 0842.png, Dice Coef: 0.8348736763000488, Jaccard Index: 0.7165522575378418\n"
     ]
    },
    {
     "name": "stderr",
     "output_type": "stream",
     "text": [
      "libpng warning: iCCP: known incorrect sRGB profile\n"
     ]
    },
    {
     "name": "stdout",
     "output_type": "stream",
     "text": [
      "File: 0790.png, Dice Coef: 0.846987247467041, Jaccard Index: 0.7345864176750183\n",
      "File: 0175.png, Dice Coef: 0.4953799247741699, Jaccard Index: 0.3292398452758789\n",
      "File: 1266.png, Dice Coef: 0.7360531091690063, Jaccard Index: 0.5823453068733215\n",
      "File: 0434.png, Dice Coef: 0.9402016401290894, Jaccard Index: 0.8871514797210693\n",
      "File: 0231.png, Dice Coef: 0.9075758457183838, Jaccard Index: 0.8307909369468689\n",
      "File: 0413.png, Dice Coef: 0.6237627863883972, Jaccard Index: 0.4532385468482971\n"
     ]
    },
    {
     "name": "stderr",
     "output_type": "stream",
     "text": [
      "libpng warning: iCCP: known incorrect sRGB profile\n",
      "libpng warning: iCCP: known incorrect sRGB profile\n",
      "libpng warning: iCCP: known incorrect sRGB profile\n"
     ]
    },
    {
     "name": "stdout",
     "output_type": "stream",
     "text": [
      "File: 0989.png, Dice Coef: 0.8990834355354309, Jaccard Index: 0.8166682124137878\n",
      "File: 1045.png, Dice Coef: 0.8554879426956177, Jaccard Index: 0.7474698424339294\n",
      "File: 1172.png, Dice Coef: 0.7621043920516968, Jaccard Index: 0.615645706653595\n",
      "File: 0150.png, Dice Coef: 0.8558416366577148, Jaccard Index: 0.7480100393295288\n",
      "File: 0015.png, Dice Coef: 0.9298029541969299, Jaccard Index: 0.8688148260116577\n",
      "File: 0797.png, Dice Coef: 0.8821601271629333, Jaccard Index: 0.7891651391983032\n",
      "File: 0611.png, Dice Coef: 0.9135191440582275, Jaccard Index: 0.8408058285713196\n",
      "File: 0461.png, Dice Coef: 0.7756007313728333, Jaccard Index: 0.6334543824195862\n",
      "File: 0419.png, Dice Coef: 0.7414006590843201, Jaccard Index: 0.5890682339668274\n",
      "File: 0685.png, Dice Coef: 0.838235080242157, Jaccard Index: 0.721518874168396\n",
      "File: 1236.png, Dice Coef: 0.7565475702285767, Jaccard Index: 0.6084251999855042\n",
      "File: 1271.png, Dice Coef: 0.2698201835155487, Jaccard Index: 0.15594995021820068\n"
     ]
    },
    {
     "name": "stderr",
     "output_type": "stream",
     "text": [
      "libpng warning: iCCP: known incorrect sRGB profile\n",
      "libpng warning: iCCP: known incorrect sRGB profile\n",
      "libpng warning: iCCP: known incorrect sRGB profile\n"
     ]
    },
    {
     "name": "stdout",
     "output_type": "stream",
     "text": [
      "File: 0960.png, Dice Coef: 0.5031886100769043, Jaccard Index: 0.33617451786994934\n",
      "File: 0071.png, Dice Coef: 0.8934984803199768, Jaccard Index: 0.8074989318847656\n",
      "File: 0367.png, Dice Coef: 0.8201347589492798, Jaccard Index: 0.6951090693473816\n",
      "File: 0230.png, Dice Coef: 0.914607048034668, Jaccard Index: 0.8426507711410522\n",
      "File: 0004.png, Dice Coef: 0.8745592832565308, Jaccard Index: 0.7770819067955017\n",
      "File: 0199.png, Dice Coef: 0.8935585021972656, Jaccard Index: 0.8075968623161316\n"
     ]
    },
    {
     "name": "stderr",
     "output_type": "stream",
     "text": [
      "libpng warning: iCCP: known incorrect sRGB profile\n",
      "libpng warning: iCCP: known incorrect sRGB profile\n",
      "libpng warning: iCCP: known incorrect sRGB profile\n"
     ]
    },
    {
     "name": "stdout",
     "output_type": "stream",
     "text": [
      "File: 0822.png, Dice Coef: 0.8304698467254639, Jaccard Index: 0.7100886702537537\n",
      "File: 0634.png, Dice Coef: 0.9471853971481323, Jaccard Index: 0.899669885635376\n",
      "File: 0663.png, Dice Coef: 0.9833769202232361, Jaccard Index: 0.9672974944114685\n",
      "File: 0906.png, Dice Coef: 0.896509051322937, Jaccard Index: 0.8124300241470337\n",
      "File: 0681.png, Dice Coef: 0.5547276735305786, Jaccard Index: 0.38382285833358765\n",
      "File: 0072.png, Dice Coef: 0.911466658115387, Jaccard Index: 0.8373347520828247\n"
     ]
    },
    {
     "name": "stderr",
     "output_type": "stream",
     "text": [
      "libpng warning: iCCP: known incorrect sRGB profile\n",
      "libpng warning: iCCP: known incorrect sRGB profile\n"
     ]
    },
    {
     "name": "stdout",
     "output_type": "stream",
     "text": [
      "File: 0109.png, Dice Coef: 0.8574331402778625, Jaccard Index: 0.7504448294639587\n",
      "File: 0272.png, Dice Coef: 0.8413615226745605, Jaccard Index: 0.7261640429496765\n",
      "File: 1101.png, Dice Coef: 0.9095490574836731, Jaccard Index: 0.8341037034988403\n",
      "File: 0664.png, Dice Coef: 0.9167366027832031, Jaccard Index: 0.8462734222412109\n",
      "File: 0317.png, Dice Coef: 0.8874020576477051, Jaccard Index: 0.7975948452949524\n",
      "File: 0934.png, Dice Coef: 0.8793672919273376, Jaccard Index: 0.784706175327301\n"
     ]
    },
    {
     "name": "stderr",
     "output_type": "stream",
     "text": [
      "libpng warning: iCCP: known incorrect sRGB profile\n",
      "libpng warning: iCCP: known incorrect sRGB profile\n",
      "libpng warning: iCCP: known incorrect sRGB profile\n",
      "libpng warning: iCCP: known incorrect sRGB profile\n"
     ]
    },
    {
     "name": "stdout",
     "output_type": "stream",
     "text": [
      "File: 0743.png, Dice Coef: 0.9217165112495422, Jaccard Index: 0.8548000454902649\n",
      "File: 0238.png, Dice Coef: 0.8585138916969299, Jaccard Index: 0.7521021366119385\n",
      "File: 0820.png, Dice Coef: 0.8307287096977234, Jaccard Index: 0.7104672193527222\n",
      "File: 0156.png, Dice Coef: 0.5820847749710083, Jaccard Index: 0.41052231192588806\n",
      "File: 0075.png, Dice Coef: 0.8490492701530457, Jaccard Index: 0.7376941442489624\n",
      "File: 0433.png, Dice Coef: 0.827630341053009, Jaccard Index: 0.7059467434883118\n"
     ]
    },
    {
     "name": "stderr",
     "output_type": "stream",
     "text": [
      "libpng warning: iCCP: known incorrect sRGB profile\n",
      "libpng warning: iCCP: known incorrect sRGB profile\n",
      "libpng warning: iCCP: known incorrect sRGB profile\n",
      "libpng warning: iCCP: known incorrect sRGB profile\n"
     ]
    },
    {
     "name": "stdout",
     "output_type": "stream",
     "text": [
      "File: 0454.png, Dice Coef: 0.0423373319208622, Jaccard Index: 0.021627338603138924\n",
      "File: 0968.png, Dice Coef: 0.8637012243270874, Jaccard Index: 0.760100781917572\n",
      "File: 0024.png, Dice Coef: 0.8380309343338013, Jaccard Index: 0.7212163805961609\n",
      "File: 1013.png, Dice Coef: 0.3099757134914398, Jaccard Index: 0.183415949344635\n",
      "File: 0346.png, Dice Coef: 0.8546877503395081, Jaccard Index: 0.7462489008903503\n",
      "File: 0316.png, Dice Coef: 0.84142005443573, Jaccard Index: 0.7262513637542725\n"
     ]
    },
    {
     "name": "stderr",
     "output_type": "stream",
     "text": [
      "libpng warning: iCCP: known incorrect sRGB profile\n",
      "libpng warning: iCCP: known incorrect sRGB profile\n",
      "libpng warning: iCCP: known incorrect sRGB profile\n"
     ]
    },
    {
     "name": "stdout",
     "output_type": "stream",
     "text": [
      "File: 0025.png, Dice Coef: 0.8623222708702087, Jaccard Index: 0.7579672932624817\n",
      "File: 1050.png, Dice Coef: 0.8868662118911743, Jaccard Index: 0.796729326248169\n",
      "File: 1206.png, Dice Coef: 0.8640432953834534, Jaccard Index: 0.7606306672096252\n",
      "File: 0967.png, Dice Coef: 0.8355164527893066, Jaccard Index: 0.7174997925758362\n",
      "File: 0402.png, Dice Coef: 0.946393609046936, Jaccard Index: 0.8982422351837158\n",
      "File: 1133.png, Dice Coef: 0.8901816010475159, Jaccard Index: 0.8020967245101929\n"
     ]
    },
    {
     "name": "stderr",
     "output_type": "stream",
     "text": [
      "libpng warning: iCCP: known incorrect sRGB profile\n",
      "libpng warning: iCCP: known incorrect sRGB profile\n"
     ]
    },
    {
     "name": "stdout",
     "output_type": "stream",
     "text": [
      "File: 0567.png, Dice Coef: 0.8480515480041504, Jaccard Index: 0.7361890077590942\n",
      "File: 0197.png, Dice Coef: 0.8138589859008789, Jaccard Index: 0.6861404776573181\n",
      "File: 0963.png, Dice Coef: 0.9242596626281738, Jaccard Index: 0.859184980392456\n",
      "File: 1111.png, Dice Coef: 0.860619068145752, Jaccard Index: 0.7553393840789795\n",
      "File: 0885.png, Dice Coef: 0.8707419633865356, Jaccard Index: 0.7710747122764587\n",
      "File: 1220.png, Dice Coef: 0.9507315158843994, Jaccard Index: 0.9060899019241333\n"
     ]
    },
    {
     "name": "stderr",
     "output_type": "stream",
     "text": [
      "libpng warning: iCCP: known incorrect sRGB profile\n"
     ]
    },
    {
     "name": "stdout",
     "output_type": "stream",
     "text": [
      "File: 0390.png, Dice Coef: 0.843758225440979, Jaccard Index: 0.729742169380188\n",
      "File: 1098.png, Dice Coef: 0.4383903741836548, Jaccard Index: 0.28073039650917053\n",
      "File: 0344.png, Dice Coef: 0.9013739228248596, Jaccard Index: 0.82045578956604\n",
      "File: 0577.png, Dice Coef: 0.9552156329154968, Jaccard Index: 0.9142706990242004\n",
      "File: 0269.png, Dice Coef: 0.8838332891464233, Jaccard Index: 0.7918480634689331\n",
      "File: 1181.png, Dice Coef: 0.9371341466903687, Jaccard Index: 0.8817050457000732\n",
      "File: 1094.png, Dice Coef: 0.5082855820655823, Jaccard Index: 0.34073978662490845\n",
      "File: 0274.png, Dice Coef: 0.8915183544158936, Jaccard Index: 0.8042700886726379\n",
      "File: 1052.png, Dice Coef: 0.9581601023674011, Jaccard Index: 0.9196808338165283\n",
      "File: 0891.png, Dice Coef: 0.8573591113090515, Jaccard Index: 0.7503314018249512\n",
      "File: 0555.png, Dice Coef: 0.9185214042663574, Jaccard Index: 0.8493202328681946\n",
      "File: 0894.png, Dice Coef: 0.908450722694397, Jaccard Index: 0.8322581648826599\n"
     ]
    },
    {
     "name": "stderr",
     "output_type": "stream",
     "text": [
      "libpng warning: iCCP: known incorrect sRGB profile\n",
      "libpng warning: iCCP: known incorrect sRGB profile\n",
      "libpng warning: iCCP: known incorrect sRGB profile\n"
     ]
    },
    {
     "name": "stdout",
     "output_type": "stream",
     "text": [
      "File: 1031.png, Dice Coef: 0.7227100729942322, Jaccard Index: 0.5658157467842102\n",
      "File: 0653.png, Dice Coef: 0.5017666816711426, Jaccard Index: 0.33490610122680664\n",
      "File: 0947.png, Dice Coef: 0.6056221723556519, Jaccard Index: 0.43433210253715515\n",
      "File: 1106.png, Dice Coef: 0.9627295732498169, Jaccard Index: 0.9281375408172607\n",
      "File: 0406.png, Dice Coef: 0.6588836312294006, Jaccard Index: 0.49129530787467957\n",
      "File: 0545.png, Dice Coef: 0.8584445714950562, Jaccard Index: 0.7519957423210144\n"
     ]
    },
    {
     "name": "stderr",
     "output_type": "stream",
     "text": [
      "libpng warning: iCCP: known incorrect sRGB profile\n",
      "libpng warning: iCCP: known incorrect sRGB profile\n",
      "libpng warning: iCCP: known incorrect sRGB profile\n",
      "libpng warning: iCCP: known incorrect sRGB profile\n",
      "libpng warning: iCCP: known incorrect sRGB profile\n",
      "libpng warning: iCCP: known incorrect sRGB profile\n"
     ]
    },
    {
     "name": "stdout",
     "output_type": "stream",
     "text": [
      "File: 0080.png, Dice Coef: 0.8530221581459045, Jaccard Index: 0.7437130212783813\n",
      "File: 0398.png, Dice Coef: 0.9191882610321045, Jaccard Index: 0.8504610657691956\n",
      "File: 0866.png, Dice Coef: 0.8710646033287048, Jaccard Index: 0.771580696105957\n",
      "File: 1300.png, Dice Coef: 0.8960813879966736, Jaccard Index: 0.8117279410362244\n",
      "File: 0393.png, Dice Coef: 0.847370982170105, Jaccard Index: 0.7351640462875366\n",
      "File: 0329.png, Dice Coef: 0.7983856201171875, Jaccard Index: 0.6644278168678284\n"
     ]
    },
    {
     "name": "stderr",
     "output_type": "stream",
     "text": [
      "libpng warning: iCCP: known incorrect sRGB profile\n",
      "libpng warning: iCCP: known incorrect sRGB profile\n",
      "libpng warning: iCCP: known incorrect sRGB profile\n"
     ]
    },
    {
     "name": "stdout",
     "output_type": "stream",
     "text": [
      "File: 0723.png, Dice Coef: 0.8056671619415283, Jaccard Index: 0.6745753288269043\n",
      "File: 0146.png, Dice Coef: 0.7588616013526917, Jaccard Index: 0.6114242076873779\n",
      "File: 0861.png, Dice Coef: 0.9151317477226257, Jaccard Index: 0.8435419201850891\n",
      "File: 0892.png, Dice Coef: 0.9021614193916321, Jaccard Index: 0.8217616081237793\n",
      "File: 1200.png, Dice Coef: 0.8087204694747925, Jaccard Index: 0.6788673400878906\n",
      "File: 0786.png, Dice Coef: 0.8922758102416992, Jaccard Index: 0.805503785610199\n",
      "File: 0759.png, Dice Coef: 0.6692382097244263, Jaccard Index: 0.5028990507125854\n",
      "File: 0151.png, Dice Coef: 0.8893457055091858, Jaccard Index: 0.8007404208183289\n",
      "File: 1168.png, Dice Coef: 0.8012065887451172, Jaccard Index: 0.6683443784713745\n",
      "File: 0379.png, Dice Coef: 0.4952634274959564, Jaccard Index: 0.32913702726364136\n",
      "File: 0319.png, Dice Coef: 0.8960915207862854, Jaccard Index: 0.8117444515228271\n",
      "File: 0070.png, Dice Coef: 0.8817312121391296, Jaccard Index: 0.7884790301322937\n"
     ]
    },
    {
     "name": "stderr",
     "output_type": "stream",
     "text": [
      "libpng warning: iCCP: known incorrect sRGB profile\n",
      "libpng warning: iCCP: known incorrect sRGB profile\n",
      "libpng warning: iCCP: known incorrect sRGB profile\n",
      "libpng warning: iCCP: known incorrect sRGB profile\n",
      "libpng warning: iCCP: known incorrect sRGB profile\n"
     ]
    },
    {
     "name": "stdout",
     "output_type": "stream",
     "text": [
      "File: 0045.png, Dice Coef: 0.8287522792816162, Jaccard Index: 0.7075809836387634\n",
      "File: 0838.png, Dice Coef: 0.7626729011535645, Jaccard Index: 0.6163877248764038\n",
      "File: 0710.png, Dice Coef: 0.8903294801712036, Jaccard Index: 0.8023369312286377\n",
      "File: 0455.png, Dice Coef: 0.796591579914093, Jaccard Index: 0.6619468331336975\n",
      "File: 0741.png, Dice Coef: 0.8412958383560181, Jaccard Index: 0.7260661721229553\n",
      "File: 1177.png, Dice Coef: 0.3086942136287689, Jaccard Index: 0.18251876533031464\n"
     ]
    },
    {
     "name": "stderr",
     "output_type": "stream",
     "text": [
      "libpng warning: iCCP: known incorrect sRGB profile\n",
      "libpng warning: iCCP: known incorrect sRGB profile\n"
     ]
    },
    {
     "name": "stdout",
     "output_type": "stream",
     "text": [
      "File: 1029.png, Dice Coef: 0.04671069607138634, Jaccard Index: 0.023915007710456848\n",
      "File: 0263.png, Dice Coef: 0.9064715504646301, Jaccard Index: 0.828942060470581\n",
      "File: 0899.png, Dice Coef: 0.9228413105010986, Jaccard Index: 0.856736958026886\n",
      "File: 1235.png, Dice Coef: 0.8942704200744629, Jaccard Index: 0.8087606430053711\n",
      "File: 0089.png, Dice Coef: 0.8039858937263489, Jaccard Index: 0.6722212433815002\n",
      "File: 0052.png, Dice Coef: 0.8441346883773804, Jaccard Index: 0.7303056716918945\n"
     ]
    },
    {
     "name": "stderr",
     "output_type": "stream",
     "text": [
      "libpng warning: iCCP: known incorrect sRGB profile\n",
      "libpng warning: iCCP: known incorrect sRGB profile\n",
      "libpng warning: iCCP: known incorrect sRGB profile\n"
     ]
    },
    {
     "name": "stdout",
     "output_type": "stream",
     "text": [
      "File: 1204.png, Dice Coef: 0.8998836278915405, Jaccard Index: 0.8179896473884583\n",
      "File: 1103.png, Dice Coef: 0.274250864982605, Jaccard Index: 0.15891778469085693\n",
      "File: 0091.png, Dice Coef: 0.6497997641563416, Jaccard Index: 0.48126220703125\n",
      "File: 1237.png, Dice Coef: 0.8542575836181641, Jaccard Index: 0.745593249797821\n",
      "File: 1192.png, Dice Coef: 0.846784770488739, Jaccard Index: 0.7342818975448608\n",
      "File: 0068.png, Dice Coef: 0.51218581199646, Jaccard Index: 0.34425461292266846\n"
     ]
    },
    {
     "name": "stderr",
     "output_type": "stream",
     "text": [
      "libpng warning: iCCP: known incorrect sRGB profile\n",
      "libpng warning: iCCP: known incorrect sRGB profile\n",
      "libpng warning: iCCP: known incorrect sRGB profile\n"
     ]
    },
    {
     "name": "stdout",
     "output_type": "stream",
     "text": [
      "File: 0750.png, Dice Coef: 0.9116511344909668, Jaccard Index: 0.8376462459564209\n",
      "File: 0226.png, Dice Coef: 0.8797838091850281, Jaccard Index: 0.7853700518608093\n",
      "File: 0699.png, Dice Coef: 0.8540143966674805, Jaccard Index: 0.7452229261398315\n",
      "File: 0381.png, Dice Coef: 0.9364134669303894, Jaccard Index: 0.8804301023483276\n",
      "File: 0537.png, Dice Coef: 0.833723783493042, Jaccard Index: 0.7148598432540894\n",
      "File: 0806.png, Dice Coef: 0.9378929734230042, Jaccard Index: 0.8830495476722717\n",
      "File: 1113.png, Dice Coef: 0.8901420831680298, Jaccard Index: 0.8020325899124146\n",
      "File: 0521.png, Dice Coef: 0.8452498912811279, Jaccard Index: 0.7319766283035278\n",
      "File: 0019.png, Dice Coef: 0.9800313711166382, Jaccard Index: 0.9608446359634399\n",
      "File: 0058.png, Dice Coef: 0.867111086845398, Jaccard Index: 0.7653985619544983\n",
      "File: 0300.png, Dice Coef: 0.8826384544372559, Jaccard Index: 0.7899312376976013\n",
      "File: 0886.png, Dice Coef: 0.7917762398719788, Jaccard Index: 0.6553229093551636\n"
     ]
    },
    {
     "name": "stderr",
     "output_type": "stream",
     "text": [
      "libpng warning: iCCP: known incorrect sRGB profile\n"
     ]
    },
    {
     "name": "stdout",
     "output_type": "stream",
     "text": [
      "File: 0511.png, Dice Coef: 0.7349088788032532, Jaccard Index: 0.5809141397476196\n",
      "File: 0532.png, Dice Coef: 0.5692633986473083, Jaccard Index: 0.3978818655014038\n",
      "File: 1134.png, Dice Coef: 0.8817382454872131, Jaccard Index: 0.7884902358055115\n",
      "File: 1012.png, Dice Coef: 0.9274069666862488, Jaccard Index: 0.8646404147148132\n",
      "File: 0578.png, Dice Coef: 0.8572888374328613, Jaccard Index: 0.7502236366271973\n",
      "File: 0682.png, Dice Coef: 0.9226043224334717, Jaccard Index: 0.8563284873962402\n",
      "File: 0825.png, Dice Coef: 0.036118872463703156, Jaccard Index: 0.0183930192142725\n",
      "File: 0404.png, Dice Coef: 0.836513340473175, Jaccard Index: 0.7189715504646301\n",
      "File: 0595.png, Dice Coef: 0.8646618723869324, Jaccard Index: 0.7615898847579956\n",
      "File: 0739.png, Dice Coef: 0.21409179270267487, Jaccard Index: 0.11987936496734619\n",
      "File: 0331.png, Dice Coef: 0.8801637291908264, Jaccard Index: 0.7859755158424377\n",
      "File: 1051.png, Dice Coef: 0.8208696246147156, Jaccard Index: 0.6961655616760254\n"
     ]
    },
    {
     "name": "stderr",
     "output_type": "stream",
     "text": [
      "libpng warning: iCCP: known incorrect sRGB profile\n",
      "libpng warning: iCCP: known incorrect sRGB profile\n"
     ]
    },
    {
     "name": "stdout",
     "output_type": "stream",
     "text": [
      "File: 0005.png, Dice Coef: 0.8893086314201355, Jaccard Index: 0.8006805181503296\n",
      "File: 0257.png, Dice Coef: 0.7902027368545532, Jaccard Index: 0.6531698107719421\n",
      "File: 0436.png, Dice Coef: 0.6235116720199585, Jaccard Index: 0.45297330617904663\n",
      "File: 0112.png, Dice Coef: 0.5837314128875732, Jaccard Index: 0.41216209530830383\n",
      "File: 0962.png, Dice Coef: 0.836090087890625, Jaccard Index: 0.7183462977409363\n",
      "File: 0196.png, Dice Coef: 0.7131744623184204, Jaccard Index: 0.5542126297950745\n",
      "File: 0693.png, Dice Coef: 0.9707539081573486, Jaccard Index: 0.9431701302528381\n",
      "File: 1128.png, Dice Coef: 0.8432348966598511, Jaccard Index: 0.7289596199989319\n",
      "File: 0789.png, Dice Coef: 0.8631548881530762, Jaccard Index: 0.7592547535896301\n",
      "File: 1320.png, Dice Coef: 0.8436688780784607, Jaccard Index: 0.7296085953712463\n",
      "File: 0756.png, Dice Coef: 0.40177392959594727, Jaccard Index: 0.2513880431652069\n",
      "File: 1256.png, Dice Coef: 0.887532651424408, Jaccard Index: 0.7978057861328125\n",
      "File: 0250.png, Dice Coef: 0.6805787086486816, Jaccard Index: 0.5158163905143738\n",
      "File: 1069.png, Dice Coef: 0.7902913093566895, Jaccard Index: 0.653290867805481\n",
      "File: 0411.png, Dice Coef: 0.8312360644340515, Jaccard Index: 0.7112098932266235\n",
      "File: 0818.png, Dice Coef: 0.7545381188392639, Jaccard Index: 0.6058302521705627\n",
      "File: 0212.png, Dice Coef: 0.14987629652023315, Jaccard Index: 0.08100992441177368\n",
      "File: 0919.png, Dice Coef: 0.9317159056663513, Jaccard Index: 0.8721612095832825\n"
     ]
    },
    {
     "name": "stderr",
     "output_type": "stream",
     "text": [
      "libpng warning: iCCP: known incorrect sRGB profile\n",
      "libpng warning: iCCP: known incorrect sRGB profile\n",
      "libpng warning: iCCP: known incorrect sRGB profile\n",
      "libpng warning: iCCP: known incorrect sRGB profile\n"
     ]
    },
    {
     "name": "stdout",
     "output_type": "stream",
     "text": [
      "File: 0027.png, Dice Coef: 0.7970579862594604, Jaccard Index: 0.6625909209251404\n",
      "File: 0849.png, Dice Coef: 0.8316940665245056, Jaccard Index: 0.7118805646896362\n",
      "File: 0549.png, Dice Coef: 0.8052918910980225, Jaccard Index: 0.6740493178367615\n",
      "File: 0084.png, Dice Coef: 0.8416655659675598, Jaccard Index: 0.7266173362731934\n",
      "File: 0217.png, Dice Coef: 0.933151125907898, Jaccard Index: 0.8746801614761353\n",
      "File: 0758.png, Dice Coef: 0.8009378910064697, Jaccard Index: 0.6679705381393433\n"
     ]
    },
    {
     "name": "stderr",
     "output_type": "stream",
     "text": [
      "libpng warning: iCCP: known incorrect sRGB profile\n",
      "libpng warning: iCCP: known incorrect sRGB profile\n",
      "libpng warning: iCCP: known incorrect sRGB profile\n"
     ]
    },
    {
     "name": "stdout",
     "output_type": "stream",
     "text": [
      "File: 0604.png, Dice Coef: 0.6978346109390259, Jaccard Index: 0.5359036326408386\n",
      "File: 0561.png, Dice Coef: 0.6792749166488647, Jaccard Index: 0.514320433139801\n",
      "File: 0976.png, Dice Coef: 0.8591127991676331, Jaccard Index: 0.753022313117981\n",
      "File: 1295.png, Dice Coef: 0.924051821231842, Jaccard Index: 0.8588258028030396\n",
      "File: 0481.png, Dice Coef: 0.841762900352478, Jaccard Index: 0.7267623543739319\n",
      "File: 0526.png, Dice Coef: 0.8641058802604675, Jaccard Index: 0.76072758436203\n"
     ]
    },
    {
     "name": "stderr",
     "output_type": "stream",
     "text": [
      "libpng warning: iCCP: known incorrect sRGB profile\n",
      "libpng warning: iCCP: known incorrect sRGB profile\n"
     ]
    },
    {
     "name": "stdout",
     "output_type": "stream",
     "text": [
      "File: 0321.png, Dice Coef: 0.9014121890068054, Jaccard Index: 0.8205191493034363\n",
      "File: 0210.png, Dice Coef: 0.23518994450569153, Jaccard Index: 0.1332673579454422\n",
      "File: 0675.png, Dice Coef: 0.27836480736732483, Jaccard Index: 0.1616870015859604\n",
      "File: 0922.png, Dice Coef: 0.7347793579101562, Jaccard Index: 0.5807523727416992\n",
      "File: 0703.png, Dice Coef: 0.9487686157226562, Jaccard Index: 0.90253084897995\n",
      "File: 0943.png, Dice Coef: 0.35085853934288025, Jaccard Index: 0.21275316178798676\n"
     ]
    },
    {
     "name": "stderr",
     "output_type": "stream",
     "text": [
      "libpng warning: iCCP: known incorrect sRGB profile\n"
     ]
    },
    {
     "name": "stdout",
     "output_type": "stream",
     "text": [
      "File: 0254.png, Dice Coef: 0.8510168194770813, Jaccard Index: 0.740669846534729\n",
      "File: 1259.png, Dice Coef: 0.8727319240570068, Jaccard Index: 0.7742010354995728\n",
      "File: 1221.png, Dice Coef: 0.8418776392936707, Jaccard Index: 0.7269333004951477\n",
      "File: 0679.png, Dice Coef: 0.7928770780563354, Jaccard Index: 0.6568325161933899\n",
      "File: 0415.png, Dice Coef: 0.9178751707077026, Jaccard Index: 0.8482156991958618\n",
      "File: 0385.png, Dice Coef: 0.7820804119110107, Jaccard Index: 0.6421447992324829\n"
     ]
    },
    {
     "name": "stderr",
     "output_type": "stream",
     "text": [
      "libpng warning: iCCP: known incorrect sRGB profile\n"
     ]
    },
    {
     "name": "stdout",
     "output_type": "stream",
     "text": [
      "File: 0757.png, Dice Coef: 0.04002487659454346, Jaccard Index: 0.02042231895029545\n",
      "File: 1170.png, Dice Coef: 0.20220468938350677, Jaccard Index: 0.11247498542070389\n",
      "File: 0405.png, Dice Coef: 0.4940992295742035, Jaccard Index: 0.3281095325946808\n",
      "File: 0517.png, Dice Coef: 0.8525258898735046, Jaccard Index: 0.7429589033126831\n",
      "File: 0207.png, Dice Coef: 0.7892915606498718, Jaccard Index: 0.6519256234169006\n",
      "Average Dice Coefficient: 0.7780851125717163\n",
      "Average Jaccard Index: 0.676308810710907\n"
     ]
    }
   ],
   "source": [
    "import tensorflow as tf\n",
    "from tensorflow.keras import backend as K\n",
    "\n",
    "# Define directories\n",
    "original_masks_dir = '/kaggle/working/mask_renamed'\n",
    "segmented_masks_dir = '/kaggle/working/watershed_segmented_mask'\n",
    "\n",
    "def dice_coef(y_true, y_pred, smooth=1):\n",
    "    y_true_f = K.flatten(y_true)\n",
    "    y_pred_f = K.flatten(y_pred)\n",
    "    intersection = K.sum(y_true_f * y_pred_f)\n",
    "    dice = (2. * intersection + smooth) / (K.sum(y_true_f) + K.sum(y_pred_f) + smooth)\n",
    "    return dice\n",
    "\n",
    "def dice_coef_loss(y_true, y_pred):\n",
    "    return 1 - dice_coef(y_true, y_pred)\n",
    "\n",
    "def jaccard_index(y_true, y_pred, smooth=1):\n",
    "    y_true_f = K.flatten(y_true)\n",
    "    y_pred_f = K.flatten(y_pred)\n",
    "    intersection = K.sum(y_true_f * y_pred_f)\n",
    "    union = K.sum(y_true_f + y_pred_f) - intersection\n",
    "    iou = (intersection + smooth) / (union + smooth)\n",
    "    return iou\n",
    "\n",
    "# List files in both directories\n",
    "original_mask_files = [f for f in os.listdir(original_masks_dir) if f.endswith('.png')]\n",
    "segmented_mask_files = [f for f in os.listdir(segmented_masks_dir) if f.endswith('.png')]\n",
    "\n",
    "# Initialize metrics lists\n",
    "dice_scores = []\n",
    "jaccard_scores = []\n",
    "\n",
    "# Iterate through the mask files\n",
    "for mask_file in original_mask_files:\n",
    "    if mask_file in segmented_mask_files:\n",
    "        # Load original and segmented images\n",
    "        original_mask_path = os.path.join(original_masks_dir, mask_file)\n",
    "        segmented_mask_path = os.path.join(segmented_masks_dir, mask_file)\n",
    "        \n",
    "        original_mask = cv2.imread(original_mask_path, cv2.IMREAD_GRAYSCALE)\n",
    "        segmented_mask = cv2.imread(segmented_mask_path, cv2.IMREAD_GRAYSCALE)\n",
    "\n",
    "        # Binarize the masks (optional depending on your mask format)\n",
    "        original_mask = (original_mask > 0).astype(np.float32)\n",
    "        segmented_mask = (segmented_mask > 0).astype(np.float32)\n",
    "\n",
    "        # Convert to tensors\n",
    "        y_true = tf.convert_to_tensor(original_mask)\n",
    "        y_pred = tf.convert_to_tensor(segmented_mask)\n",
    "\n",
    "        # Calculate metrics\n",
    "        dice_score = dice_coef(y_true, y_pred).numpy()  # Convert tensor to numpy for display\n",
    "        jaccard_score = jaccard_index(y_true, y_pred).numpy()  # Convert tensor to numpy for display\n",
    "        \n",
    "        dice_scores.append(dice_score)\n",
    "        jaccard_scores.append(jaccard_score)\n",
    "        \n",
    "        print(f\"File: {mask_file}, Dice Coef: {dice_score}, Jaccard Index: {jaccard_score}\")\n",
    "\n",
    "# Optionally, calculate the average scores\n",
    "average_dice = np.mean(dice_scores)\n",
    "average_jaccard = np.mean(jaccard_scores)\n",
    "print(f\"Average Dice Coefficient: {average_dice}\")\n",
    "print(f\"Average Jaccard Index: {average_jaccard}\")"
   ]
  }
 ],
 "metadata": {
  "colab": {
   "provenance": []
  },
  "kaggle": {
   "accelerator": "nvidiaTeslaT4",
   "dataSources": [
    {
     "datasetId": 1112835,
     "sourceId": 1869341,
     "sourceType": "datasetVersion"
    },
    {
     "datasetId": 5694271,
     "sourceId": 9385326,
     "sourceType": "datasetVersion"
    }
   ],
   "dockerImageVersionId": 30761,
   "isGpuEnabled": true,
   "isInternetEnabled": false,
   "language": "python",
   "sourceType": "notebook"
  },
  "kernelspec": {
   "display_name": "Python 3",
   "language": "python",
   "name": "python3"
  },
  "language_info": {
   "codemirror_mode": {
    "name": "ipython",
    "version": 3
   },
   "file_extension": ".py",
   "mimetype": "text/x-python",
   "name": "python",
   "nbconvert_exporter": "python",
   "pygments_lexer": "ipython3",
   "version": "3.10.14"
  },
  "papermill": {
   "default_parameters": {},
   "duration": 263.70982,
   "end_time": "2024-09-23T10:52:59.355795",
   "environment_variables": {},
   "exception": null,
   "input_path": "__notebook__.ipynb",
   "output_path": "__notebook__.ipynb",
   "parameters": {},
   "start_time": "2024-09-23T10:48:35.645975",
   "version": "2.6.0"
  }
 },
 "nbformat": 4,
 "nbformat_minor": 5
}
